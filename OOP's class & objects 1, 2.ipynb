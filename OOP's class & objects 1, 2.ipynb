{
 "cells": [
  {
   "cell_type": "markdown",
   "id": "e17ffc68",
   "metadata": {},
   "source": [
    "# Python OOP's concepts"
   ]
  },
  {
   "cell_type": "markdown",
   "id": "ac06309d",
   "metadata": {},
   "source": [
    "## Main Concepts of Object-Oriented Programming (OOPs) \n",
    "\n",
    "1. Class\n",
    "2. Objects\n",
    "3. Polymorphism\n",
    "4. Encapsulation\n",
    "5. Inheritance\n",
    "6. Data Abstraction"
   ]
  },
  {
   "cell_type": "markdown",
   "id": "2bf799f1",
   "metadata": {},
   "source": [
    "## 1. What is a class ?"
   ]
  },
  {
   "cell_type": "markdown",
   "id": "4493d4fc",
   "metadata": {},
   "source": [
    "A class is a collection of objects. A class contains the blueprints or the prototype from which the objects are being created. It is a logical entity that contains some attributes and methods. \n",
    "\n",
    "Classes provide a means of bundling data and functionality together.Creating a new class creates a new type of object,allowing new instances of that type to be made. \n",
    "\n",
    "Each class instance can have attributes attached to it for maintaining\n",
    "its state. Class instances can also have methods (defined by its class) for modifying its state."
   ]
  },
  {
   "cell_type": "markdown",
   "id": "eecf05a2",
   "metadata": {},
   "source": [
    "Some points on Python class:"
   ]
  },
  {
   "cell_type": "markdown",
   "id": "07b50779",
   "metadata": {},
   "source": [
    "    Classes are created by keyword class.Attributes are the variables that belong to a class.\n",
    "\n",
    "    Attributes are always public and can be accessed using the dot (.) operator. \n",
    "    Eg : Myclass.Myattribute"
   ]
  },
  {
   "cell_type": "code",
   "execution_count": 2,
   "id": "15266fa7",
   "metadata": {},
   "outputs": [],
   "source": [
    "class Dog:\n",
    "    pass"
   ]
  },
  {
   "cell_type": "markdown",
   "id": "7c421d59",
   "metadata": {},
   "source": [
    "## 2. What is an object ?"
   ]
  },
  {
   "cell_type": "markdown",
   "id": "ac5f643a",
   "metadata": {},
   "source": [
    "The object is an entity that has a state and behavior associated with it. It may be any real-world object like a mouse, keyboard, chair, table, pen, etc. Integers, strings, floating-point numbers, even arrays, and dictionaries, are all objects. \n",
    "\n",
    "More specifically, any single integer or any single string is an object. The number 12 is an object, the string “Hello, world” is an object, a list is an object that can hold other objects, and so on. You’ve been using objects all along and may not even realize it.\n",
    "\n",
    "Objects can contain arbitrary amounts and kinds of data. As is true for modules, classes partake\n",
    "of the dynamic nature of Python: they are created at runtime, and can be modified further after creation."
   ]
  },
  {
   "cell_type": "markdown",
   "id": "36f4e5ca",
   "metadata": {},
   "source": [
    "An object consists of :\n",
    "\n",
    "State: It is represented by the attributes of an object. It also reflects the properties of an object.\n",
    "\n",
    "Behavior: It is represented by the methods of an object. It also reflects the response of an object to other objects.\n",
    "\n",
    "Identity: It gives a unique name to an object and enables one object to interact with other objects.\n",
    "\n",
    "To understand the state, behavior, and identity let us take the example of the class dog (explained above). \n",
    "\n",
    "    The identity can be considered as the name of the dog.\n",
    "\n",
    "    State or Attributes can be considered as the breed, age, or color of the dog.\n",
    "\n",
    "    The behavior can be considered as to whether the dog is eating or sleeping."
   ]
  },
  {
   "cell_type": "markdown",
   "id": "60ccf717",
   "metadata": {},
   "source": [
    "__any object created is stored in heap memory\n",
    "(be it built in objects or user defined objects)__\n",
    "\n",
    "every object has its own individuality in terms of attributes and its values"
   ]
  },
  {
   "cell_type": "code",
   "execution_count": 3,
   "id": "7052e65b",
   "metadata": {},
   "outputs": [],
   "source": [
    "class Computer:\n",
    "    pass\n",
    "\n",
    "c1 = Computer()\n",
    "c2 = Computer()\n",
    "#here c1 and c2 are objects of the type Computer class"
   ]
  },
  {
   "cell_type": "code",
   "execution_count": 4,
   "id": "3912e125",
   "metadata": {},
   "outputs": [],
   "source": [
    "class Computer:\n",
    "    \n",
    "    def config(self, cpu, ram):\n",
    "        self.cpu = cpu\n",
    "        self.ram = ram\n",
    "    \n",
    "    def display(self):\n",
    "        print(f\"Computer configuration {self.cpu}\"\n",
    "              f\"generation with {self.ram}gb\")    "
   ]
  },
  {
   "cell_type": "markdown",
   "id": "ecc7ea89",
   "metadata": {},
   "source": [
    "### memory allocation for objects\n",
    "when we create object only then the memory is allocated for the object\n",
    "it gets stored in heap memory\n",
    "not just the user defined objects but also built-in objects such as \n",
    "int, str, float so on\n",
    "\n",
    "__memory for class gets allocated after the creation of objects which in oops is known as INSTANTIATION based no of attributes and type of attributes__ constructor is clearly responsible for the allocation of memory to the class, when objects are created it calls init method, it initialises the values for object attributes thus it decides the memory"
   ]
  },
  {
   "cell_type": "code",
   "execution_count": 5,
   "id": "449bda94",
   "metadata": {},
   "outputs": [],
   "source": [
    "c1 = Computer()\n",
    "c2 = Computer()"
   ]
  },
  {
   "cell_type": "code",
   "execution_count": 6,
   "id": "d21be717",
   "metadata": {},
   "outputs": [],
   "source": [
    "# 1st way of calling a method is classobject.methodname(any parameters)\n",
    "c1.config(\"Ryzen\", 8)\n",
    "c2.config(\"i7\", 16)\n",
    "\n",
    "# or\n",
    "\n",
    "# 2nd way of calling a method is Classname.methodname(objectname, any para)\n",
    "Computer.config(c1, \"Ryzen\", 8) \n",
    "Computer.config(c2, \"i7\", 16)"
   ]
  },
  {
   "attachments": {
    "Screenshot%202022-12-25%20100742.jpg": {
     "image/jpeg": "[encoded data removed]"
    }
   },
   "cell_type": "markdown",
   "id": "0c104115",
   "metadata": {},
   "source": [
    "this shows the individuality between the objects\n",
    "![Screenshot%202022-12-25%20100742.jpg](attachment:Screenshot%202022-12-25%20100742.jpg)"
   ]
  },
  {
   "cell_type": "code",
   "execution_count": 7,
   "id": "d9034bdc",
   "metadata": {},
   "outputs": [
    {
     "name": "stdout",
     "output_type": "stream",
     "text": [
      "Computer configuration Ryzengeneration with 8gb\n",
      "Computer configuration Ryzengeneration with 8gb\n"
     ]
    }
   ],
   "source": [
    "c1.display()\n",
    "# or\n",
    "Computer.display(c1)"
   ]
  },
  {
   "cell_type": "code",
   "execution_count": 8,
   "id": "1b0baba5",
   "metadata": {},
   "outputs": [
    {
     "name": "stdout",
     "output_type": "stream",
     "text": [
      "Computer configuration i7generation with 16gb\n",
      "Computer configuration i7generation with 16gb\n"
     ]
    }
   ],
   "source": [
    "c2.display()\n",
    "# or\n",
    "Computer.display(c2)"
   ]
  },
  {
   "cell_type": "markdown",
   "id": "5f240398",
   "metadata": {},
   "source": [
    "### When we call it with class name\n",
    "Here in the above codes, passing of an object as parameter says that, its id gets attached to the self parameter.\n",
    "so it makes easy when we call a method using the class(apparently having many objects) with the self parameter"
   ]
  },
  {
   "cell_type": "markdown",
   "id": "025cf187",
   "metadata": {},
   "source": [
    "### When we call it with an object name\n",
    "Here in the above codes, calling a method using an object says that, objects address is stored in self parameter.\n",
    "so it makes easy when we call a method using the class(apparently having many objects) with the self parameter."
   ]
  },
  {
   "cell_type": "markdown",
   "id": "3f95ae36",
   "metadata": {},
   "source": [
    "### self parameter\n",
    "It is clear that self is a parameter that stores the address of the object\n",
    "which is very compulsory usage in defing any method in a class"
   ]
  },
  {
   "cell_type": "markdown",
   "id": "0a2b45a8",
   "metadata": {},
   "source": [
    "### passing an object as parameter for comparisons"
   ]
  },
  {
   "cell_type": "code",
   "execution_count": 9,
   "id": "12ab2d17",
   "metadata": {},
   "outputs": [],
   "source": [
    "class Computer:\n",
    "    \n",
    "    def config(self, cpu, ram):\n",
    "        self.cpu = cpu\n",
    "        self.ram = ram\n",
    "    \n",
    "    def display(self):\n",
    "        print(f\"Computer configuration {self.cpu}\"\n",
    "              f\"generation with {self.ram}gb\") \n",
    "    \n",
    "    def compare(self, c2):\n",
    "        print(f\"{self.cpu:^10}   {c2.cpu:^10}\")\n",
    "        print(f\"{self.ram:^10}   {c2.ram:^10}\")"
   ]
  },
  {
   "cell_type": "code",
   "execution_count": 10,
   "id": "69bf3497",
   "metadata": {},
   "outputs": [],
   "source": [
    "c1 = Computer() # here c1 is an object of class Computer\n",
    "                # also can say that it is reference to an object \n",
    "                # for class Computer\n",
    "c2 = Computer()"
   ]
  },
  {
   "cell_type": "code",
   "execution_count": 11,
   "id": "dfc89c42",
   "metadata": {},
   "outputs": [],
   "source": [
    "c1.config(\"Ryzen\", 8)\n",
    "c2.config(\"i7\", 16)"
   ]
  },
  {
   "cell_type": "code",
   "execution_count": 12,
   "id": "eec432ff",
   "metadata": {},
   "outputs": [
    {
     "name": "stdout",
     "output_type": "stream",
     "text": [
      "Computer configuration Ryzengeneration with 8gb\n",
      "Computer configuration i7generation with 16gb\n"
     ]
    }
   ],
   "source": [
    "c1.display()\n",
    "c2.display()"
   ]
  },
  {
   "cell_type": "markdown",
   "id": "cb0f71ca",
   "metadata": {},
   "source": [
    "here in the below code of calling compare method, we used c1 as the object to call upon the method compare with a parameter c2 object\n",
    "\n",
    "so self will have the address of c1, c2 will have the address of c2 object"
   ]
  },
  {
   "cell_type": "code",
   "execution_count": 13,
   "id": "d6857b03",
   "metadata": {},
   "outputs": [
    {
     "name": "stdout",
     "output_type": "stream",
     "text": [
      "  Ryzen          i7    \n",
      "    8            16    \n"
     ]
    }
   ],
   "source": [
    "c1.compare(c2) "
   ]
  },
  {
   "cell_type": "markdown",
   "id": "01d1ed9f",
   "metadata": {},
   "source": [
    "### what is __init__ method in python ?"
   ]
  },
  {
   "cell_type": "markdown",
   "id": "5e7f45d3",
   "metadata": {},
   "source": [
    "The Default __init__ Constructor in C++ and Java. Constructors are used to initializing the object’s state. The task of constructors is to initialize(assign values) to the data members of the class when an object of the class is created. Like methods, a constructor also contains a collection of statements(i.e. instructions) that are executed at the time of Object creation. It is run as soon as an object of a class is instantiated. The method is useful to do any initialization you want to do with your object.\n",
    "\n",
    "this method is called implicitely"
   ]
  },
  {
   "cell_type": "code",
   "execution_count": 14,
   "id": "ad24bacd",
   "metadata": {},
   "outputs": [
    {
     "name": "stdout",
     "output_type": "stream",
     "text": [
      "Hello, my name is Nikhil\n"
     ]
    }
   ],
   "source": [
    "# A Sample class with init method\n",
    "class Person:\n",
    "\n",
    "    # init method or constructor\n",
    "    def __init__(self, name):\n",
    "        self.name = name\n",
    "\n",
    "    # Sample Method\n",
    "    def say_hi(self):\n",
    "        print('Hello, my name is', self.name)\n",
    "\n",
    "p = Person('Nikhil')\n",
    "p.say_hi()"
   ]
  },
  {
   "cell_type": "markdown",
   "id": "71c3a060",
   "metadata": {},
   "source": [
    "### Understanding the code"
   ]
  },
  {
   "cell_type": "markdown",
   "id": "00916537",
   "metadata": {},
   "source": [
    "In the above example, a person name Nikhil is created. While creating a person, “Nikhil” is passed as an argument, this argument will be passed to the __init__ method to initialize the object. The keyword self represents the instance of a class and binds the attributes with the given arguments. Similarly, many objects of the Person class can be created by passing different names as arguments. Below is the example of init in python with parameters"
   ]
  },
  {
   "cell_type": "code",
   "execution_count": 15,
   "id": "f1d6f727",
   "metadata": {},
   "outputs": [
    {
     "name": "stdout",
     "output_type": "stream",
     "text": [
      "Hello, my name is Nikhil\n",
      "Hello, my name is Abhinav\n",
      "Hello, my name is Anshul\n"
     ]
    }
   ],
   "source": [
    "# A Sample class with init method\n",
    "class Person:\n",
    "\n",
    "    # init method or constructor\n",
    "    def __init__(self, name):\n",
    "        self.name = name\n",
    "\n",
    "    # Sample Method\n",
    "    def say_hi(self):\n",
    "        print('Hello, my name is', self.name)\n",
    "\n",
    "\n",
    "# Creating different objects\n",
    "p1 = Person('Nikhil')\n",
    "p2 = Person('Abhinav')\n",
    "p3 = Person('Anshul')\n",
    "\n",
    "p1.say_hi()\n",
    "p2.say_hi()\n",
    "p3.say_hi()"
   ]
  },
  {
   "cell_type": "markdown",
   "id": "b9bc32bb",
   "metadata": {},
   "source": [
    "### dynamic creation of attributes to specified objects"
   ]
  },
  {
   "cell_type": "code",
   "execution_count": 16,
   "id": "5c6e5783",
   "metadata": {},
   "outputs": [],
   "source": [
    "class Employee:\n",
    "    \n",
    "    def __init__(self, name, salary):\n",
    "        self.name = name\n",
    "        self.salary = salary\n",
    "    \n",
    "    def display(self):\n",
    "        print(self.name, self.salary)"
   ]
  },
  {
   "cell_type": "code",
   "execution_count": 17,
   "id": "2575714d",
   "metadata": {},
   "outputs": [],
   "source": [
    "e1 = Employee(\"Balaji\", 100000)"
   ]
  },
  {
   "cell_type": "code",
   "execution_count": 18,
   "id": "c1899784",
   "metadata": {},
   "outputs": [],
   "source": [
    "e2 = Employee(\"Jeeva\", 100000)"
   ]
  },
  {
   "cell_type": "code",
   "execution_count": 19,
   "id": "3b797aa3",
   "metadata": {},
   "outputs": [
    {
     "name": "stdout",
     "output_type": "stream",
     "text": [
      "Balaji 100000\n"
     ]
    }
   ],
   "source": [
    "e1.display()"
   ]
  },
  {
   "cell_type": "code",
   "execution_count": 20,
   "id": "349a61a3",
   "metadata": {},
   "outputs": [
    {
     "name": "stdout",
     "output_type": "stream",
     "text": [
      "Jeeva 100000\n"
     ]
    }
   ],
   "source": [
    "e2.display()"
   ]
  },
  {
   "cell_type": "code",
   "execution_count": 23,
   "id": "e46cefb2",
   "metadata": {},
   "outputs": [],
   "source": [
    "# this will help us to create new and a very particular attribute\n",
    "# for a specified object\n",
    "\n",
    "e1.abilities = \"Python\"\n",
    "\n",
    "# the above same attribute you won't find for e2 object\n",
    "\n",
    "e2.intern = \"Web development\"\n",
    "\n",
    "# same way intern attribute is only bounded to e2 object"
   ]
  },
  {
   "cell_type": "code",
   "execution_count": 24,
   "id": "d67cecf2",
   "metadata": {},
   "outputs": [
    {
     "ename": "AttributeError",
     "evalue": "'Employee' object has no attribute 'intern'",
     "output_type": "error",
     "traceback": [
      "\u001b[1;31m---------------------------------------------------------------------------\u001b[0m",
      "\u001b[1;31mAttributeError\u001b[0m                            Traceback (most recent call last)",
      "\u001b[1;32m~\\AppData\\Local\\Temp\\ipykernel_1496\\2589067510.py\u001b[0m in \u001b[0;36m<module>\u001b[1;34m\u001b[0m\n\u001b[0;32m      1\u001b[0m \u001b[1;31m#proof\u001b[0m\u001b[1;33m\u001b[0m\u001b[1;33m\u001b[0m\u001b[0m\n\u001b[1;32m----> 2\u001b[1;33m \u001b[0me1\u001b[0m\u001b[1;33m.\u001b[0m\u001b[0mintern\u001b[0m\u001b[1;33m\u001b[0m\u001b[1;33m\u001b[0m\u001b[0m\n\u001b[0m",
      "\u001b[1;31mAttributeError\u001b[0m: 'Employee' object has no attribute 'intern'"
     ]
    }
   ],
   "source": [
    "#proof\n",
    "e1.intern"
   ]
  },
  {
   "cell_type": "code",
   "execution_count": 25,
   "id": "3860155d",
   "metadata": {},
   "outputs": [
    {
     "ename": "AttributeError",
     "evalue": "'Employee' object has no attribute 'abilities'",
     "output_type": "error",
     "traceback": [
      "\u001b[1;31m---------------------------------------------------------------------------\u001b[0m",
      "\u001b[1;31mAttributeError\u001b[0m                            Traceback (most recent call last)",
      "\u001b[1;32m~\\AppData\\Local\\Temp\\ipykernel_1496\\1284023880.py\u001b[0m in \u001b[0;36m<module>\u001b[1;34m\u001b[0m\n\u001b[1;32m----> 1\u001b[1;33m \u001b[0me2\u001b[0m\u001b[1;33m.\u001b[0m\u001b[0mabilities\u001b[0m\u001b[1;33m\u001b[0m\u001b[1;33m\u001b[0m\u001b[0m\n\u001b[0m",
      "\u001b[1;31mAttributeError\u001b[0m: 'Employee' object has no attribute 'abilities'"
     ]
    }
   ],
   "source": [
    "e2.abilities"
   ]
  },
  {
   "cell_type": "markdown",
   "id": "eefc843f",
   "metadata": {},
   "source": [
    "## 2 types of attributes in OOPs python\n",
    "\n",
    "1. instance attributes\n",
    "2. class attributes"
   ]
  },
  {
   "cell_type": "markdown",
   "id": "603d4479",
   "metadata": {},
   "source": [
    "### 1. instance attributes"
   ]
  },
  {
   "cell_type": "markdown",
   "id": "268baa1d",
   "metadata": {},
   "source": [
    "Unlike class attributes, instance attributes are not shared by objects. Every object has its own copy of the instance attribute (In case of class attributes all object refer to single copy).\n",
    "\n",
    "To list the attributes of an instance/object, we have two functions:-\n",
    "1. vars()– This function displays the attribute of an instance in the form of an dictionary.\n",
    "2. dir()– This function displays more attributes than vars function,as it is not limited to instance. It displays the class attributes as well. It also displays the attributes of its ancestor classes."
   ]
  },
  {
   "cell_type": "code",
   "execution_count": 27,
   "id": "32802916",
   "metadata": {},
   "outputs": [
    {
     "name": "stdout",
     "output_type": "stream",
     "text": [
      "10 BMW\n",
      "10 BMW\n"
     ]
    }
   ],
   "source": [
    "class Car:\n",
    "    \n",
    "    def __init__(self):\n",
    "        self.mil = 10    # these 2 are called as INSTANCE attribute \n",
    "        self.com = \"BMW\" # because these 2 variables can be changed\n",
    "                         # dynamically,though they are constant here\n",
    "                         # using dynamic object attribute definition\n",
    "            \n",
    "c1 = Car()\n",
    "c2 = Car()\n",
    "print(c1.mil, c1.com)\n",
    "print(c2.mil, c2.com)"
   ]
  },
  {
   "cell_type": "code",
   "execution_count": 30,
   "id": "2dcab1b9",
   "metadata": {},
   "outputs": [],
   "source": [
    "c1.mil = 1000\n",
    "c2.com = \"Audi\" \n",
    "# we changed the values of the instance attribute\n",
    "# so they are named as INSTANCE attribute"
   ]
  },
  {
   "cell_type": "markdown",
   "id": "c1de7510",
   "metadata": {},
   "source": [
    "one object attribute values doesn't affect the other"
   ]
  },
  {
   "cell_type": "code",
   "execution_count": 31,
   "id": "7e280110",
   "metadata": {},
   "outputs": [
    {
     "name": "stdout",
     "output_type": "stream",
     "text": [
      "1000 BMW\n",
      "10 Audi\n"
     ]
    }
   ],
   "source": [
    "print(c1.mil, c1.com)\n",
    "print(c2.mil, c2.com)"
   ]
  },
  {
   "cell_type": "code",
   "execution_count": 32,
   "id": "1ceb030f",
   "metadata": {},
   "outputs": [
    {
     "name": "stdout",
     "output_type": "stream",
     "text": [
      "Dictionary form : {'name': 'xyz', 'salary': 4000}\n",
      "['__class__', '__delattr__', '__dict__', '__dir__', '__doc__', '__eq__', '__format__', '__ge__', '__getattribute__', '__gt__', '__hash__', '__init__', '__init_subclass__', '__le__', '__lt__', '__module__', '__ne__', '__new__', '__reduce__', '__reduce_ex__', '__repr__', '__setattr__', '__sizeof__', '__str__', '__subclasshook__', '__weakref__', 'name', 'salary', 'show']\n"
     ]
    }
   ],
   "source": [
    "# Python program to demonstrate\n",
    "# instance attributes.\n",
    "class emp:\n",
    "\tdef __init__(self):\n",
    "\t\tself.name = 'xyz'\n",
    "\t\tself.salary = 4000\n",
    "\n",
    "\tdef show(self):\n",
    "\t\tprint(self.name)\n",
    "\t\tprint(self.salary)\n",
    "\n",
    "e1 = emp()\n",
    "print(\"Dictionary form :\", vars(e1))\n",
    "print(dir(e1))"
   ]
  },
  {
   "cell_type": "markdown",
   "id": "4b735592",
   "metadata": {},
   "source": [
    "### 2. class attributes"
   ]
  },
  {
   "cell_type": "markdown",
   "id": "774fdade",
   "metadata": {},
   "source": [
    "Class attributes belong to the class itself they will be shared by all the instances. Such attributes are defined in the class body parts usually at the top, for legibility."
   ]
  },
  {
   "cell_type": "code",
   "execution_count": 33,
   "id": "7571f250",
   "metadata": {},
   "outputs": [
    {
     "name": "stdout",
     "output_type": "stream",
     "text": [
      "1\n",
      "2\n",
      "2\n"
     ]
    }
   ],
   "source": [
    "# Write Python code here\n",
    "class sampleclass:\n",
    "\tcount = 0\t # class attribute\n",
    "\n",
    "\tdef increase(self):\n",
    "\t\tsampleclass.count += 1\n",
    "\n",
    "# Calling increase() on an object\n",
    "s1 = sampleclass()\n",
    "s1.increase()\t\t\n",
    "print(s1.count)\n",
    "\n",
    "# Calling increase on one more\n",
    "# object\n",
    "s2 = sampleclass()\n",
    "s2.increase()\n",
    "print(s2.count)\n",
    "\n",
    "print(sampleclass.count)"
   ]
  },
  {
   "cell_type": "code",
   "execution_count": 48,
   "id": "21e0a476",
   "metadata": {},
   "outputs": [],
   "source": [
    "class Car:\n",
    "    \n",
    "    wheels = 4\n",
    "    \n",
    "    def __init__(self):\n",
    "        self.mil = 10    # these 2 are called as INSTANCE attribute \n",
    "        self.com = \"BMW\""
   ]
  },
  {
   "cell_type": "code",
   "execution_count": 49,
   "id": "a6aabf95",
   "metadata": {},
   "outputs": [],
   "source": [
    "c1 = Car()\n",
    "c2 = Car()"
   ]
  },
  {
   "cell_type": "code",
   "execution_count": 50,
   "id": "495d4a18",
   "metadata": {},
   "outputs": [
    {
     "name": "stdout",
     "output_type": "stream",
     "text": [
      "BMW 10 4\n",
      "BMW 10 4\n"
     ]
    }
   ],
   "source": [
    "# to access the class attribute you have 2 ways\n",
    "# c1.wheels()\n",
    "# 1st is object name\n",
    "print(c1.com, c1.mil, Car.wheels)\n",
    "\n",
    "# 2nd is class name\n",
    "print(c1.com, c1.mil, Car.wheels)"
   ]
  },
  {
   "cell_type": "code",
   "execution_count": 40,
   "id": "3754b458",
   "metadata": {},
   "outputs": [],
   "source": [
    "# class name is more preferable\n",
    "# as class attributes are shared with all the objects of the class\n",
    "# it doesn't make sense with object name"
   ]
  },
  {
   "cell_type": "markdown",
   "id": "26e31cb8",
   "metadata": {},
   "source": [
    "### namespace"
   ]
  },
  {
   "cell_type": "markdown",
   "id": "4849f43d",
   "metadata": {},
   "source": [
    "namespace is an area where you create and store object/variable"
   ]
  },
  {
   "cell_type": "markdown",
   "id": "5e9ef862",
   "metadata": {},
   "source": [
    "There are 2 namespaces in OOP's:"
   ]
  },
  {
   "cell_type": "markdown",
   "id": "ccebacec",
   "metadata": {},
   "source": [
    "1. class namespace : this is where class attributes/varibales are stored\n",
    "   \n",
    "   \n",
    "2. instance/object namespace : this is where instance attributes are stored"
   ]
  },
  {
   "cell_type": "markdown",
   "id": "3463ace1",
   "metadata": {},
   "source": [
    "### what if you try to change a class attribute upon an object ?"
   ]
  },
  {
   "cell_type": "markdown",
   "id": "442badf8",
   "metadata": {},
   "source": [
    "basically all the class attributes are stored in class namespace\n",
    "when it is tried to change the value of a class attribute using\n",
    "an object, \n",
    "the value is changed as well as its namespace also gets changed to attribute namespace"
   ]
  },
  {
   "cell_type": "code",
   "execution_count": 46,
   "id": "f9209512",
   "metadata": {},
   "outputs": [
    {
     "data": {
      "text/plain": [
       "mappingproxy({'__module__': '__main__',\n",
       "              'wheels': 4,\n",
       "              '__init__': <function __main__.Car.__init__(self)>,\n",
       "              '__dict__': <attribute '__dict__' of 'Car' objects>,\n",
       "              '__weakref__': <attribute '__weakref__' of 'Car' objects>,\n",
       "              '__doc__': None})"
      ]
     },
     "execution_count": 46,
     "metadata": {},
     "output_type": "execute_result"
    }
   ],
   "source": [
    "vars(Car) # here wheels has a class attribute wheels = 4"
   ]
  },
  {
   "cell_type": "code",
   "execution_count": 53,
   "id": "79de3dc1",
   "metadata": {},
   "outputs": [
    {
     "data": {
      "text/plain": [
       "{'mil': 10, 'com': 'BMW'}"
      ]
     },
     "execution_count": 53,
     "metadata": {},
     "output_type": "execute_result"
    }
   ],
   "source": [
    "vars(c1) \n",
    "# here it is clear that c1 object has no wheels since it belongs to class"
   ]
  },
  {
   "cell_type": "code",
   "execution_count": 55,
   "id": "b68dbcea",
   "metadata": {},
   "outputs": [
    {
     "data": {
      "text/plain": [
       "10"
      ]
     },
     "execution_count": 55,
     "metadata": {},
     "output_type": "execute_result"
    }
   ],
   "source": [
    "# now lets try to change the value of wheels using object\n",
    "c1.wheels = 10\n",
    "c1.wheels\n",
    "# this would have changed the namespace of the wheels class attribute to\n",
    "# instance attribute namespace"
   ]
  },
  {
   "cell_type": "code",
   "execution_count": 58,
   "id": "f39204ee",
   "metadata": {},
   "outputs": [
    {
     "data": {
      "text/plain": [
       "{'mil': 10, 'com': 'BMW', 'wheels': 10}"
      ]
     },
     "execution_count": 58,
     "metadata": {},
     "output_type": "execute_result"
    }
   ],
   "source": [
    "# proof\n",
    "vars(c1)"
   ]
  },
  {
   "cell_type": "code",
   "execution_count": 61,
   "id": "3db90572",
   "metadata": {},
   "outputs": [
    {
     "data": {
      "text/plain": [
       "{'mil': 10, 'com': 'BMW'}"
      ]
     },
     "execution_count": 61,
     "metadata": {},
     "output_type": "execute_result"
    }
   ],
   "source": [
    "# the difference from both the objects is class attribute for c1 instance\n",
    "# is moved to instance attribute not for c2, c2 still doesn't have an \n",
    "# instance attribute called wheels\n",
    "vars(c2)"
   ]
  },
  {
   "cell_type": "code",
   "execution_count": 62,
   "id": "b5c5e934",
   "metadata": {},
   "outputs": [],
   "source": [
    "class sampleclass:\n",
    "\tcount = 0\t # class attribute in class attribute namespace\n",
    "\n",
    "\tdef increase(self):\n",
    "\t\tsampleclass.count += 1 # instance attribute in instance attribute\n",
    "#                                namespace"
   ]
  },
  {
   "cell_type": "markdown",
   "id": "b6d18371",
   "metadata": {},
   "source": [
    "## 2 types of methods in OOPs"
   ]
  },
  {
   "cell_type": "markdown",
   "id": "540bb0d9",
   "metadata": {},
   "source": [
    "1. class methods\n",
    "2. instance methods"
   ]
  },
  {
   "cell_type": "markdown",
   "id": "4b45de7f",
   "metadata": {},
   "source": [
    "#### 1. class methods"
   ]
  },
  {
   "cell_type": "markdown",
   "id": "f9dce82c",
   "metadata": {},
   "source": [
    "The idea of a class method is very similar to an instance method, only difference being that instead of passing the instance hiddenly as a first parameter, we're now passing the class itself as a first parameter.\n",
    "without a self keyword.\n",
    "\n",
    "and can be called using classname.methodname()\n"
   ]
  },
  {
   "cell_type": "code",
   "execution_count": 7,
   "id": "127f996e",
   "metadata": {},
   "outputs": [],
   "source": [
    "class Car:\n",
    "    c = 10\n",
    "    def display():\n",
    "        print(\"Hello\", Car.c)"
   ]
  },
  {
   "cell_type": "code",
   "execution_count": 8,
   "id": "2a024f50",
   "metadata": {},
   "outputs": [
    {
     "name": "stdout",
     "output_type": "stream",
     "text": [
      "Hello 10\n"
     ]
    }
   ],
   "source": [
    "Car.display()"
   ]
  },
  {
   "cell_type": "markdown",
   "id": "26ffe793",
   "metadata": {},
   "source": [
    "__2. instance methods__"
   ]
  },
  {
   "cell_type": "markdown",
   "id": "29fe5bfd",
   "metadata": {},
   "source": [
    "When creating an instance method, the first parameter is always self. You can name it anything you want, but the meaning will always be the same, and you should use self since it's the naming convention. self is (usually) passed hiddenly when calling an instance method; it represents the instance calling the method."
   ]
  },
  {
   "cell_type": "code",
   "execution_count": 5,
   "id": "d5216702",
   "metadata": {},
   "outputs": [],
   "source": [
    "class Inst:\n",
    "\n",
    "    def __init__(self, name):\n",
    "        self.name = name\n",
    "\n",
    "    def introduce(self):\n",
    "        print(\"Hello\")"
   ]
  },
  {
   "cell_type": "markdown",
   "id": "664918c7",
   "metadata": {},
   "source": [
    "Now to call this method, we first need to create an instance of our class. Once we have an instance, we can call introduce() on it, and the instance will automatically be passed as self:"
   ]
  },
  {
   "cell_type": "code",
   "execution_count": 6,
   "id": "95cd468b",
   "metadata": {},
   "outputs": [
    {
     "name": "stdout",
     "output_type": "stream",
     "text": [
      "Hello\n",
      "Hello\n"
     ]
    }
   ],
   "source": [
    "myinst = Inst(\"Test Instance\")\n",
    "otherinst = Inst(\"An other instance\")\n",
    "myinst.introduce()\n",
    "# outputs: Hello, I am <Inst object at x>, and my name is Test Instance\n",
    "otherinst.introduce()\n",
    "# outputs: Hello, I am <Inst object at y>, and my name is An other instance"
   ]
  },
  {
   "cell_type": "markdown",
   "id": "78d9fd44",
   "metadata": {},
   "source": [
    "As you see, we're not passing the parameter self. It gets hiddenly passed with the period operator. We're calling Inst class's instance method introduce, with the parameter of myinst or otherinst. This means that we can call Inst.introduce(myinst) and get the exact same result."
   ]
  },
  {
   "cell_type": "markdown",
   "id": "51f2d62d",
   "metadata": {},
   "source": []
  }
 ],
 "metadata": {
  "kernelspec": {
   "display_name": "Python 3 (ipykernel)",
   "language": "python",
   "name": "python3"
  },
  "language_info": {
   "codemirror_mode": {
    "name": "ipython",
    "version": 3
   },
   "file_extension": ".py",
   "mimetype": "text/x-python",
   "name": "python",
   "nbconvert_exporter": "python",
   "pygments_lexer": "ipython3",
   "version": "3.9.13"
  }
 },
 "nbformat": 4,
 "nbformat_minor": 5
}
