{
  "nbformat": 4,
  "nbformat_minor": 0,
  "metadata": {
    "colab": {
      "provenance": []
    },
    "kernelspec": {
      "name": "python3",
      "display_name": "Python 3"
    },
    "language_info": {
      "name": "python"
    }
  },
  "cells": [
    {
      "cell_type": "code",
      "execution_count": null,
      "metadata": {
        "id": "EkHLz7xcNH2r"
      },
      "outputs": [],
      "source": [
        "def is_prime(n):\n",
        "  i = 2\n",
        "  while i * i <= n:\n",
        "    if n % i == 0:\n",
        "      return False\n",
        "    i += 1\n",
        "  return True"
      ]
    },
    {
      "cell_type": "code",
      "source": [
        "is_prime(17)"
      ],
      "metadata": {
        "id": "Xdwc3PTy0lPP"
      },
      "execution_count": null,
      "outputs": []
    },
    {
      "cell_type": "code",
      "source": [
        "def primes(start, end):\n",
        "  p = 2\n",
        "  count = 0\n",
        "  primes = list(False if i == 0 or i == 1 else True for i in range(end + 1))\n",
        "  while p * p <= end:\n",
        "    if primes[p]:\n",
        "      for i in range(p * p, end + 1, p):\n",
        "        primes[i] = False\n",
        "    p += 1\n",
        "  print(\"Primes are\", end=\" \")\n",
        "  for p in range(start, end + 1):\n",
        "    if primes[p]:\n",
        "      print(p, end=\" \")\n",
        "      count += 1\n",
        "  print(\"\\nTotal number of primes between\", start, \"and\", end, \"are\", count)"
      ],
      "metadata": {
        "id": "nu1-lP8TNZAF"
      },
      "execution_count": null,
      "outputs": []
    },
    {
      "cell_type": "code",
      "source": [
        "primes(0, 20)"
      ],
      "metadata": {
        "colab": {
          "base_uri": "https://localhost:8080/"
        },
        "id": "BDnL1tbhOhFf",
        "outputId": "78deb219-8d66-486a-b4eb-85ac98d77cd4"
      },
      "execution_count": null,
      "outputs": [
        {
          "output_type": "stream",
          "name": "stdout",
          "text": [
            "Primes are 2 3 5 7 11 13 17 19 \n",
            "Total number of primes between 0 and 20 are 8\n"
          ]
        }
      ]
    },
    {
      "cell_type": "code",
      "source": [],
      "metadata": {
        "id": "K1AjAdBEPHRr"
      },
      "execution_count": null,
      "outputs": []
    }
  ]
}