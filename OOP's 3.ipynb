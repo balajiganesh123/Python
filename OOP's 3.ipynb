{
  "cells": [
    {
      "cell_type": "markdown",
      "id": "8d697902",
      "metadata": {
        "id": "8d697902"
      },
      "source": [
        "# Polymorphism\n",
        "    POLY - many\n",
        "    MORPHISM - forms\n",
        "    \n",
        "   One thing takes multiple forms\n",
        "__4 ways of implementing polymorphism in Python:__\n",
        "1. Duck Typing\n",
        "2. Operator overloading\n",
        "3. Method overloading\n",
        "4. Method overriding\n",
        "\n",
        "## 1. Duck Typing\n",
        "\n",
        "Duck Typing is a type system used in dynamic languages. For example, Python, Perl, Ruby, PHP, Javascript, etc. where the type or the class of an object is less important than the method it defines. Using Duck Typing, we do not check types at all. Instead, we check for the presence of a given method or attribute.\n",
        "\n",
        "for more info - https://www.geeksforgeeks.org/duck-typing-in-python/"
      ]
    },
    {
      "cell_type": "markdown",
      "source": [
        "__This python notebook include a full closure on polymorphism__"
      ],
      "metadata": {
        "id": "WGbUBEvcFnHS"
      },
      "id": "WGbUBEvcFnHS"
    },
    {
      "cell_type": "code",
      "execution_count": null,
      "id": "a99cdd12",
      "metadata": {
        "id": "a99cdd12"
      },
      "outputs": [],
      "source": [
        "# Python program to demonstrate\n",
        "# duck typing\n",
        "\n",
        "class Specialstring:\n",
        "\tdef __len__(self):\n",
        "\t\treturn 21\n",
        "\n",
        "# Driver's code\n",
        "if __name__ == \"__main__\":\n",
        "\n",
        "\tstring = Specialstring()\n",
        "\tprint(len(string))"
      ]
    },
    {
      "cell_type": "markdown",
      "id": "2e48fab9",
      "metadata": {
        "id": "2e48fab9"
      },
      "source": [
        "In this case, we call method len() gives the return value from __len__ method. Here __len__ method defines the property of the class Specialstring\n",
        "\n",
        "The object’s type itself is not significant in this we do not declare the argument in method prototypes. This means that compilers can not do type-checking. Therefore, what really matters is if the object has particular attributes at run time. Duck typing is hence implemented by dynamic languages. But now some of the static languages like Haskell also supports it. But, Java/C# doesn’t have this ability yet."
      ]
    },
    {
      "cell_type": "code",
      "execution_count": null,
      "id": "1e32a484",
      "metadata": {
        "id": "1e32a484"
      },
      "outputs": [],
      "source": [
        "# Python program to demonstrate\n",
        "# duck typing\n",
        "\n",
        "\n",
        "class Bird:\n",
        "\tdef fly(self):\n",
        "\t\tprint(\"fly with wings\")\n",
        "\n",
        "class Airplane:\n",
        "\tdef fly(self):\n",
        "\t\tprint(\"fly with fuel\")\n",
        "\n",
        "class Fish:\n",
        "\tdef swim(self):\n",
        "\t\tprint(\"fish swim in sea\")\n",
        "\n",
        "# Attributes having same name are\n",
        "# considered as duck typing\n",
        "for obj in Bird(), Airplane(), Fish():\n",
        "\tobj.fly()"
      ]
    },
    {
      "cell_type": "markdown",
      "id": "c363cd8a",
      "metadata": {
        "id": "c363cd8a"
      },
      "source": [
        "In this example, we can see a class supports some method we can modify it or give them new functionality. Duck-typing emphasis what the object can really do, rather than what the object is."
      ]
    },
    {
      "cell_type": "markdown",
      "id": "5b4d4e71",
      "metadata": {
        "id": "5b4d4e71"
      },
      "source": [
        "# Identifier naming conventions in Python"
      ]
    },
    {
      "cell_type": "markdown",
      "id": "3f7f3ed7",
      "metadata": {
        "id": "3f7f3ed7"
      },
      "source": [
        "__class names__\n",
        "- start with an Uppercase alphabet(PascalCase)\n",
        "           Ex : Employee, Fruit, Complex\n",
        "           \n",
        "__Private identifiers__\n",
        "- Identifiers which we want should be accessed only from within the class.\n",
        "- They are declared with starting 2 leading underscores(__)\n",
        "           Ex : __name, __age, __get_errors()\n",
        "               \n",
        "__Protected identifiers__\n",
        "- Identifiers which we want should be accessed only from within the class in which they are declared or from the classes that are derived from the class using a concept called inheritance\n",
        "- start with leading underscore(_)\n",
        "           Ex : _name, _age, _get_errors()\n",
        "           \n",
        "__Public identifiers__\n",
        "- Identifiers which we want should be accessed from within the class as well as outside the class.\n",
        "- start with a lowercase alphabet\n",
        "           Ex : name, age, get_error()"
      ]
    },
    {
      "cell_type": "markdown",
      "id": "a79f6d70",
      "metadata": {
        "id": "a79f6d70"
      },
      "source": [
        "## 2. Operator overloading"
      ]
    },
    {
      "cell_type": "markdown",
      "id": "0b592a41",
      "metadata": {
        "id": "0b592a41"
      },
      "source": [
        "- Operator Overloading means giving extended meaning beyond their predefined operational meaning.\n",
        "- For example operator + is used to add two integers as well as join two strings and merge two lists. It is achievable because ‘+’ operator is overloaded by int class and str class. \n",
        "- You might have noticed that the same built-in operator or function shows different behavior for objects of different classes, this is called Operator Overloading. \n",
        "\n",
        "for more info - https://www.geeksforgeeks.org/operator-overloading-in-python/"
      ]
    },
    {
      "cell_type": "raw",
      "id": "e3188cd4",
      "metadata": {
        "id": "e3188cd4"
      },
      "source": [
        "Arithmetic operators :\n",
        "\n",
        "+          - __add__(self, other)\n",
        "-          - __sub__(self, other)\n",
        "*          - __mul__(self, other)\n",
        "/          - __add__(self, other)\n",
        "%          - __add__(self, other)\n",
        "**         - __add__(self, other)\n",
        "//         - __floordiv__(self, other)\n",
        "\n",
        "comparison operators :\n",
        "\n",
        "<          - __lt__(self, other)\n",
        ">          - __gt__(self, other)\n",
        "<=         - __le__(self, other)\n",
        ">=         - __ge__(self, other)\n",
        "==         - __eq__(self, other)\n",
        "!=         - __ne__(self, other)\n",
        "\n",
        "compound assignment operators :\n",
        "\n",
        "=              __isub__(self, other)\n",
        "+=             __iadd__(self, other)\n",
        "*=             __imul__(self, other) \n",
        "/=             __idiv__(self, other)\n",
        "//=            __ifloordiv__(self, other)\n",
        "%=             __imod__(self, other)\n",
        "**=            __ipow__(self, other)"
      ]
    },
    {
      "cell_type": "markdown",
      "id": "d5529326",
      "metadata": {
        "id": "d5529326"
      },
      "source": [
        "__How to overload the operators in Python?__ "
      ]
    },
    {
      "cell_type": "markdown",
      "id": "225f3a66",
      "metadata": {
        "id": "225f3a66"
      },
      "source": [
        "- Consider that we have two objects which are a physical representation of a class (user-defined data type) and we have to add two objects with binary ‘+’ operator it throws an error, because compiler don’t know how to add two objects. \n",
        "- So we define a method for an operator and that process is called operator overloading. We can overload all existing operators but we can’t create a new operator. \n",
        "- To perform operator overloading, Python provides some special function or magic function that is automatically invoked when it is associated with that particular operator. \n",
        "- For example, when we use + operator, the magic method __ __add__ __ is automatically invoked in which the operation for + operator is defined."
      ]
    },
    {
      "cell_type": "markdown",
      "id": "25525861",
      "metadata": {
        "id": "25525861"
      },
      "source": [
        "__Overloading binary + operator in Python:__ \n",
        "\n",
        "- When we use an operator on user-defined data types then automatically a special function or magic function associated with that operator is invoked. \n",
        "- Changing the behavior of operator is as simple as changing the behavior of a method or function. \n",
        "- You define methods in your class and operators work according to that behavior defined in methods. \n",
        "- When we use + operator, the magic method ____add____ is automatically invoked in which the operation for + operator is defined. Thereby changing this magic method’s code, we can give extra meaning to the + operator. "
      ]
    },
    {
      "cell_type": "markdown",
      "id": "5cdd7fcb",
      "metadata": {
        "id": "5cdd7fcb"
      },
      "source": [
        "__How Does the Operator Overloading Actually work?__\n",
        "\n",
        "Whenever you change the behavior of the existing operator through operator overloading, you have to redefine the special function that is invoked automatically when the operator is used with the objects. "
      ]
    },
    {
      "cell_type": "code",
      "execution_count": null,
      "id": "ab40822a",
      "metadata": {
        "id": "ab40822a"
      },
      "outputs": [],
      "source": [
        "# Python Program illustrate how\n",
        "# to overload an binary + operator\n",
        "# And how it actually works\n",
        "\n",
        "class A:\n",
        "\tdef __init__(self, a):\n",
        "\t\tself.a = a\n",
        "\n",
        "\t# adding two objects\n",
        "\tdef __add__(self, o):\n",
        "\t\treturn self.a + o.a\n",
        "ob1 = A(1)\n",
        "ob2 = A(2)\n",
        "ob3 = A(\"Geeks\")\n",
        "ob4 = A(\"For\")\n",
        "\n",
        "print(ob1 + ob2)\n",
        "print(ob3 + ob4)\n",
        "# Actual working when Binary Operator is used.\n",
        "print(A.__add__(ob1 , ob2))\n",
        "print(A.__add__(ob3,ob4))\n",
        "#And can also be Understand as :\n",
        "print(ob1.__add__(ob2))\n",
        "print(ob3.__add__(ob4))"
      ]
    },
    {
      "cell_type": "markdown",
      "id": "472ffe3b",
      "metadata": {
        "id": "472ffe3b"
      },
      "source": [
        "Here, We defined the special function “__add__( )”  and when the objects ob1 and ob2 are coded as “ob1 + ob2“, the special function is automatically called as ob1.__add__(ob2) which simply means that ob1 calls the __add__( ) function with ob2 as an Argument and It actually means A .__add__(ob1, ob2). Hence, when the Binary operator is overloaded, the object before the operator calls the respective function with object after operator as parameter."
      ]
    },
    {
      "cell_type": "code",
      "execution_count": null,
      "id": "b59dc841",
      "metadata": {
        "id": "b59dc841"
      },
      "outputs": [],
      "source": [
        "# Python Program to perform addition\n",
        "# of two complex numbers using binary\n",
        "# + operator overloading.\n",
        "\n",
        "class complex:\n",
        "\tdef __init__(self, a, b):\n",
        "\t\tself.a = a\n",
        "\t\tself.b = b\n",
        "\n",
        "\t# adding two objects\n",
        "\tdef __add__(self, other):\n",
        "\t\treturn self.a + other.a, self.b + other.b\n",
        "\n",
        "Ob1 = complex(1, 2)\n",
        "Ob2 = complex(2, 3)\n",
        "Ob3 = Ob1 + Ob2\n",
        "print(Ob3)"
      ]
    },
    {
      "cell_type": "markdown",
      "id": "eaefbc8c",
      "metadata": {
        "id": "eaefbc8c"
      },
      "source": [
        "__Python magic methods or special functions for operator overloading__"
      ]
    },
    {
      "cell_type": "markdown",
      "id": "0b26e808",
      "metadata": {
        "id": "0b26e808"
      },
      "source": [
        "# 3. Method overloading\n",
        "# Function overloading\n",
        "\n",
        "Two or more methods have the same name but different numbers of parameters or different types of parameters, or both. These methods are called overloaded methods and this is called method overloading. \n",
        "\n",
        "Like other languages (for example, method overloading in C++) do, python does not support method overloading by default. But there are different ways to achieve method overloading in Python. \n",
        "\n",
        "__The problem with method overloading in Python is that we may overload the methods but can only use the latest defined method.__\n",
        "\n",
        "for more info - https://www.geeksforgeeks.org/python-method-overloading/"
      ]
    },
    {
      "cell_type": "code",
      "execution_count": null,
      "id": "58b7f870",
      "metadata": {
        "id": "58b7f870"
      },
      "outputs": [],
      "source": [
        "# First product method.\n",
        "# Takes two argument and print their\n",
        "# product\n",
        "\n",
        "\n",
        "def product(a, b):\n",
        "\tp = a * b\n",
        "\tprint(p)\n",
        "\n",
        "# Second product method\n",
        "# Takes three argument and print their\n",
        "# product\n",
        "\n",
        "\n",
        "def product(a, b, c):\n",
        "\tp = a * b*c\n",
        "\tprint(p)\n",
        "\n",
        "# Uncommenting the below line shows an error\n",
        "# product(4, 5)\n",
        "\n",
        "\n",
        "# This line will call the second product method\n",
        "product(4, 5, 5)"
      ]
    },
    {
      "cell_type": "markdown",
      "id": "ad8aef0a",
      "metadata": {
        "id": "ad8aef0a"
      },
      "source": [
        "In the above code, we have defined two product methmethodst we can only use the second product method, as python does not support method overloading. We may define many methods of the same name and different arguments, but we can only use the latest defined method. Calling the other method will produce an error. Like here calling product(4,5) will produce an error as the latest defined product method takes three arguments.\n",
        "\n",
        "Thus, to overcome the above problem we can use different ways to achieve the method overloading."
      ]
    },
    {
      "cell_type": "markdown",
      "id": "d76de02b",
      "metadata": {
        "id": "d76de02b"
      },
      "source": [
        "__By Using Multiple Dispatch Decorator__ \n",
        "\n",
        "Multiple Dispatch Decorator Can be installed by: \n",
        "\n",
        "pip install multipledispatch"
      ]
    },
    {
      "cell_type": "code",
      "execution_count": null,
      "id": "3f4280ab",
      "metadata": {
        "id": "3f4280ab",
        "outputId": "2de906fb-77f1-411d-e1de-3ebcd08ec47e"
      },
      "outputs": [
        {
          "name": "stdout",
          "output_type": "stream",
          "text": [
            "Requirement already satisfied: multipledispatch in c:\\users\\balaj\\anaconda3\\lib\\site-packages (0.6.0)\n",
            "Requirement already satisfied: six in c:\\users\\balaj\\anaconda3\\lib\\site-packages (from multipledispatch) (1.16.0)\n",
            "Note: you may need to restart the kernel to use updated packages.\n"
          ]
        }
      ],
      "source": [
        "pip install multipledispatch"
      ]
    },
    {
      "cell_type": "code",
      "execution_count": null,
      "id": "2cc680bc",
      "metadata": {
        "id": "2cc680bc",
        "outputId": "e952ac05-9efd-44a7-d10b-92e12f4ad7ea"
      },
      "outputs": [
        {
          "name": "stdout",
          "output_type": "stream",
          "text": [
            "6\n",
            "12\n",
            "17.204\n"
          ]
        }
      ],
      "source": [
        "from multipledispatch import dispatch\n",
        "\n",
        "# passing one parameter\n",
        "\n",
        "\n",
        "@dispatch(int, int)\n",
        "def product(first, second):\n",
        "\tresult = first*second\n",
        "\tprint(result)\n",
        "\n",
        "# passing two parameters\n",
        "\n",
        "\n",
        "@dispatch(int, int, int)\n",
        "def product(first, second, third):\n",
        "\tresult = first * second * third\n",
        "\tprint(result)\n",
        "\n",
        "# you can also pass data type of any value as per requirement\n",
        "\n",
        "\n",
        "@dispatch(float, float, float)\n",
        "def product(first, second, third):\n",
        "\tresult = first * second * third\n",
        "\tprint(result)\n",
        "\n",
        "\n",
        "# calling product method with 2 arguments\n",
        "product(2, 3) # this will give output of 6\n",
        "\n",
        "# calling product method with 3 arguments but all int\n",
        "product(2, 3, 2) # this will give output of 12\n",
        "\n",
        "# calling product method with 3 arguments but all float\n",
        "product(2.2, 3.4, 2.3) # this will give output of 17.985999999999997"
      ]
    },
    {
      "cell_type": "markdown",
      "id": "b5510228",
      "metadata": {
        "id": "b5510228"
      },
      "source": [
        "In Backend, Dispatcher creates an object which stores different implementation and on runtime, it selects the appropriate method as the type and number of parameters passed."
      ]
    },
    {
      "cell_type": "code",
      "execution_count": null,
      "id": "c268dff2",
      "metadata": {
        "id": "c268dff2",
        "outputId": "230d6230-5d33-466a-f1a8-8221d2eabe7f"
      },
      "outputs": [
        {
          "name": "stdout",
          "output_type": "stream",
          "text": [
            "89\n",
            "180\n",
            "247\n",
            "325\n"
          ]
        }
      ],
      "source": [
        "from multipledispatch import dispatch\n",
        "\n",
        "class Student(object):\n",
        "\n",
        "    @dispatch(int)\n",
        "    def sum(self, a):\n",
        "        return a\n",
        "\n",
        "    @dispatch(int, int)\n",
        "    def sum(self, a, b):\n",
        "        return a + b\n",
        "\n",
        "    @dispatch(int, int, int)\n",
        "    def sum(self, a, b, c):\n",
        "        return a + b + c\n",
        "\n",
        "    @dispatch(int, int, int, int)\n",
        "    def sum(self, a, b, c, d):\n",
        "        return a + b + c + d\n",
        "\n",
        "s1 = Student()\n",
        "\n",
        "print(s1.sum(89))\n",
        "print(s1.sum(89, 91))\n",
        "print(s1.sum(89, 91, 67))\n",
        "print(s1.sum(89, 91, 67, 78))"
      ]
    },
    {
      "cell_type": "markdown",
      "id": "d3ca7b50",
      "metadata": {
        "id": "d3ca7b50"
      },
      "source": [
        "# 4. Method overriding"
      ]
    },
    {
      "cell_type": "markdown",
      "id": "626eb64d",
      "metadata": {
        "id": "626eb64d"
      },
      "source": [
        "Method overriding is an ability of any object-oriented programming language that allows a subclass or child class to provide a specific implementation of a method that is already provided by one of its super-classes or parent classes. When a method in a subclass has the same name, same parameters or signature and same return type(or sub-type) as a method in its super-class, then the method in the subclass is said to override the method in the super-class."
      ]
    },
    {
      "cell_type": "markdown",
      "id": "de2e4d42",
      "metadata": {
        "id": "de2e4d42"
      },
      "source": [
        "The version of a method that is executed will be determined by the object that is used to invoke it. If an object of a parent class is used to invoke the method, then the version in the parent class will be executed, but if an object of the subclass is used to invoke the method, then the version in the child class will be executed. In other words, it is the type of the object being referred to (not the type of the reference variable) that determines which version of an overridden method will be executed."
      ]
    },
    {
      "cell_type": "code",
      "execution_count": null,
      "id": "f4feb32b",
      "metadata": {
        "id": "f4feb32b",
        "outputId": "88301d5c-1bdb-4db0-a950-44da7065e4d1"
      },
      "outputs": [
        {
          "name": "stdout",
          "output_type": "stream",
          "text": [
            "Inside Parent\n",
            "Inside Child\n"
          ]
        }
      ],
      "source": [
        "# Python program to demonstrate\n",
        "# method overriding\n",
        "\n",
        "\n",
        "# Defining parent class\n",
        "class Parent():\n",
        "\t\n",
        "\t# Constructor\n",
        "\tdef __init__(self):\n",
        "\t\tself.value = \"Inside Parent\"\n",
        "\t\t\n",
        "\t# Parent's show method\n",
        "\tdef show(self):\n",
        "\t\tprint(self.value)\n",
        "\t\t\n",
        "# Defining child class\n",
        "class Child(Parent):\n",
        "\t\n",
        "\t# Constructor\n",
        "\tdef __init__(self):\n",
        "\t\tself.value = \"Inside Child\"\n",
        "\t\t\n",
        "\t# Child's show method\n",
        "\tdef show(self):\n",
        "\t\tprint(self.value)\n",
        "\t\t\n",
        "\t\t\n",
        "# Driver's code\n",
        "obj1 = Parent()\n",
        "obj2 = Child()\n",
        "\n",
        "obj1.show()\n",
        "obj2.show()"
      ]
    },
    {
      "cell_type": "markdown",
      "id": "4d240b75",
      "metadata": {
        "id": "4d240b75"
      },
      "source": [
        "### Method overriding with multiple and multilevel inheritance\n",
        "Multiple Inheritance: When a class is derived from more than one base class it is called multiple Inheritance.\n",
        "Example: Let’s consider an example where we want to override a method of one parent class only. Below is the implementation."
      ]
    },
    {
      "cell_type": "code",
      "execution_count": null,
      "id": "1546013b",
      "metadata": {
        "id": "1546013b",
        "outputId": "0a830c0d-d5af-449c-ea47-e2a965b4deb4"
      },
      "outputs": [
        {
          "name": "stdout",
          "output_type": "stream",
          "text": [
            "Inside Child\n",
            "Inside Parent2\n"
          ]
        }
      ],
      "source": [
        "# Python program to demonstrate\n",
        "# overriding in multiple inheritance\n",
        "\n",
        "\n",
        "# Defining parent class 1\n",
        "class Parent1():\n",
        "\t\t\n",
        "\t# Parent's show method\n",
        "\tdef show(self):\n",
        "\t\tprint(\"Inside Parent1\")\n",
        "\t\t\n",
        "# Defining Parent class 2\n",
        "class Parent2():\n",
        "\t\t\n",
        "\t# Parent's show method\n",
        "\tdef display(self):\n",
        "\t\tprint(\"Inside Parent2\")\n",
        "\t\t\n",
        "\t\t\n",
        "# Defining child class\n",
        "class Child(Parent1, Parent2):\n",
        "\t\t\n",
        "\t# Child's show method\n",
        "\tdef show(self):\n",
        "\t\tprint(\"Inside Child\")\n",
        "\t\n",
        "\t\t\n",
        "# Driver's code\n",
        "obj = Child()\n",
        "\n",
        "obj.show()\n",
        "obj.display()"
      ]
    },
    {
      "cell_type": "markdown",
      "id": "31ef6397",
      "metadata": {
        "id": "31ef6397"
      },
      "source": [
        "2. Multilevel Inheritance: When we have a child and grandchild relationship.\n",
        "Example: Let’s consider an example where we want to override only one method of one of its parent classes. Below is the implementation."
      ]
    },
    {
      "cell_type": "code",
      "execution_count": null,
      "id": "bd2a4771",
      "metadata": {
        "id": "bd2a4771",
        "outputId": "9d5105cf-939f-4d40-dd6c-5173f1399fa7"
      },
      "outputs": [
        {
          "name": "stdout",
          "output_type": "stream",
          "text": [
            "Inside GrandChild\n",
            "Inside Parent\n"
          ]
        }
      ],
      "source": [
        "# Python program to demonstrate\n",
        "# overriding in multilevel inheritance\n",
        "\n",
        "\n",
        "# Python program to demonstrate\n",
        "# overriding in multilevel inheritance\n",
        "\n",
        "\n",
        "class Parent():\n",
        "\t\t\n",
        "\t# Parent's show method\n",
        "\tdef display(self):\n",
        "\t\tprint(\"Inside Parent\")\n",
        "\t\n",
        "\t\n",
        "# Inherited or Sub class (Note Parent in bracket)\n",
        "class Child(Parent):\n",
        "\t\t\n",
        "\t# Child's show method\n",
        "\tdef show(self):\n",
        "\t\tprint(\"Inside Child\")\n",
        "\t\n",
        "# Inherited or Sub class (Note Child in bracket)\n",
        "class GrandChild(Child):\n",
        "\t\t\n",
        "\t# Child's show method\n",
        "\tdef show(self):\n",
        "\t\tprint(\"Inside GrandChild\")\t\t\n",
        "\t\n",
        "# Driver code\n",
        "g = GrandChild()\n",
        "g.show()\n",
        "g.display()"
      ]
    },
    {
      "cell_type": "markdown",
      "id": "47261927",
      "metadata": {
        "id": "47261927"
      },
      "source": [
        "__Calling the Parent’s method within the overridden method__\n",
        "Parent class methods can also be called within the overridden methods. This can generally be achieved by two ways.\n",
        "\n",
        "Using Classname: Parent’s class methods can be called by using the Parent classname.method inside the overridden method."
      ]
    },
    {
      "cell_type": "code",
      "execution_count": null,
      "id": "ef7c5aa4",
      "metadata": {
        "id": "ef7c5aa4",
        "outputId": "cbe3d544-a665-4c4b-c7b0-26cc3854f925"
      },
      "outputs": [
        {
          "name": "stdout",
          "output_type": "stream",
          "text": [
            "Inside Parent\n",
            "Inside Child\n"
          ]
        }
      ],
      "source": [
        "# Python program to demonstrate\n",
        "# calling the parent's class method\n",
        "# inside the overridden method\n",
        "\n",
        "\n",
        "class Parent():\n",
        "\t\n",
        "\tdef show(self):\n",
        "\t\tprint(\"Inside Parent\")\n",
        "\t\t\n",
        "class Child(Parent):\n",
        "\t\n",
        "\tdef show(self):\n",
        "\t\t\n",
        "\t\t# Calling the parent's class\n",
        "\t\t# method\n",
        "\t\tParent.show(self)\n",
        "\t\tprint(\"Inside Child\")\n",
        "\t\t\n",
        "# Driver's code\n",
        "obj = Child()\n",
        "obj.show()"
      ]
    },
    {
      "cell_type": "markdown",
      "id": "96eb5e30",
      "metadata": {
        "id": "96eb5e30"
      },
      "source": [
        "Using Super(): Python super() function provides us the facility to refer to the parent class explicitly. It is basically useful where we have to call superclass functions. It returns the proxy object that allows us to refer parent class by ‘super’."
      ]
    },
    {
      "cell_type": "code",
      "execution_count": null,
      "id": "a65e53e0",
      "metadata": {
        "id": "a65e53e0",
        "outputId": "52469b8f-18a6-4ea7-c1fe-51d83fe42eee"
      },
      "outputs": [
        {
          "name": "stdout",
          "output_type": "stream",
          "text": [
            "Inside Parent\n",
            "Inside Child\n"
          ]
        }
      ],
      "source": [
        "# Python program to demonstrate\n",
        "# calling the parent's class method\n",
        "# inside the overridden method using\n",
        "# super()\n",
        "\n",
        "\n",
        "class Parent():\n",
        "\t\n",
        "\tdef show(self):\n",
        "\t\tprint(\"Inside Parent\")\n",
        "\t\t\n",
        "class Child(Parent):\n",
        "\t\n",
        "\tdef show(self):\n",
        "\t\t\n",
        "\t\t# Calling the parent's class\n",
        "\t\t# method\n",
        "\t\tsuper().show()\n",
        "\t\tprint(\"Inside Child\")\n",
        "\t\t\n",
        "# Driver's code\n",
        "obj = Child()\n",
        "obj.show()"
      ]
    },
    {
      "cell_type": "code",
      "execution_count": null,
      "id": "83598520",
      "metadata": {
        "id": "83598520",
        "outputId": "2009a138-91a7-4c08-c1f3-c21b4751f0f1"
      },
      "outputs": [
        {
          "name": "stdout",
          "output_type": "stream",
          "text": [
            "HEY !!!!!! GfG I am initialised(Class GEG3)\n",
            "HEY !!!!!! GfG I am initialised(Class GEG2)\n",
            "HEY !!!!!! GfG I am initialised(Class GEG1)\n",
            "Printing from class GFG3: 10\n",
            "Printing from class GFG2: 11\n",
            "Printing from class GFG1: 12\n"
          ]
        }
      ],
      "source": [
        "# Program to define the use of super()\n",
        "# function in multiple inheritance\n",
        "class GFG1:\n",
        "\tdef __init__(self):\n",
        "\t\tprint('HEY !!!!!! GfG I am initialised(Class GEG1)')\n",
        "\t\n",
        "\tdef sub_GFG(self, b):\n",
        "\t\tprint('Printing from class GFG1:', b)\n",
        "\t\n",
        "# class GFG2 inherits the GFG1\n",
        "class GFG2(GFG1):\n",
        "\tdef __init__(self):\n",
        "\t\tprint('HEY !!!!!! GfG I am initialised(Class GEG2)')\n",
        "\t\tsuper().__init__()\n",
        "\t\n",
        "\tdef sub_GFG(self, b):\n",
        "\t\tprint('Printing from class GFG2:', b)\n",
        "\t\tsuper().sub_GFG(b + 1)\n",
        "\t\n",
        "# class GFG3 inherits the GFG1 ang GFG2 both\n",
        "class GFG3(GFG2):\n",
        "\tdef __init__(self):\n",
        "\t\tprint('HEY !!!!!! GfG I am initialised(Class GEG3)')\n",
        "\t\tsuper().__init__()\n",
        "\t\n",
        "\tdef sub_GFG(self, b):\n",
        "\t\tprint('Printing from class GFG3:', b)\n",
        "\t\tsuper().sub_GFG(b + 1)\n",
        "\t\n",
        "\t\n",
        "# main function\n",
        "if __name__ == '__main__':\n",
        "\t\n",
        "\t# created the object gfg\n",
        "\tgfg = GFG3()\n",
        "\t\n",
        "\t# calling the function sub_GFG3() from class GHG3\n",
        "\t# which inherits both GFG1 and GFG2 classes\n",
        "\tgfg.sub_GFG(10)"
      ]
    },
    {
      "cell_type": "code",
      "execution_count": null,
      "id": "6e30667d",
      "metadata": {
        "id": "6e30667d"
      },
      "outputs": [],
      "source": []
    }
  ],
  "metadata": {
    "colab": {
      "provenance": []
    },
    "kernelspec": {
      "display_name": "Python 3 (ipykernel)",
      "language": "python",
      "name": "python3"
    },
    "language_info": {
      "codemirror_mode": {
        "name": "ipython",
        "version": 3
      },
      "file_extension": ".py",
      "mimetype": "text/x-python",
      "name": "python",
      "nbconvert_exporter": "python",
      "pygments_lexer": "ipython3",
      "version": "3.9.13"
    }
  },
  "nbformat": 4,
  "nbformat_minor": 5
}