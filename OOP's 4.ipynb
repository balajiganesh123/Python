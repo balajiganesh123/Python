{
 "cells": [
  {
   "cell_type": "markdown",
   "id": "000581df",
   "metadata": {},
   "source": [
    "# Abstraction"
   ]
  },
  {
   "cell_type": "markdown",
   "id": "58eea729",
   "metadata": {},
   "source": [
    "Abstraction is used to hide the internal functionality of the function from the users. The users only interact with the basic implementation of the function, but inner working is hidden. User is familiar with that \"what function does\" but they don't know \"how it does.\""
   ]
  },
  {
   "cell_type": "markdown",
   "id": "f7db7740",
   "metadata": {},
   "source": [
    "In simple words, we all use the smartphone and very much familiar with its functions such as camera, voice-recorder, call-dialing, etc., but we don't know how these operations are happening in the background. Let's take another example - When we use the TV remote to increase the volume. We don't know how pressing a key increases the volume of the TV. We only know to press the \"+\" button to increase the volume.\n",
    "\n",
    "That is exactly the abstraction that works in the object-oriented concept."
   ]
  },
  {
   "cell_type": "markdown",
   "id": "f6897a8c",
   "metadata": {},
   "source": [
    "__Why Abstraction is Important?__\n",
    "\n",
    "In Python, an abstraction is used to hide the irrelevant data/class in order to reduce the complexity. It also enhances the application efficiency. Next, we will learn how we can achieve abstraction using the Python program."
   ]
  },
  {
   "cell_type": "markdown",
   "id": "1e142d5e",
   "metadata": {},
   "source": [
    "https://www.javatpoint.com/abstraction-in-python"
   ]
  },
  {
   "cell_type": "markdown",
   "id": "df77fb0f",
   "metadata": {},
   "source": [
    "## Abstract Classes in Python"
   ]
  },
  {
   "cell_type": "markdown",
   "id": "b91af0b1",
   "metadata": {},
   "source": [
    "An abstract class can be considered as a blueprint for other classes. It allows you to create a set of methods that must be created within any child classes built from the abstract class. A class which contains one or more abstract methods is called an abstract class. An abstract method is a method that has a declaration but does not have an implementation. While we are designing large functional units we use an abstract class. When we want to provide a common interface for different implementations of a component, we use an abstract class. "
   ]
  },
  {
   "cell_type": "markdown",
   "id": "b15c78fe",
   "metadata": {},
   "source": [
    "__Why use Abstract Base Classes :__\n",
    "\n",
    "By defining an abstract base class, you can define a common Application Program Interface(API) for a set of subclasses. This capability is especially useful in situations where a third-party is going to provide implementations, such as with plugins, but can also help you when working in a large team or with a large code-base where keeping all classes in your mind is difficult or not possible. \n",
    "  \n",
    "__How Abstract Base classes work :__ \n",
    "\n",
    "By default, Python does not provide abstract classes. Python comes with a module that provides the base for defining Abstract Base classes(ABC) and that module name is ABC. ABC works by decorating methods of the base class as abstract and then registering concrete classes as implementations of the abstract base. A method becomes abstract when decorated with the keyword @abstractmethod. For Example –"
   ]
  },
  {
   "cell_type": "markdown",
   "id": "c8dd2d30",
   "metadata": {},
   "source": [
    "https://www.geeksforgeeks.org/abstract-classes-in-python/"
   ]
  },
  {
   "cell_type": "code",
   "execution_count": 1,
   "id": "715d35e5",
   "metadata": {},
   "outputs": [
    {
     "name": "stdout",
     "output_type": "stream",
     "text": [
      "I have 3 sides\n",
      "I have 4 sides\n",
      "I have 5 sides\n",
      "I have 6 sides\n"
     ]
    }
   ],
   "source": [
    "# Python program showing\n",
    "# abstract base class work\n",
    "\n",
    "from abc import ABC, abstractmethod\n",
    "\n",
    "class Polygon(ABC):\n",
    "\n",
    "\t@abstractmethod\n",
    "\tdef noofsides(self):\n",
    "\t\tpass\n",
    "\n",
    "class Triangle(Polygon):\n",
    "\n",
    "\t# overriding abstract method\n",
    "\tdef noofsides(self):\n",
    "\t\tprint(\"I have 3 sides\")\n",
    "\n",
    "class Pentagon(Polygon):\n",
    "\n",
    "\t# overriding abstract method\n",
    "\tdef noofsides(self):\n",
    "\t\tprint(\"I have 5 sides\")\n",
    "\n",
    "class Hexagon(Polygon):\n",
    "\n",
    "\t# overriding abstract method\n",
    "\tdef noofsides(self):\n",
    "\t\tprint(\"I have 6 sides\")\n",
    "\n",
    "class Quadrilateral(Polygon):\n",
    "\n",
    "\t# overriding abstract method\n",
    "\tdef noofsides(self):\n",
    "\t\tprint(\"I have 4 sides\")\n",
    "\n",
    "# Driver code\n",
    "R = Triangle()\n",
    "R.noofsides()\n",
    "\n",
    "K = Quadrilateral()\n",
    "K.noofsides()\n",
    "\n",
    "R = Pentagon()\n",
    "R.noofsides()\n",
    "\n",
    "K = Hexagon()\n",
    "K.noofsides()"
   ]
  },
  {
   "cell_type": "code",
   "execution_count": 2,
   "id": "ac91e77a",
   "metadata": {},
   "outputs": [
    {
     "name": "stdout",
     "output_type": "stream",
     "text": [
      "I can walk and run\n",
      "I can crawl\n",
      "I can bark\n",
      "I can roar\n"
     ]
    }
   ],
   "source": [
    "# Python program showing\n",
    "# abstract base class work\n",
    "\n",
    "from abc import ABC, abstractmethod\n",
    "class Animal(ABC):\n",
    "\n",
    "\tdef move(self):\n",
    "\t\tpass\n",
    "\n",
    "class Human(Animal):\n",
    "\n",
    "\tdef move(self):\n",
    "\t\tprint(\"I can walk and run\")\n",
    "\n",
    "class Snake(Animal):\n",
    "\n",
    "\tdef move(self):\n",
    "\t\tprint(\"I can crawl\")\n",
    "\n",
    "class Dog(Animal):\n",
    "\n",
    "\tdef move(self):\n",
    "\t\tprint(\"I can bark\")\n",
    "\n",
    "class Lion(Animal):\n",
    "\n",
    "\tdef move(self):\n",
    "\t\tprint(\"I can roar\")\n",
    "\t\t\n",
    "# Driver code\n",
    "R = Human()\n",
    "R.move()\n",
    "\n",
    "K = Snake()\n",
    "K.move()\n",
    "\n",
    "R = Dog()\n",
    "R.move()\n",
    "\n",
    "K = Lion()\n",
    "K.move()\n"
   ]
  },
  {
   "cell_type": "markdown",
   "id": "e2357d70",
   "metadata": {},
   "source": [
    "__Concrete Methods in Abstract Base Classes :__\n",
    "\n",
    "Concrete classes contain only concrete (normal)methods whereas abstract classes may contain both concrete methods and abstract methods. The concrete class provides an implementation of abstract methods, the abstract base class can also provide an implementation by invoking the methods via super(). \n",
    " \n",
    "\n",
    "Let look over the example to invoke the method using super(): "
   ]
  },
  {
   "cell_type": "code",
   "execution_count": 3,
   "id": "a61db8f7",
   "metadata": {},
   "outputs": [
    {
     "name": "stdout",
     "output_type": "stream",
     "text": [
      "Abstract Base Class\n",
      "subclass \n"
     ]
    }
   ],
   "source": [
    "# Python program invoking a\n",
    "# method using super()\n",
    "\n",
    "import abc\n",
    "from abc import ABC, abstractmethod\n",
    "\n",
    "class R(ABC):\n",
    "\tdef rk(self):\n",
    "\t\tprint(\"Abstract Base Class\")\n",
    "\n",
    "class K(R):\n",
    "\tdef rk(self):\n",
    "\t\tsuper().rk()\n",
    "\t\tprint(\"subclass \")\n",
    "\n",
    "# Driver code\n",
    "r = K()\n",
    "r.rk()"
   ]
  },
  {
   "cell_type": "markdown",
   "id": "d8993247",
   "metadata": {},
   "source": [
    "In the above program, we can invoke the methods in abstract classes by using super(). \n",
    "  \n",
    "__Abstract Properties :__\n",
    "\n",
    "Abstract classes include attributes in addition to methods, you can require the attributes in concrete classes by defining them with @abstractproperty. "
   ]
  },
  {
   "cell_type": "code",
   "execution_count": 4,
   "id": "c34565a3",
   "metadata": {},
   "outputs": [
    {
     "name": "stdout",
     "output_type": "stream",
     "text": [
      "Can't instantiate abstract class parent with abstract method geeks\n",
      "child class\n"
     ]
    }
   ],
   "source": [
    "# Python program showing\n",
    "# abstract properties\n",
    "\n",
    "import abc\n",
    "from abc import ABC, abstractmethod\n",
    "\n",
    "class parent(ABC):\n",
    "\t@abc.abstractproperty\n",
    "\tdef geeks(self):\n",
    "\t\treturn \"parent class\"\n",
    "class child(parent):\n",
    "\t\n",
    "\t@property\n",
    "\tdef geeks(self):\n",
    "\t\treturn \"child class\"\n",
    "\n",
    "\n",
    "try:\n",
    "\tr =parent()\n",
    "\tprint( r.geeks)\n",
    "except Exception as err:\n",
    "\tprint (err)\n",
    "\n",
    "r = child()\n",
    "print (r.geeks)"
   ]
  },
  {
   "cell_type": "markdown",
   "id": "9f113b0a",
   "metadata": {},
   "source": [
    "In the above example, the Base class cannot be instantiated because it has only an abstract version of the property getter method. "
   ]
  },
  {
   "cell_type": "markdown",
   "id": "4ba293b7",
   "metadata": {},
   "source": [
    "__Abstract Class Instantiation :__\n",
    "\n",
    "Abstract classes are incomplete because they have methods that have nobody. If python allows creating an object for abstract classes then using that object if anyone calls the abstract method, but there is no actual implementation to invoke. So we use an abstract class as a template and according to the need, we extend it and build on it before we can use it. Due to the fact, an abstract class is not a concrete class, it cannot be instantiated. When we create an object for the abstract class it raises an error. "
   ]
  },
  {
   "cell_type": "code",
   "execution_count": 5,
   "id": "f181fb83",
   "metadata": {},
   "outputs": [
    {
     "ename": "TypeError",
     "evalue": "Can't instantiate abstract class Animal with abstract method move",
     "output_type": "error",
     "traceback": [
      "\u001b[1;31m---------------------------------------------------------------------------\u001b[0m",
      "\u001b[1;31mTypeError\u001b[0m                                 Traceback (most recent call last)",
      "Cell \u001b[1;32mIn[5], line 26\u001b[0m\n\u001b[0;32m     23\u001b[0m \t\u001b[38;5;28;01mdef\u001b[39;00m \u001b[38;5;21mmove\u001b[39m(\u001b[38;5;28mself\u001b[39m):\n\u001b[0;32m     24\u001b[0m \t\t\u001b[38;5;28mprint\u001b[39m(\u001b[38;5;124m\"\u001b[39m\u001b[38;5;124mI can roar\u001b[39m\u001b[38;5;124m\"\u001b[39m)\n\u001b[1;32m---> 26\u001b[0m c\u001b[38;5;241m=\u001b[39m\u001b[43mAnimal\u001b[49m\u001b[43m(\u001b[49m\u001b[43m)\u001b[49m\n",
      "\u001b[1;31mTypeError\u001b[0m: Can't instantiate abstract class Animal with abstract method move"
     ]
    }
   ],
   "source": [
    "# Python program showing\n",
    "# abstract class cannot\n",
    "# be an instantiation\n",
    "from abc import ABC,abstractmethod\n",
    "\n",
    "class Animal(ABC):\n",
    "\t@abstractmethod\n",
    "\tdef move(self):\n",
    "\t\tpass\n",
    "class Human(Animal):\n",
    "\tdef move(self):\n",
    "\t\tprint(\"I can walk and run\")\n",
    "\n",
    "class Snake(Animal):\n",
    "\tdef move(self):\n",
    "\t\tprint(\"I can crawl\")\n",
    "\n",
    "class Dog(Animal):\n",
    "\tdef move(self):\n",
    "\t\tprint(\"I can bark\")\n",
    "\n",
    "class Lion(Animal):\n",
    "\tdef move(self):\n",
    "\t\tprint(\"I can roar\")\n",
    "\n",
    "c=Animal()"
   ]
  },
  {
   "cell_type": "markdown",
   "id": "3fa6f25e",
   "metadata": {},
   "source": [
    "# Encapsulation in Python"
   ]
  },
  {
   "cell_type": "markdown",
   "id": "197666b0",
   "metadata": {},
   "source": [
    "Encapsulation is one of the fundamental concepts in object-oriented programming (OOP). It describes the idea of wrapping data and the methods that work on data within one unit. This puts restrictions on accessing variables and methods directly and can prevent the accidental modification of data. To prevent accidental change, an object’s variable can only be changed by an object’s method. Those types of variables are known as private variables.\n",
    "\n",
    "A class is an example of encapsulation as it encapsulates all the data that is member functions, variables, etc. The goal of information hiding is to ensure that an object’s state is always valid by controlling access to attributes that are hidden from the outside world."
   ]
  },
  {
   "cell_type": "markdown",
   "id": "1c9f0d11",
   "metadata": {},
   "source": [
    "Consider a real-life example of encapsulation, in a company, there are different sections like the accounts section, finance section, sales section etc. The finance section handles all the financial transactions and keeps records of all the data related to finance. Similarly, the sales section handles all the sales-related activities and keeps records of all the sales. Now there may arise a situation when due to some reason an official from the finance section needs all the data about sales in a particular month. In this case, he is not allowed to directly access the data of the sales section. He will first have to contact some other officer in the sales section and then request him to give the particular data. This is what encapsulation is. Here the data of the sales section and the employees that can manipulate them are wrapped under a single name “sales section”. Using encapsulation also hides the data. In this example, the data of the sections like sales, finance, or accounts are hidden from any other section."
   ]
  },
  {
   "cell_type": "markdown",
   "id": "12892093",
   "metadata": {},
   "source": [
    "__Protected members__\n",
    "\n",
    "Protected members (in C++ and JAVA) are those members of the class that cannot be accessed outside the class but can be accessed from within the class and its subclasses. To accomplish this in Python, just follow the convention by prefixing the name of the member by a single underscore “_”.\n",
    "\n",
    "Although the protected variable can be accessed out of the class as well as in the derived class (modified too in derived class), it is customary(convention not a rule) to not access the protected out the class body.\n",
    "\n",
    "Note: The __init__ method is a constructor and runs as soon as an object of a class is instantiated.  "
   ]
  },
  {
   "cell_type": "code",
   "execution_count": 6,
   "id": "1910944a",
   "metadata": {},
   "outputs": [
    {
     "name": "stdout",
     "output_type": "stream",
     "text": [
      "Calling protected member of base class:  2\n",
      "Calling modified protected member outside class:  3\n",
      "Accessing protected member of obj1:  3\n",
      "Accessing protected member of obj2:  2\n"
     ]
    }
   ],
   "source": [
    "# Python program to\n",
    "# demonstrate protected members\n",
    "\n",
    "# Creating a base class\n",
    "class Base:\n",
    "\tdef __init__(self):\n",
    "\n",
    "\t\t# Protected member\n",
    "\t\tself._a = 2\n",
    "\n",
    "# Creating a derived class\n",
    "class Derived(Base):\n",
    "\tdef __init__(self):\n",
    "\n",
    "\t\t# Calling constructor of\n",
    "\t\t# Base class\n",
    "\t\tBase.__init__(self)\n",
    "\t\tprint(\"Calling protected member of base class: \",\n",
    "\t\t\tself._a)\n",
    "\n",
    "\t\t# Modify the protected variable:\n",
    "\t\tself._a = 3\n",
    "\t\tprint(\"Calling modified protected member outside class: \",\n",
    "\t\t\tself._a)\n",
    "\n",
    "\n",
    "obj1 = Derived()\n",
    "\n",
    "obj2 = Base()\n",
    "\n",
    "# Calling protected member\n",
    "# Can be accessed but should not be done due to convention\n",
    "print(\"Accessing protected member of obj1: \", obj1._a)\n",
    "\n",
    "# Accessing the protected variable outside\n",
    "print(\"Accessing protected member of obj2: \", obj2._a)"
   ]
  },
  {
   "cell_type": "markdown",
   "id": "ade1d4f1",
   "metadata": {},
   "source": [
    "__Private members__\n",
    "\n",
    "Private members are similar to protected members, the difference is that the class members declared private should neither be accessed outside the class nor by any base class. In Python, there is no existence of Private instance variables that cannot be accessed except inside a class.\n",
    "\n",
    "However, to define a private member prefix the member name with double underscore “__”.\n",
    "\n",
    "Note: Python’s private and protected members can be accessed outside the class through python name mangling. "
   ]
  },
  {
   "cell_type": "code",
   "execution_count": 7,
   "id": "3473374d",
   "metadata": {},
   "outputs": [
    {
     "name": "stdout",
     "output_type": "stream",
     "text": [
      "GeeksforGeeks\n"
     ]
    }
   ],
   "source": [
    "# Python program to\n",
    "# demonstrate private members\n",
    "\n",
    "# Creating a Base class\n",
    "\n",
    "\n",
    "class Base:\n",
    "\tdef __init__(self):\n",
    "\t\tself.a = \"GeeksforGeeks\"\n",
    "\t\tself.__c = \"GeeksforGeeks\"\n",
    "\n",
    "# Creating a derived class\n",
    "class Derived(Base):\n",
    "\tdef __init__(self):\n",
    "\n",
    "\t\t# Calling constructor of\n",
    "\t\t# Base class\n",
    "\t\tBase.__init__(self)\n",
    "\t\tprint(\"Calling private member of base class: \")\n",
    "\t\tprint(self.__c)\n",
    "\n",
    "\n",
    "# Driver code\n",
    "obj1 = Base()\n",
    "print(obj1.a)\n",
    "\n",
    "# Uncommenting print(obj1.c) will\n",
    "# raise an AttributeError\n",
    "\n",
    "# Uncommenting obj2 = Derived() will\n",
    "# also raise an AtrributeError as\n",
    "# private member of base class\n",
    "# is called inside derived class"
   ]
  },
  {
   "cell_type": "markdown",
   "id": "b101f49f",
   "metadata": {},
   "source": [
    "# Polymorphism in Python"
   ]
  },
  {
   "cell_type": "markdown",
   "id": "b1c2d2e1",
   "metadata": {},
   "source": [
    "https://www.geeksforgeeks.org/polymorphism-in-python/"
   ]
  },
  {
   "cell_type": "markdown",
   "id": "cfde3479",
   "metadata": {},
   "source": [
    "What is Polymorphism: The word polymorphism means having many forms. In programming, polymorphism means the same function name (but different signatures) being used for different types. The key difference is the data types and number of arguments used in function.\n",
    "\n",
    "Example of inbuilt polymorphic functions:"
   ]
  },
  {
   "cell_type": "code",
   "execution_count": 8,
   "id": "1bba62e0",
   "metadata": {},
   "outputs": [
    {
     "name": "stdout",
     "output_type": "stream",
     "text": [
      "5\n",
      "3\n"
     ]
    }
   ],
   "source": [
    "# Python program to demonstrate in-built poly-\n",
    "# morphic functions\n",
    "\n",
    "# len() being used for a string\n",
    "print(len(\"geeks\"))\n",
    "\n",
    "# len() being used for a list\n",
    "print(len([10, 20, 30]))"
   ]
  },
  {
   "cell_type": "markdown",
   "id": "02b2c0b4",
   "metadata": {},
   "source": [
    "Examples of user-defined polymorphic functions: "
   ]
  },
  {
   "cell_type": "code",
   "execution_count": 9,
   "id": "d06e353c",
   "metadata": {},
   "outputs": [
    {
     "name": "stdout",
     "output_type": "stream",
     "text": [
      "5\n",
      "9\n"
     ]
    }
   ],
   "source": [
    "# A simple Python function to demonstrate\n",
    "# Polymorphism\n",
    "\n",
    "def add(x, y, z = 0):\n",
    "\treturn x + y+z\n",
    "\n",
    "# Driver code\n",
    "print(add(2, 3))\n",
    "print(add(2, 3, 4))"
   ]
  },
  {
   "cell_type": "markdown",
   "id": "100f9a79",
   "metadata": {},
   "source": [
    "__Polymorphism with class methods:__ \n",
    "\n",
    "The below code shows how Python can use two different class types, in the same way. We create a for loop that iterates through a tuple of objects. Then call the methods without being concerned about which class type each object is. We assume that these methods actually exist in each class. "
   ]
  },
  {
   "cell_type": "code",
   "execution_count": 10,
   "id": "ad8c15e2",
   "metadata": {},
   "outputs": [
    {
     "name": "stdout",
     "output_type": "stream",
     "text": [
      "New Delhi is the capital of India.\n",
      "Hindi is the most widely spoken language of India.\n",
      "India is a developing country.\n",
      "Washington, D.C. is the capital of USA.\n",
      "English is the primary language of USA.\n",
      "USA is a developed country.\n"
     ]
    }
   ],
   "source": [
    "class India():\n",
    "\tdef capital(self):\n",
    "\t\tprint(\"New Delhi is the capital of India.\")\n",
    "\n",
    "\tdef language(self):\n",
    "\t\tprint(\"Hindi is the most widely spoken language of India.\")\n",
    "\n",
    "\tdef type(self):\n",
    "\t\tprint(\"India is a developing country.\")\n",
    "\n",
    "class USA():\n",
    "\tdef capital(self):\n",
    "\t\tprint(\"Washington, D.C. is the capital of USA.\")\n",
    "\n",
    "\tdef language(self):\n",
    "\t\tprint(\"English is the primary language of USA.\")\n",
    "\n",
    "\tdef type(self):\n",
    "\t\tprint(\"USA is a developed country.\")\n",
    "\n",
    "obj_ind = India()\n",
    "obj_usa = USA()\n",
    "for country in (obj_ind, obj_usa):\n",
    "\tcountry.capital()\n",
    "\tcountry.language()\n",
    "\tcountry.type()"
   ]
  },
  {
   "cell_type": "markdown",
   "id": "d63bdca0",
   "metadata": {},
   "source": [
    "__Polymorphism with Inheritance:__\n",
    "\n",
    "In Python, Polymorphism lets us define methods in the child class that have the same name as the methods in the parent class. In inheritance, the child class inherits the methods from the parent class. However, it is possible to modify a method in a child class that it has inherited from the parent class. This is particularly useful in cases where the method inherited from the parent class doesn’t quite fit the child class. In such cases, we re-implement the method in the child class. This process of re-implementing a method in the child class is known as Method Overriding. "
   ]
  },
  {
   "cell_type": "code",
   "execution_count": 11,
   "id": "9057b102",
   "metadata": {},
   "outputs": [
    {
     "ename": "IndentationError",
     "evalue": "expected an indented block (2598025536.py, line 2)",
     "output_type": "error",
     "traceback": [
      "\u001b[1;36m  Cell \u001b[1;32mIn[11], line 2\u001b[1;36m\u001b[0m\n\u001b[1;33m    def intro(self):\u001b[0m\n\u001b[1;37m    ^\u001b[0m\n\u001b[1;31mIndentationError\u001b[0m\u001b[1;31m:\u001b[0m expected an indented block\n"
     ]
    }
   ],
   "source": [
    "class Bird:\n",
    "def intro(self):\n",
    "\tprint(\"There are many types of birds.\")\n",
    "\t\n",
    "def flight(self):\n",
    "\tprint(\"Most of the birds can fly but some cannot.\")\n",
    "\n",
    "class sparrow(Bird):\n",
    "def flight(self):\n",
    "\tprint(\"Sparrows can fly.\")\n",
    "\t\n",
    "class ostrich(Bird):\n",
    "def flight(self):\n",
    "\tprint(\"Ostriches cannot fly.\")\n",
    "\t\n",
    "obj_bird = Bird()\n",
    "obj_spr = sparrow()\n",
    "obj_ost = ostrich()\n",
    "\n",
    "obj_bird.intro()\n",
    "obj_bird.flight()\n",
    "\n",
    "obj_spr.intro()\n",
    "obj_spr.flight()\n",
    "\n",
    "obj_ost.intro()\n",
    "obj_ost.flight()"
   ]
  },
  {
   "cell_type": "markdown",
   "id": "050d8d6d",
   "metadata": {},
   "source": [
    "__Polymorphism with a Function and objects:__\n",
    "\n",
    "It is also possible to create a function that can take any object, allowing for polymorphism. In this example, let’s create a function called “func()” which will take an object which we will name “obj”. Though we are using the name ‘obj’, any instantiated object will be able to be called into this function. Next, let’s give the function something to do that uses the ‘obj’ object we passed to it. In this case, let’s call the three methods, viz., capital(), language() and type(), each of which is defined in the two classes ‘India’ and ‘USA’. Next, let’s create instantiations of both the ‘India’ and ‘USA’ classes if we don’t have them already. With those, we can call their action using the same func() function: "
   ]
  },
  {
   "cell_type": "code",
   "execution_count": 12,
   "id": "92d8d6d3",
   "metadata": {},
   "outputs": [
    {
     "name": "stdout",
     "output_type": "stream",
     "text": [
      "New Delhi is the capital of India.\n",
      "Hindi is the most widely spoken language of India.\n",
      "India is a developing country.\n",
      "Washington, D.C. is the capital of USA.\n",
      "English is the primary language of USA.\n",
      "USA is a developed country.\n"
     ]
    }
   ],
   "source": [
    "def func(obj):\n",
    "\tobj.capital()\n",
    "\tobj.language()\n",
    "\tobj.type()\n",
    "\n",
    "obj_ind = India()\n",
    "obj_usa = USA()\n",
    "\n",
    "func(obj_ind)\n",
    "func(obj_usa)"
   ]
  },
  {
   "cell_type": "markdown",
   "id": "7a923d7a",
   "metadata": {},
   "source": [
    "__Code: Implementing Polymorphism with a Function__"
   ]
  },
  {
   "cell_type": "code",
   "execution_count": 13,
   "id": "56df4283",
   "metadata": {},
   "outputs": [
    {
     "name": "stdout",
     "output_type": "stream",
     "text": [
      "New Delhi is the capital of India.\n",
      "Hindi is the most widely spoken language of India.\n",
      "India is a developing country.\n",
      "Washington, D.C. is the capital of USA.\n",
      "English is the primary language of USA.\n",
      "USA is a developed country.\n"
     ]
    }
   ],
   "source": [
    "class India():\n",
    "\tdef capital(self):\n",
    "\t\tprint(\"New Delhi is the capital of India.\")\n",
    "\n",
    "\tdef language(self):\n",
    "\t\tprint(\"Hindi is the most widely spoken language of India.\")\n",
    "\n",
    "\tdef type(self):\n",
    "\t\tprint(\"India is a developing country.\")\n",
    "\n",
    "class USA():\n",
    "\tdef capital(self):\n",
    "\t\tprint(\"Washington, D.C. is the capital of USA.\")\n",
    "\n",
    "\tdef language(self):\n",
    "\t\tprint(\"English is the primary language of USA.\")\n",
    "\n",
    "\tdef type(self):\n",
    "\t\tprint(\"USA is a developed country.\")\n",
    "\n",
    "def func(obj):\n",
    "\tobj.capital()\n",
    "\tobj.language()\n",
    "\tobj.type()\n",
    "\n",
    "obj_ind = India()\n",
    "obj_usa = USA()\n",
    "\n",
    "func(obj_ind)\n",
    "func(obj_usa)"
   ]
  },
  {
   "cell_type": "markdown",
   "id": "62755b62",
   "metadata": {},
   "source": [
    "# Nested classes or Inner Class in Python"
   ]
  },
  {
   "cell_type": "markdown",
   "id": "381972e3",
   "metadata": {},
   "source": [
    "for more info - https://www.geeksforgeeks.org/inner-class-in-python/\n",
    "A class defined in another class is known as an inner class or nested class. If an object is created using child class means inner class then the object can also be used by parent class or root class. A parent class can have one or more inner classes but generally inner classes are avoided.\n",
    "\n",
    "We can make our code even more object-oriented by using an inner class. A single object of the class can hold multiple sub-objects. We can use multiple sub-objects to give a good structure to our program.\n",
    "\n",
    "Example:\n",
    "\n",
    "- First, we create a class and then the constructor of the class.\n",
    "- After creating a class, we will create another class within that class, the class inside another class will be called an inner class."
   ]
  },
  {
   "cell_type": "code",
   "execution_count": 1,
   "id": "5932937a",
   "metadata": {},
   "outputs": [
    {
     "name": "stdout",
     "output_type": "stream",
     "text": [
      "i5 8 HP\n",
      "i5 8 HP\n",
      "i5 8 HP\n",
      "i5 8 HP\n",
      "i5 8 HP\n",
      "i5 8 HP\n",
      "Balaji 21\n",
      "HP 8 i5\n"
     ]
    }
   ],
   "source": [
    "class Student:\n",
    "\n",
    "    def __init__(self, name, roll):\n",
    "        self.name = name\n",
    "        self.roll = roll\n",
    "        self.lap = self.Laptop()\n",
    "\n",
    "    def show(self):\n",
    "        print(self.name, self.roll)\n",
    "        self.lap.show()\n",
    "\n",
    "    class Laptop:\n",
    "\n",
    "        def __init__(self):\n",
    "            self.brand = \"HP\"\n",
    "            self.ram = 8\n",
    "            self.cpu = \"i5\"\n",
    "            \n",
    "            \n",
    "        def show(self):\n",
    "            print(self.brand, self.ram, self.cpu)\n",
    "            \n",
    "\n",
    "s1 = Student(\"Balaji\", 21)\n",
    "s2 = Student(\"Jeeva\", 20)\n",
    "\n",
    "lap1 = s1.lap\n",
    "lap2 = s2.lap\n",
    "\n",
    "print(lap1.cpu, lap1.ram, lap1.brand)\n",
    "print(lap1.cpu, lap1.ram, lap1.brand)\n",
    "\n",
    "#     or\n",
    "\n",
    "print(s1.lap.cpu, s1.lap.ram, s1.lap.brand)\n",
    "print(s2.lap.cpu, s2.lap.ram, s2.lap.brand)\n",
    "\n",
    "lap1 = Student.Laptop()\n",
    "print(lap1.cpu, lap1.ram, lap1.brand)\n",
    "\n",
    "lap2 = Student.Laptop()\n",
    "print(lap2.cpu, lap2.ram, lap2.brand)\n",
    "\n",
    "s1.show()"
   ]
  },
  {
   "cell_type": "code",
   "execution_count": 2,
   "id": "8537d683",
   "metadata": {},
   "outputs": [
    {
     "name": "stdout",
     "output_type": "stream",
     "text": [
      "In outer class\n",
      "Name: Doctor\n",
      "\n",
      "Name: Dr. Savita\n",
      "Degree: BDS\n",
      "\n",
      "Name: Dr. Amit\n",
      "Degree: DM\n"
     ]
    }
   ],
   "source": [
    "# create outer class\n",
    "class Doctors:\n",
    "\tdef __init__(self):\n",
    "\t\tself.name = 'Doctor'\n",
    "\t\tself.den = self.Dentist()\n",
    "\t\tself.car = self.Cardiologist()\n",
    "\n",
    "\tdef show(self):\n",
    "\t\tprint('In outer class')\n",
    "\t\tprint('Name:', self.name)\n",
    "\n",
    "\t# create a 1st Inner class\n",
    "\tclass Dentist:\n",
    "\t\tdef __init__(self):\n",
    "\t\t\tself.name = 'Dr. Savita'\n",
    "\t\t\tself.degree = 'BDS'\n",
    "\n",
    "\t\tdef display(self):\n",
    "\t\t\tprint(\"Name:\", self.name)\n",
    "\t\t\tprint(\"Degree:\", self.degree)\n",
    "\n",
    "\t# create a 2nd Inner class\n",
    "\tclass Cardiologist:\n",
    "\t\tdef __init__(self):\n",
    "\t\t\tself.name = 'Dr. Amit'\n",
    "\t\t\tself.degree = 'DM'\n",
    "\n",
    "\t\tdef display(self):\n",
    "\t\t\tprint(\"Name:\", self.name)\n",
    "\t\t\tprint(\"Degree:\", self.degree)\n",
    "\n",
    "\n",
    "# create a object\n",
    "# of outer class\n",
    "outer = Doctors()\n",
    "outer.show()\n",
    "\n",
    "# create a object\n",
    "# of 1st inner class\n",
    "d1 = outer.den\n",
    "\n",
    "# create a object\n",
    "# of 2nd inner class\n",
    "d2 = outer.car\n",
    "print()\n",
    "d1.display()\n",
    "print()\n",
    "d2.display()"
   ]
  },
  {
   "cell_type": "markdown",
   "id": "862e5bc7",
   "metadata": {},
   "source": [
    "__Why INNER class?__\n",
    "\n",
    "For the grouping of two or more classes. Suppose we have two classes remote and battery. Every remote needs a battery but a battery without a remote won’t be used. So, we make the Battery an inner class to the Remote. It helps us to save code. With the help of the inner class or nested class, we can hide the inner class from the outside world. Hence, Hiding the code is another good feature of the inner class. By using the inner class, we can easily understand the classes because the classes are closely related. We do not need to search for classes in the whole code, they all are almost together. Though inner or nested classes are not used widely in Python it will be a better feature to implement code because it is straightforward to organize when we use inner class or nested class."
   ]
  }
 ],
 "metadata": {
  "kernelspec": {
   "display_name": "Python 3 (ipykernel)",
   "language": "python",
   "name": "python3"
  },
  "language_info": {
   "codemirror_mode": {
    "name": "ipython",
    "version": 3
   },
   "file_extension": ".py",
   "mimetype": "text/x-python",
   "name": "python",
   "nbconvert_exporter": "python",
   "pygments_lexer": "ipython3",
   "version": "3.9.13"
  }
 },
 "nbformat": 4,
 "nbformat_minor": 5
}
