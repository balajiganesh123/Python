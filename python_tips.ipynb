{
 "cells": [
  {
   "cell_type": "markdown",
   "metadata": {
    "id": "C9whSNnn68ZX"
   },
   "source": [
    "# Python tips and tricks"
   ]
  },
  {
   "cell_type": "markdown",
   "metadata": {
    "id": "rKQnOd7K68Zk"
   },
   "source": [
    "## Assign Multiple Variables on One Line"
   ]
  },
  {
   "cell_type": "code",
   "execution_count": null,
   "metadata": {
    "id": "43D8orVe68Zn",
    "outputId": "b5e2469b-cc8b-4ed6-8663-114fdc5c2190"
   },
   "outputs": [
    {
     "name": "stdout",
     "output_type": "stream",
     "text": [
      "5 10\n"
     ]
    }
   ],
   "source": [
    "x, y = 5, 10\n",
    "print(x, y)"
   ]
  },
  {
   "cell_type": "markdown",
   "metadata": {
    "id": "a-CBNhJV68Z0"
   },
   "source": [
    "## Banker's Rounding - half towards even"
   ]
  },
  {
   "cell_type": "code",
   "execution_count": null,
   "metadata": {
    "colab": {
     "base_uri": "https://localhost:8080/"
    },
    "id": "-JZCgyRJ68Z1",
    "outputId": "e4b594ba-e145-4796-b37f-9e91f5ac368a"
   },
   "outputs": [
    {
     "name": "stdout",
     "output_type": "stream",
     "text": [
      "14\n",
      "12\n"
     ]
    }
   ],
   "source": [
    "print(round(13.5)) #down to 10 This always rounds the value to an even\n",
    "print(round(11.5)) #up to 12"
   ]
  },
  {
   "cell_type": "markdown",
   "metadata": {
    "id": "-cUha7CV68Z2"
   },
   "source": [
    "## Underscores in numbers"
   ]
  },
  {
   "cell_type": "code",
   "execution_count": null,
   "metadata": {
    "colab": {
     "base_uri": "https://localhost:8080/"
    },
    "id": "QREZGs5n68Z3",
    "outputId": "7071aceb-58cd-4109-90c3-97fa053ab3ca"
   },
   "outputs": [
    {
     "name": "stdout",
     "output_type": "stream",
     "text": [
      "999999999\n",
      " 999,999,999\n"
     ]
    }
   ],
   "source": [
    "my_bank_account = 999_999_999\n",
    "print(my_bank_account)\n",
    "print(f\"{my_bank_account : ,}\")"
   ]
  },
  {
   "cell_type": "markdown",
   "metadata": {
    "id": "SeAE4AwO68Z4"
   },
   "source": [
    "## Open a web browser"
   ]
  },
  {
   "cell_type": "code",
   "execution_count": null,
   "metadata": {
    "id": "FEK7nGqU68Z4"
   },
   "outputs": [],
   "source": [
    "import webbrowser\n",
    "\n",
    "#webbrowser.open('https://www.google.com') #commented out because it's annoying"
   ]
  },
  {
   "cell_type": "markdown",
   "metadata": {
    "id": "-tK3Nco068Z5"
   },
   "source": [
    "## Concatenation without +"
   ]
  },
  {
   "cell_type": "code",
   "execution_count": null,
   "metadata": {
    "id": "jH0uxHNx68Z5",
    "outputId": "d4964378-cd1b-42bd-f6fe-fcc6c401a3ff"
   },
   "outputs": [
    {
     "name": "stdout",
     "output_type": "stream",
     "text": [
      "Hello this is a message\n"
     ]
    }
   ],
   "source": [
    "message = \"Hello this \" \"is a message\"\n",
    "print(message)"
   ]
  },
  {
   "cell_type": "markdown",
   "metadata": {
    "id": "E3XibFU868Z6"
   },
   "source": [
    "## Split string on multiple lines"
   ]
  },
  {
   "cell_type": "code",
   "execution_count": null,
   "metadata": {
    "id": "crUy7maf68Z7",
    "outputId": "e4f057c5-43c1-4269-dbe5-3b1745ec4044"
   },
   "outputs": [
    {
     "name": "stdout",
     "output_type": "stream",
     "text": [
      "This is a really long message that I split up over multiple lines for convenience sake. The actual output is the same\n"
     ]
    }
   ],
   "source": [
    "print(\"This is a really long message that I split up over \"\n",
    "\"multiple lines for convenience sake. \"\n",
    "\"The actual output is the same\")"
   ]
  },
  {
   "cell_type": "markdown",
   "metadata": {
    "id": "x23jajuD68Z7"
   },
   "source": [
    "## Multiline string"
   ]
  },
  {
   "cell_type": "code",
   "execution_count": null,
   "metadata": {
    "id": "lmbEnSv968Z8",
    "outputId": "3aed190f-ed3a-4e16-d1f8-e6a83ee6c138"
   },
   "outputs": [
    {
     "name": "stdout",
     "output_type": "stream",
     "text": [
      "This is a really long message that I split up over multiple lines for convenience sake.\n",
      "The output is affected.\n"
     ]
    }
   ],
   "source": [
    "# \\ to ignore newline. No spaces after!\n",
    "print('''This is a really long message that I split up over \\\n",
    "multiple lines for convenience sake.\n",
    "The output is affected.''')"
   ]
  },
  {
   "cell_type": "markdown",
   "metadata": {
    "id": "g8c4i9Up68Z8"
   },
   "source": [
    "## Multiline comment"
   ]
  },
  {
   "cell_type": "code",
   "execution_count": null,
   "metadata": {
    "id": "SB0c0CEp68Z8",
    "outputId": "a93fa896-05b7-40b0-c48c-7cc34678159d"
   },
   "outputs": [
    {
     "name": "stdout",
     "output_type": "stream",
     "text": [
      "5\n",
      "10\n"
     ]
    }
   ],
   "source": [
    "print(5)\n",
    "\"\"\"\n",
    "print('ignored!')\n",
    "print('pretty cool huh')\n",
    "\"\"\"\n",
    "print(10)"
   ]
  },
  {
   "cell_type": "markdown",
   "metadata": {
    "id": "csVrFF6268Z_"
   },
   "source": [
    "## Single line if"
   ]
  },
  {
   "cell_type": "code",
   "execution_count": null,
   "metadata": {
    "colab": {
     "base_uri": "https://localhost:8080/"
    },
    "id": "LzfiYRZY68Z_",
    "outputId": "4fe75f82-ebbc-49f7-b7ce-1d34cbdfcc56"
   },
   "outputs": [
    {
     "name": "stdout",
     "output_type": "stream",
     "text": [
      "0\n"
     ]
    }
   ],
   "source": [
    "if 'You' in 'YouTube': print('YouTube'.index('You')) #can throw error"
   ]
  },
  {
   "cell_type": "markdown",
   "metadata": {
    "id": "qCQd8lFg68aA"
   },
   "source": [
    "## Get index with find"
   ]
  },
  {
   "cell_type": "code",
   "execution_count": null,
   "metadata": {
    "id": "sEceYqy168aA",
    "outputId": "d7539244-1b24-4371-df36-fa317e03e684"
   },
   "outputs": [
    {
     "data": {
      "text/plain": [
       "-1"
      ]
     },
     "execution_count": 16,
     "metadata": {},
     "output_type": "execute_result"
    }
   ],
   "source": [
    "'YouTube'.find('flowers')"
   ]
  },
  {
   "cell_type": "markdown",
   "metadata": {
    "id": "7349cB2068aA"
   },
   "source": [
    "## Using id to get identity -- guarenteed to be unique for each object"
   ]
  },
  {
   "cell_type": "code",
   "execution_count": null,
   "metadata": {
    "id": "cYsqZ7TZ68aA",
    "outputId": "eb385e07-8703-4245-c7f1-fe39848724eb"
   },
   "outputs": [
    {
     "name": "stdout",
     "output_type": "stream",
     "text": [
      "140479393791744\n"
     ]
    }
   ],
   "source": [
    "data = {\"Caleb\": 5}\n",
    "print(id(data))"
   ]
  },
  {
   "cell_type": "markdown",
   "metadata": {
    "id": "M5DbCHpA68aB"
   },
   "source": [
    "## Aliases"
   ]
  },
  {
   "cell_type": "markdown",
   "metadata": {
    "id": "l6-HnbqI68aB"
   },
   "source": [
    "An alias is another name for something\n",
    "We use an alias if we want two variables pointing to the same data\n",
    "or if we want functions to be able to modify arguments passed it"
   ]
  },
  {
   "cell_type": "code",
   "execution_count": null,
   "metadata": {
    "id": "JAn9xHYP68aB",
    "outputId": "b289a238-9869-49e1-ee60-17f011088191"
   },
   "outputs": [
    {
     "name": "stdout",
     "output_type": "stream",
     "text": [
      "140479393791904\n",
      "140479393791904\n",
      "{'Caleb': 5, 'Erin': 13}\n"
     ]
    }
   ],
   "source": [
    "data1 = {\"Caleb\": 5}\n",
    "data2 = data1\n",
    "data2['Erin'] = 13\n",
    "\n",
    "print(id(data1))\n",
    "print(id(data2))\n",
    "print(data1)"
   ]
  },
  {
   "cell_type": "markdown",
   "metadata": {
    "id": "ZGonaVA168aB"
   },
   "source": [
    "## Primitive types are immutable"
   ]
  },
  {
   "cell_type": "code",
   "execution_count": null,
   "metadata": {
    "id": "9qDya8RV68aC",
    "outputId": "15a8b1d1-eef3-49c8-cc03-f591da1d011d"
   },
   "outputs": [
    {
     "name": "stdout",
     "output_type": "stream",
     "text": [
      "4311143040\n",
      "4311142752\n",
      "1\n"
     ]
    }
   ],
   "source": [
    "data1 = 10\n",
    "data2 = data1\n",
    "data2 = 1 #replaced data2\n",
    "\n",
    "print(id(data1))\n",
    "print(id(data2))\n",
    "print(data2)"
   ]
  },
  {
   "cell_type": "markdown",
   "metadata": {
    "id": "SU9-YsZZ68aC"
   },
   "source": [
    "## replace list vs replace list content"
   ]
  },
  {
   "cell_type": "code",
   "execution_count": null,
   "metadata": {
    "colab": {
     "base_uri": "https://localhost:8080/"
    },
    "id": "wRlKmDPZ68aC",
    "outputId": "91afe455-fec8-40fb-ef64-35a4a4a4be4a"
   },
   "outputs": [
    {
     "name": "stdout",
     "output_type": "stream",
     "text": [
      "['C++', 'Go', 'Python']\n",
      "['C++', 'Go', 'Python']\n",
      "['new']\n"
     ]
    }
   ],
   "source": [
    "def replace_list(data):\n",
    "    data = ['new']\n",
    "    \n",
    "def replace_list_content(data):\n",
    "    data[:] = ['new']\n",
    "    \n",
    "languages = ['C++', 'Go', 'Python']\n",
    "\n",
    "print(languages)\n",
    "replace_list(languages)\n",
    "print(languages)\n",
    "replace_list_content(languages)\n",
    "print(languages)"
   ]
  },
  {
   "cell_type": "markdown",
   "metadata": {
    "id": "s0wwM33V68aD"
   },
   "source": [
    "## Copy a list with slicing"
   ]
  },
  {
   "cell_type": "code",
   "execution_count": null,
   "metadata": {
    "id": "v-gJcsQa68aD",
    "outputId": "fd280bfc-4b30-4ca4-c93e-4fb3a4ffaa8d"
   },
   "outputs": [
    {
     "name": "stdout",
     "output_type": "stream",
     "text": [
      "140479393918480 140479393910944\n"
     ]
    }
   ],
   "source": [
    "languages = ['C++', 'Go', 'Python']\n",
    "learning = languages[:]\n",
    "\n",
    "print(id(languages), id(learning))"
   ]
  },
  {
   "cell_type": "markdown",
   "metadata": {
    "id": "vjd6vHJb68aD"
   },
   "source": [
    "## Copy a list with method"
   ]
  },
  {
   "cell_type": "code",
   "execution_count": null,
   "metadata": {
    "id": "MxeUtszi68aD",
    "outputId": "5d7f55a7-0eb6-4a93-8751-9494c7bcceac"
   },
   "outputs": [
    {
     "name": "stdout",
     "output_type": "stream",
     "text": [
      "140479393912224 140479393916880\n"
     ]
    }
   ],
   "source": [
    "languages = ['C++', 'Go', 'Python']\n",
    "learning = languages.copy()\n",
    "\n",
    "print(id(languages), id(learning))"
   ]
  },
  {
   "cell_type": "markdown",
   "metadata": {
    "id": "QE3u8_lS68aE"
   },
   "source": [
    "## Using deepcopy"
   ]
  },
  {
   "cell_type": "markdown",
   "metadata": {
    "id": "V-FtdiiQ68aE"
   },
   "source": [
    "shallow copy copies each element's address to the new location\n",
    "This means that if one of the elements is an object itself, the address it points to copied.\n",
    "Now we have two different lists that point to the same object \n",
    "Deepcopy goes further by copying any of the objects as well, not just the pointer to them. "
   ]
  },
  {
   "cell_type": "code",
   "execution_count": null,
   "metadata": {
    "id": "c2C0RPa268aE",
    "outputId": "fffaea8d-b22f-44bc-a45f-90f89479508e"
   },
   "outputs": [
    {
     "name": "stdout",
     "output_type": "stream",
     "text": [
      "False\n",
      "True\n",
      "False\n",
      "False\n"
     ]
    }
   ],
   "source": [
    "from copy import deepcopy\n",
    "\n",
    "tech = ['C++', 'Go', 'Python', ['html', 'css', 'pics']]\n",
    "learning = tech.copy()\n",
    "print(id(tech) == id(learning))\n",
    "print(id(tech[-1]) == id(learning[-1])) #true with shallow copy\n",
    "\n",
    "learning = deepcopy(tech)\n",
    "print(id(tech) == id(learning))\n",
    "print(id(tech[-1]) == id(learning[-1]))"
   ]
  },
  {
   "cell_type": "markdown",
   "metadata": {
    "id": "5ZT2QLAZ68aE"
   },
   "source": [
    "## Concatenate lists"
   ]
  },
  {
   "cell_type": "code",
   "execution_count": null,
   "metadata": {
    "id": "jHbxbTVr68aE",
    "outputId": "5350bba5-5c25-4333-9afe-2b8d3ec1eb1c"
   },
   "outputs": [
    {
     "name": "stdout",
     "output_type": "stream",
     "text": [
      "[1, 2, 3, 4, 5, 6]\n"
     ]
    }
   ],
   "source": [
    "beginning = [1, 2, 3]\n",
    "end = [4, 5, 6]\n",
    "print(beginning + end)"
   ]
  },
  {
   "cell_type": "markdown",
   "metadata": {
    "id": "YYjfhr3o68aF"
   },
   "source": [
    "## Comparing not vs is None"
   ]
  },
  {
   "cell_type": "markdown",
   "metadata": {
    "id": "3badWQjL68aF"
   },
   "source": [
    "not will check for implicit false values\n",
    "which includes empty lists, zero, and False"
   ]
  },
  {
   "cell_type": "code",
   "execution_count": null,
   "metadata": {
    "id": "OptAQrDF68aF",
    "outputId": "990f0ba4-c566-4120-b0d9-df525018c066"
   },
   "outputs": [
    {
     "name": "stdout",
     "output_type": "stream",
     "text": [
      "True\n",
      "False\n",
      "True\n",
      "True\n"
     ]
    }
   ],
   "source": [
    "data1 = []\n",
    "data2 = None\n",
    "print(not data1)\n",
    "print(data1 is None)\n",
    "\n",
    "print(not data2) # None evaluates to false\n",
    "print(data2 is None)\n"
   ]
  },
  {
   "cell_type": "markdown",
   "metadata": {
    "id": "Fd1kewTn68aF"
   },
   "source": [
    "## Check empty list"
   ]
  },
  {
   "cell_type": "code",
   "execution_count": null,
   "metadata": {
    "id": "TEEDaqLV68aF",
    "outputId": "efc8a364-1070-4d8f-810f-943c2a3f9e66"
   },
   "outputs": [
    {
     "name": "stdout",
     "output_type": "stream",
     "text": [
      "True\n",
      "True\n",
      "False\n"
     ]
    }
   ],
   "source": [
    "data = []\n",
    "\n",
    "#often seen:\n",
    "#print(len(data) == 0): #not the Python way. Throws if None\n",
    "\n",
    "print(not data) #empty, None, or zero \n",
    "\n",
    "#You can also check these things:\n",
    "print(data is not None) #anything but None\n",
    "print(data is None) #None only\n",
    "    "
   ]
  },
  {
   "cell_type": "markdown",
   "metadata": {
    "id": "eQikih9S68aG"
   },
   "source": [
    "## Check if exists"
   ]
  },
  {
   "cell_type": "code",
   "execution_count": null,
   "metadata": {
    "id": "KU1NmjCw68aG",
    "outputId": "462743fc-67b8-4642-9b64-fd1293b141cd"
   },
   "outputs": [
    {
     "name": "stdout",
     "output_type": "stream",
     "text": [
      "True True\n",
      "False False\n",
      "True True\n"
     ]
    }
   ],
   "source": [
    "age = 16\n",
    "\n",
    "print('age' in locals(), 'age' in globals())\n",
    "del age\n",
    "print('age' in locals(), 'age' in globals())\n",
    "\n",
    "age = None\n",
    "print('age' in locals(), 'age' in globals())"
   ]
  },
  {
   "cell_type": "markdown",
   "metadata": {
    "id": "TTq6cOi068aH"
   },
   "source": [
    "## String formatting for easy string making"
   ]
  },
  {
   "cell_type": "markdown",
   "metadata": {
    "id": "KYKRCDYt68aH"
   },
   "source": [
    "Using commas to separate variables within print is nice and convenient, but what if you want a string variable?\n",
    "Using commas actually creates a tuple (not what we want).\n",
    "The common solution of using string concatentation is ugly. \n",
    "Instead, use f strings!"
   ]
  },
  {
   "cell_type": "code",
   "execution_count": null,
   "metadata": {
    "id": "4nbfCG-Y68aH",
    "outputId": "3aa74840-7923-4ae9-baa3-56f4cb435394"
   },
   "outputs": [
    {
     "name": "stdout",
     "output_type": "stream",
     "text": [
      "('Caleb', 25)\n",
      "My name is Caleb. I am 25 years old.\n",
      "My name is Caleb. I am 25 years old.\n"
     ]
    }
   ],
   "source": [
    "message = name, age\n",
    "print(message) #makes a tuple\n",
    "\n",
    "print(\"My name is \" + str(name) + \". I am \" + str(age) + \" years old.\")\n",
    "\n",
    "print(f\"My name is {name}. I am {age} years old.\") #implict string conversion"
   ]
  },
  {
   "cell_type": "markdown",
   "metadata": {
    "id": "zjAh4aCd68aH"
   },
   "source": [
    "## Return multiple values and assign to multiple variables"
   ]
  },
  {
   "cell_type": "code",
   "execution_count": null,
   "metadata": {
    "id": "H8NoYLl668aH",
    "outputId": "8045fd8a-3965-4b49-ef9e-701930db2417"
   },
   "outputs": [
    {
     "name": "stdout",
     "output_type": "stream",
     "text": [
      "(5, 10, 15, 20)\n",
      "5 10 15 20\n"
     ]
    }
   ],
   "source": [
    "def get_position():\n",
    "    #get from user or something\n",
    "    return 5, 10, 15, 20\n",
    "\n",
    "print(get_position()) \n",
    "x, y, z, a = get_position()\n",
    "print(x, y, z, a)"
   ]
  },
  {
   "cell_type": "markdown",
   "metadata": {
    "id": "JgRUAwwj68aI"
   },
   "source": [
    "## Ternary conditional operator"
   ]
  },
  {
   "cell_type": "code",
   "execution_count": null,
   "metadata": {
    "id": "4VH9sceF68aI",
    "outputId": "489c08b6-a691-4d17-e0b3-ff5c27d0aeaa"
   },
   "outputs": [
    {
     "name": "stdout",
     "output_type": "stream",
     "text": [
      "admin\n",
      "visitor\n"
     ]
    }
   ],
   "source": [
    "#You'll typically see:\n",
    "reputation = 30\n",
    "if reputation > 25:\n",
    "    name = \"admin\"\n",
    "else:\n",
    "    name = \"visitor\"\n",
    "print(name)\n",
    "\n",
    "reputation = 20\n",
    "name = \"admin\" if reputation > 25 else \"visitor\"\n",
    "print(name)"
   ]
  },
  {
   "cell_type": "markdown",
   "metadata": {
    "id": "ksJAWy8u68aI"
   },
   "source": [
    "## Else can be used with loop"
   ]
  },
  {
   "cell_type": "markdown",
   "metadata": {
    "id": "SLtpUVN068aI"
   },
   "source": [
    "Option 1 is yes or no\n",
    "option 2 uses a flag variable. can also remove break and continue iteration\n",
    "option 3 else will execute if no break is found (in other words--No cats)"
   ]
  },
  {
   "cell_type": "code",
   "execution_count": null,
   "metadata": {
    "id": "8-p4II-868aI",
    "outputId": "ba9be7ee-4990-4340-f01a-d04e739e1ea8"
   },
   "outputs": [
    {
     "name": "stdout",
     "output_type": "stream",
     "text": [
      "eww a cat\n",
      "dog dog cat eww a cat\n",
      "dog dog bird chicken dog No cat found\n"
     ]
    }
   ],
   "source": [
    "pets = ['dog', 'dog', 'cat', 'bird', 'chicken', 'dog']\n",
    "\n",
    "if 'cat' in pets: print(\"eww a cat\") #option 1\n",
    "    \n",
    "cat_found = False    \n",
    "for pet in pets:\n",
    "    print(pet, end=\" \") #do something with each element if needed\n",
    "    if pet == 'cat':\n",
    "        cat_found = True #could count elements\n",
    "        break \n",
    "\n",
    "if cat_found: print(\"eww a cat\") #option 2\n",
    "    \n",
    "\n",
    "pets.remove('cat')\n",
    "for pet in pets:\n",
    "    print(pet, end=\" \")\n",
    "    if pet == 'cat':\n",
    "        break\n",
    "        \n",
    "else: #no break -- option 3\n",
    "    print(\"No cat found\")\n"
   ]
  },
  {
   "cell_type": "markdown",
   "metadata": {
    "id": "rz6eOEMx68aJ"
   },
   "source": [
    "## Use range to generate lists"
   ]
  },
  {
   "cell_type": "markdown",
   "metadata": {
    "id": "9sSCN5is68aJ"
   },
   "source": [
    "type of range is list in python 2. Make sure you're running with Python 3. \n",
    "For me, the python command defaults to Python2 so I use the python3 command"
   ]
  },
  {
   "cell_type": "code",
   "execution_count": null,
   "metadata": {
    "id": "ZgjDF7Kj68aJ",
    "outputId": "b3397776-0eaf-4646-db65-ff405d13e5db"
   },
   "outputs": [
    {
     "name": "stdout",
     "output_type": "stream",
     "text": [
      "0 1 2 3 4 5 6 7 8 9 <class 'range'>\n",
      "[0, 3, 6, 9, 12, 15, 18, 21, 24, 27, 30, 33, 36, 39, 42, 45, 48, 51, 54, 57, 60, 63, 66, 69, 72, 75, 78, 81, 84, 87, 90, 93, 96, 99]\n"
     ]
    }
   ],
   "source": [
    "for i in range(10):\n",
    "    print(i, end=\" \")\n",
    "print(type(range(10)))\n",
    "\n",
    "print(list(range(0, 100, 3)))"
   ]
  },
  {
   "cell_type": "markdown",
   "metadata": {
    "id": "g6OgmaYt68aJ"
   },
   "source": [
    "## Unpack operator"
   ]
  },
  {
   "cell_type": "markdown",
   "metadata": {
    "id": "GdhUmJGG68aJ"
   },
   "source": [
    "Given a list you can split it into individual values"
   ]
  },
  {
   "cell_type": "code",
   "execution_count": null,
   "metadata": {
    "id": "cm0typUm68aJ",
    "outputId": "15c5232c-7f86-41df-df1f-33389a7958e5"
   },
   "outputs": [
    {
     "name": "stdout",
     "output_type": "stream",
     "text": [
      "moving character to 5 10 15\n"
     ]
    }
   ],
   "source": [
    "def move_position(x, y, z):\n",
    "    print(f'moving character to {x} {y} {z}')\n",
    "    \n",
    "pos = [5, 10, 15]\n",
    "move_position(*pos) "
   ]
  },
  {
   "cell_type": "markdown",
   "metadata": {
    "id": "MICn_rSW68aK"
   },
   "source": [
    "## How to do nothing in Python with pass\n",
    "Python doesn't have { }, so this is how we do the equiv in Python"
   ]
  },
  {
   "cell_type": "code",
   "execution_count": null,
   "metadata": {
    "id": "EHxpAT0I68aK"
   },
   "outputs": [],
   "source": [
    "def move_position(x, y, z):\n",
    "    pass"
   ]
  },
  {
   "cell_type": "markdown",
   "metadata": {
    "id": "eSpVjx8Z68aL"
   },
   "source": [
    "## Using in instead of complex conditional - Check against list of values"
   ]
  },
  {
   "cell_type": "code",
   "execution_count": null,
   "metadata": {
    "id": "ylcLoXrq68aL",
    "outputId": "abfd29b4-b83e-40dd-9fc0-3d46b3f2de04"
   },
   "outputs": [
    {
     "name": "stdout",
     "output_type": "stream",
     "text": [
      "cancelled\n"
     ]
    }
   ],
   "source": [
    "weather = \"rainy\"\n",
    "\n",
    "if weather in ['rainy', 'cold', 'snowy']:\n",
    "    print(\"cancelled\")"
   ]
  },
  {
   "cell_type": "markdown",
   "metadata": {
    "id": "Xiy2LAxn68aL"
   },
   "source": [
    "## complex conditional - Evaluate against any conditon"
   ]
  },
  {
   "cell_type": "code",
   "execution_count": null,
   "metadata": {
    "id": "6O1-uA-Y68aL",
    "outputId": "73423974-67b1-4e50-d479-55668d9f428f"
   },
   "outputs": [
    {
     "name": "stdout",
     "output_type": "stream",
     "text": [
      "You're an admin\n"
     ]
    }
   ],
   "source": [
    "age = 21\n",
    "reputation = 20\n",
    "\n",
    "conditions = [ \n",
    "    age >= 21,\n",
    "    reputation > 25\n",
    "]\n",
    "    \n",
    "if any(conditions):\n",
    "    print(\"You're an admin\")"
   ]
  },
  {
   "cell_type": "markdown",
   "metadata": {
    "id": "9Nwoo1kT68aL"
   },
   "source": [
    "## complex conditional - Evaluate against all conditions"
   ]
  },
  {
   "cell_type": "code",
   "execution_count": null,
   "metadata": {
    "id": "Y13B-Olr68aL",
    "outputId": "8c279d6b-b549-4c16-9ad4-cbf84702c2ad"
   },
   "outputs": [
    {
     "name": "stdout",
     "output_type": "stream",
     "text": [
      "You're a standard user\n"
     ]
    }
   ],
   "source": [
    "age = 21\n",
    "reputation = 20\n",
    "\n",
    "conditions = [ \n",
    "    age >= 21,\n",
    "    reputation > 25\n",
    "]\n",
    "    \n",
    "if all(conditions):\n",
    "    print(\"You're an admin\")\n",
    "else:\n",
    "    print(\"You're a standard user\")"
   ]
  },
  {
   "cell_type": "markdown",
   "metadata": {
    "id": "XFRXl4An68aM"
   },
   "source": [
    "## Split from string to multiple variables"
   ]
  },
  {
   "cell_type": "code",
   "execution_count": null,
   "metadata": {
    "id": "8QX-vvhU68aM",
    "outputId": "69d8883f-7b74-4166-91fb-926f1428626c"
   },
   "outputs": [
    {
     "name": "stdout",
     "output_type": "stream",
     "text": [
      "Caleb Curry\n",
      "[1, 2, 3]\n"
     ]
    }
   ],
   "source": [
    "full_name = \"Caleb Curry\"\n",
    "first, last = full_name.split() #returns list but can assign to individual variables\n",
    "print(first, last)\n",
    "\n",
    "data = \"1 2 3\"\n",
    "data = [int(d) for d in data.split()]\n",
    "print(data)\n",
    "\n",
    "#This is most useful to get multiple inputs separated by spaces:\n",
    "#first, last = input().split()"
   ]
  },
  {
   "cell_type": "markdown",
   "metadata": {
    "id": "qGQAvzNZ68aM"
   },
   "source": [
    "## Join data "
   ]
  },
  {
   "cell_type": "code",
   "execution_count": null,
   "metadata": {
    "id": "5yd3h1l468aM",
    "outputId": "9c4694e5-2303-440a-c967-1ceaf304c838"
   },
   "outputs": [
    {
     "name": "stdout",
     "output_type": "stream",
     "text": [
      "Caleb Curry\n"
     ]
    }
   ],
   "source": [
    "names = [\"Caleb\", \"Curry\"]\n",
    "full_name = \" \".join(names)\n",
    "print(full_name)\n"
   ]
  },
  {
   "cell_type": "markdown",
   "metadata": {
    "id": "Vq-l2d5868aM"
   },
   "source": [
    "## Removing certain elements from a list"
   ]
  },
  {
   "cell_type": "code",
   "execution_count": null,
   "metadata": {
    "colab": {
     "base_uri": "https://localhost:8080/"
    },
    "id": "rD6_YKlj68aM",
    "outputId": "cd87e6b8-5281-43d3-e393-6d985c3a91aa"
   },
   "outputs": [
    {
     "name": "stdout",
     "output_type": "stream",
     "text": [
      "['dog', 'dog', 'bird', 'dog']\n"
     ]
    }
   ],
   "source": [
    "pets = ['dog', 'dog', 'cat', 'bird', 'cat','chicken', 'cat', 'dog']\n",
    "\n",
    "clean_pets = [pet for pet in pets if pet not in ['cat','chicken']] \n",
    "# in case there is only 1 if, it occurs after for in list comprehension\n",
    "#there is both if and else then it occurs before for loop in list comprehension\n",
    "print(clean_pets)"
   ]
  },
  {
   "cell_type": "markdown",
   "metadata": {
    "id": "UjuBKRXf68aN"
   },
   "source": [
    "## Iterate backwards with reversed"
   ]
  },
  {
   "cell_type": "code",
   "execution_count": null,
   "metadata": {
    "id": "aSL1A6HK68aN",
    "outputId": "92c56922-70f8-4dee-c507-84222071d360"
   },
   "outputs": [
    {
     "name": "stdout",
     "output_type": "stream",
     "text": [
      "dog cat chicken cat bird cat dog dog "
     ]
    }
   ],
   "source": [
    "pets = ['dog', 'dog', 'cat', 'bird', 'cat','chicken', 'cat', 'dog']\n",
    "for pet in reversed(pets):\n",
    "    print(pet, end=\" \")"
   ]
  },
  {
   "cell_type": "markdown",
   "metadata": {
    "id": "xgat6wfS68aN"
   },
   "source": [
    "## No do-while loop in python"
   ]
  },
  {
   "cell_type": "code",
   "execution_count": null,
   "metadata": {
    "id": "Wqxde0Xp68aN",
    "outputId": "2cf12abd-3b6a-4c83-bd5e-471564ebb070"
   },
   "outputs": [
    {
     "name": "stdout",
     "output_type": "stream",
     "text": [
      "Choose an option:\n",
      "1. play game\n",
      "2. load game\n",
      "3. high scores\n",
      "4. quit\n"
     ]
    }
   ],
   "source": [
    "while True:\n",
    "    print(\"\"\"Choose an option:\n",
    "1. play game\n",
    "2. load game\n",
    "3. high scores\n",
    "4. quit\"\"\")\n",
    "    #if input() == \"4\":\n",
    "    if True: \n",
    "        break\n",
    "        \n",
    "    "
   ]
  },
  {
   "cell_type": "markdown",
   "metadata": {
    "id": "NXXVoSal68aN"
   },
   "source": [
    "## Assigning a function to a variable  - just don’t use ()"
   ]
  },
  {
   "cell_type": "code",
   "execution_count": null,
   "metadata": {
    "id": "BUlkbhOu68aO",
    "outputId": "d335409d-01b8-433d-92ee-c9b3f9a3e2a7"
   },
   "outputs": [
    {
     "name": "stdout",
     "output_type": "stream",
     "text": [
      "Doing things....\n"
     ]
    }
   ],
   "source": [
    "def done():\n",
    "    print(\"done\")\n",
    "   \n",
    "def do_something(callback):\n",
    "    print(\"Doing things....\")\n",
    "    \n",
    "do_something(done)"
   ]
  },
  {
   "cell_type": "markdown",
   "metadata": {
    "id": "QzosiozM68aO"
   },
   "source": [
    "## Wait with time.sleep"
   ]
  },
  {
   "cell_type": "code",
   "execution_count": null,
   "metadata": {
    "colab": {
     "base_uri": "https://localhost:8080/"
    },
    "id": "ySDwQkx468aO",
    "outputId": "6348a9a6-b45e-4ffe-8290-08bc2941f6f8"
   },
   "outputs": [
    {
     "name": "stdout",
     "output_type": "stream",
     "text": [
      "Doing things....\n"
     ]
    }
   ],
   "source": [
    "import time\n",
    "def done():\n",
    "    print(\"done\")\n",
    "   \n",
    "def do_something(callback):\n",
    "    time.sleep(10)\n",
    "    print(\"Doing things....\")\n",
    "    \n",
    "do_something(done)"
   ]
  },
  {
   "cell_type": "markdown",
   "metadata": {
    "id": "u6Ylbdv168aO"
   },
   "source": [
    "## Get index with for loop"
   ]
  },
  {
   "cell_type": "code",
   "execution_count": null,
   "metadata": {
    "colab": {
     "base_uri": "https://localhost:8080/"
    },
    "id": "MLXbkJya68aO",
    "outputId": "bfaf3b6d-30d5-4e30-cef1-1c0da94d9e7c"
   },
   "outputs": [
    {
     "name": "stdout",
     "output_type": "stream",
     "text": [
      "1 dog\n",
      "2 dog\n",
      "3 cat\n",
      "4 bird\n",
      "5 cat\n",
      "6 chicken\n",
      "7 cat\n",
      "8 dog\n"
     ]
    }
   ],
   "source": [
    "pets = ['dog', 'dog', 'cat', 'bird', 'cat','chicken', 'cat', 'dog']\n",
    "\n",
    "for i, pet in enumerate(pets, start=1):\n",
    "    print(i, pet)"
   ]
  },
  {
   "cell_type": "markdown",
   "metadata": {
    "id": "eSgEF37S68aO"
   },
   "source": [
    "## Flatten a list with nested list comprehension"
   ]
  },
  {
   "cell_type": "code",
   "execution_count": null,
   "metadata": {
    "colab": {
     "base_uri": "https://localhost:8080/"
    },
    "id": "Og2AWEOL68aO",
    "outputId": "9c23b447-e44b-4ae8-a8b1-3660775a2b46"
   },
   "outputs": [
    {
     "name": "stdout",
     "output_type": "stream",
     "text": [
      "[5, 10, 15, 20, 25, 30, 35, 40]\n",
      "[5, 10, 15, 20, 25, 30, 35, 40]\n"
     ]
    }
   ],
   "source": [
    "pairs = [[5, 10],[15, 20],[25, 30, 35, 40]]\n",
    "\n",
    "flat = []\n",
    "for pair in pairs:\n",
    "    for item in pair:\n",
    "        flat.append(item)\n",
    "\n",
    "print(flat)\n",
    "\n",
    "flat_list = [item for pair in pairs for item in pair]\n",
    "print(flat_list)\n",
    "#notice important sections: \n",
    "#for pair in pairs\n",
    "#for item in pair"
   ]
  },
  {
   "cell_type": "markdown",
   "metadata": {
    "id": "aiG6QDwy68aP"
   },
   "source": [
    "## Wrapping a Primitive to change within function\n",
    "You can also use a list for simplicity"
   ]
  },
  {
   "cell_type": "code",
   "execution_count": null,
   "metadata": {
    "id": "m2dzhuDF68aP",
    "outputId": "249c4a93-8837-45f8-b28a-3104114b33f2"
   },
   "outputs": [
    {
     "name": "stdout",
     "output_type": "stream",
     "text": [
      "3125\n"
     ]
    }
   ],
   "source": [
    "class Container:\n",
    "    def __init__(self, data):\n",
    "        self.data = data\n",
    "    \n",
    "def calculate(input):\n",
    "    input.data **= 5\n",
    "    \n",
    "container = Container(5)\n",
    "calculate(container)\n",
    "print(container.data)"
   ]
  },
  {
   "cell_type": "markdown",
   "metadata": {
    "id": "AqMQAuB268aP"
   },
   "source": [
    "## Compare identity with is"
   ]
  },
  {
   "cell_type": "code",
   "execution_count": null,
   "metadata": {
    "id": "05wRwY6r68aP",
    "outputId": "758eeff5-5fa1-48f1-9996-43fe77c90ee9"
   },
   "outputs": [
    {
     "name": "stdout",
     "output_type": "stream",
     "text": [
      "140479253959632 140479253959504\n",
      "False\n",
      "False\n"
     ]
    }
   ],
   "source": [
    "c1 = Container(5)\n",
    "c2 = Container(5)\n",
    "print(id(c1), id(c2))\n",
    "print(id(c1) == id(c2)) \n",
    "\n",
    "print(c1 is c2) #better code"
   ]
  },
  {
   "cell_type": "markdown",
   "metadata": {
    "id": "YX-cz-hc68aP"
   },
   "source": [
    "## Add a method dynamically"
   ]
  },
  {
   "cell_type": "code",
   "execution_count": null,
   "metadata": {
    "id": "larFsH6K68aP",
    "outputId": "9d8cbb86-4bd1-49fc-de62-218612979c5b"
   },
   "outputs": [
    {
     "name": "stdout",
     "output_type": "stream",
     "text": [
      "<function __eq__ at 0x7fc3e0074680>\n"
     ]
    }
   ],
   "source": [
    "def __eq__(self, other):\n",
    "    return self.data == other.data\n",
    "\n",
    "Container.__eq__ = __eq__\n",
    "\n",
    "print(Container.__eq__)"
   ]
  },
  {
   "cell_type": "markdown",
   "metadata": {
    "id": "6bPKbSUm68aQ"
   },
   "source": [
    "## Compare by Value"
   ]
  },
  {
   "cell_type": "code",
   "execution_count": null,
   "metadata": {
    "id": "ko8Ofr8O68aQ",
    "outputId": "374897eb-7ee1-4ef7-976a-58c593ed15fb"
   },
   "outputs": [
    {
     "name": "stdout",
     "output_type": "stream",
     "text": [
      "True\n",
      "False\n"
     ]
    }
   ],
   "source": [
    "c1 = Container(5)\n",
    "c2 = Container(5)\n",
    "\n",
    "print(c1 == c2) #same values\n",
    "print(c1 is c2) #different objects"
   ]
  },
  {
   "cell_type": "markdown",
   "metadata": {
    "id": "WUmgErbt68aQ"
   },
   "source": [
    "## Class parenthesis optional but not function parenthesis\n",
    "The () are optional for classes. Only needed if you're inheriting. However, function () are always required when defining."
   ]
  },
  {
   "cell_type": "code",
   "execution_count": null,
   "metadata": {
    "id": "UdFg6tdJ68aQ"
   },
   "outputs": [],
   "source": [
    "class Container():\n",
    "    def __init__(self, data):\n",
    "        self.data = data\n",
    "\n",
    "class Container: \n",
    "    def __init__(self, data):\n",
    "        self.data = data\n",
    "\n",
    "#def function:\n",
    "#    print(\"oopsies\")"
   ]
  },
  {
   "cell_type": "markdown",
   "metadata": {
    "id": "1NYO8zxI68aQ"
   },
   "source": [
    "## Get current date and time"
   ]
  },
  {
   "cell_type": "code",
   "execution_count": null,
   "metadata": {
    "colab": {
     "base_uri": "https://localhost:8080/"
    },
    "id": "8NC8iSAz68aQ",
    "outputId": "39fc8090-efee-4f73-f78a-e8a8dc3324ae"
   },
   "outputs": [
    {
     "name": "stdout",
     "output_type": "stream",
     "text": [
      "2022-12-23 15:54:03.726737\n",
      "23 12 2022 15 54 3\n"
     ]
    }
   ],
   "source": [
    "from datetime import datetime\n",
    "now = datetime.now()\n",
    "print(now)\n",
    "print(now.day, now.month, now.year, now.hour, now.minute, now.second)"
   ]
  },
  {
   "cell_type": "markdown",
   "metadata": {
    "id": "DkYWUxUL68aR"
   },
   "source": [
    "## Countdown\n",
    "You can do this in a loop if you need."
   ]
  },
  {
   "cell_type": "code",
   "execution_count": null,
   "metadata": {
    "colab": {
     "base_uri": "https://localhost:8080/"
    },
    "id": "Ad5lmYnQ68aR",
    "outputId": "420e8295-5b6e-418f-a3b2-991b4563b123"
   },
   "outputs": [
    {
     "name": "stdout",
     "output_type": "stream",
     "text": [
      "-753 days, 12:05:29.309159\n"
     ]
    }
   ],
   "source": [
    "from datetime import datetime\n",
    "now = datetime.now()\n",
    "end = datetime(2020, 12, 1)\n",
    "print(end-now) "
   ]
  },
  {
   "cell_type": "markdown",
   "metadata": {
    "id": "Onht0vNW68aR"
   },
   "source": [
    "## Elapsed time"
   ]
  },
  {
   "cell_type": "code",
   "execution_count": null,
   "metadata": {
    "colab": {
     "base_uri": "https://localhost:8080/"
    },
    "id": "1DdR2N1768aR",
    "outputId": "53b59704-74cb-4008-eef4-f014f996eb0f"
   },
   "outputs": [
    {
     "name": "stdout",
     "output_type": "stream",
     "text": [
      "<class 'datetime.timedelta'>\n",
      "0:00:02.864680\n",
      "2 864680\n"
     ]
    }
   ],
   "source": [
    "from datetime import datetime\n",
    "start = datetime.now()\n",
    "\n",
    "for i in range(100_000_000): #to pass time\n",
    "    pass\n",
    "\n",
    "end = datetime.now()\n",
    "\n",
    "print(type(end-start))\n",
    "elapsed = end-start\n",
    "print(elapsed)\n",
    "print(elapsed.seconds, elapsed.microseconds)"
   ]
  },
  {
   "cell_type": "markdown",
   "metadata": {
    "id": "sB734PzH68aR"
   },
   "source": [
    "## Parentheses for operations with object members\n",
    "operator precedence - dot operator comes ahead of +/- operator."
   ]
  },
  {
   "cell_type": "code",
   "execution_count": null,
   "metadata": {
    "id": "Jnbek46l68aR",
    "outputId": "8e228fea-6fe3-4bac-d33f-4bd792bc1916"
   },
   "outputs": [
    {
     "name": "stdout",
     "output_type": "stream",
     "text": [
      "16\n",
      "Wrong\n"
     ]
    }
   ],
   "source": [
    "now = datetime.now()\n",
    "then = datetime.now()\n",
    "\n",
    "elapsed = (then-now).microseconds\n",
    "print(elapsed)\n",
    "\n",
    "try:\n",
    "    print(then-now.microseconds)\n",
    "except:\n",
    "    print(\"Wrong\")"
   ]
  },
  {
   "cell_type": "markdown",
   "metadata": {
    "id": "fB0wM_Zf68aS"
   },
   "source": [
    "## Runtime error vs syntax error\n",
    "Syntax errors are impossible to be correct and will prevent execution  \n",
    "Runtime errors deal with incorrect data found during runtime"
   ]
  },
  {
   "cell_type": "code",
   "execution_count": null,
   "metadata": {
    "id": "aRz02aes68aS",
    "outputId": "d6c09bea-0cd8-492a-e436-5048f9a7a81d"
   },
   "outputs": [
    {
     "name": "stdout",
     "output_type": "stream",
     "text": [
      "Wrong\n"
     ]
    }
   ],
   "source": [
    "#def function:\n",
    "#    print('wrong syntax')\n",
    "    \n",
    "try:\n",
    "    print(then-now.microseconds)\n",
    "except:\n",
    "    print(\"Wrong\")  \n",
    "\n"
   ]
  },
  {
   "cell_type": "markdown",
   "metadata": {
    "id": "C7fCZ7Vw68aS"
   },
   "source": [
    "## Get a random number"
   ]
  },
  {
   "cell_type": "code",
   "execution_count": null,
   "metadata": {
    "id": "_Yv3L01b68aS",
    "outputId": "4c53ec1c-d20e-4fb1-a1e9-3d3962c4f929"
   },
   "outputs": [
    {
     "name": "stdout",
     "output_type": "stream",
     "text": [
      "4\n"
     ]
    }
   ],
   "source": [
    "from random import randint\n",
    "print(randint(0, 12)) #inclusive #inclusive"
   ]
  },
  {
   "cell_type": "markdown",
   "metadata": {
    "id": "NGxYioF268aS"
   },
   "source": [
    "## Import with Alias\n",
    "This capability came in handy for me when I needed a module  \n",
    "to be a specific name for my code to work"
   ]
  },
  {
   "cell_type": "code",
   "execution_count": null,
   "metadata": {
    "id": "wVOqNczx68aS",
    "outputId": "c1a22554-1044-4718-d93e-31470e9ddd2a"
   },
   "outputs": [
    {
     "name": "stdout",
     "output_type": "stream",
     "text": [
      "52 1\n"
     ]
    }
   ],
   "source": [
    "def randint():\n",
    "    return 52\n",
    "    \n",
    "from random import randint as r\n",
    "    \n",
    "print(randint(), r(0, 100))"
   ]
  },
  {
   "cell_type": "markdown",
   "metadata": {
    "id": "flHirOzP68aT"
   },
   "source": [
    "## Generators and Yield"
   ]
  },
  {
   "cell_type": "code",
   "execution_count": null,
   "metadata": {
    "id": "xJaBqC9f68aT",
    "outputId": "495d7a55-ce15-4fef-80f1-cd8ff44420b5"
   },
   "outputs": [
    {
     "name": "stdout",
     "output_type": "stream",
     "text": [
      "0 1 1 2 3\n",
      "0 1 1 2 3 5 8 13 21 34 55 89 144 233 377 610 987 1597 2584 4181 "
     ]
    }
   ],
   "source": [
    "def fib(count):\n",
    "    a, b = 0, 1\n",
    "    while count:\n",
    "        yield a\n",
    "        a, b, = b, b + a\n",
    "        count -= 1\n",
    "\n",
    "\n",
    "gen = fib(100)\n",
    "print(next(gen), next(gen), next(gen), next(gen), next(gen))\n",
    "\n",
    "for i in fib(20):\n",
    "    print(i, end=\" \")\n"
   ]
  },
  {
   "cell_type": "markdown",
   "metadata": {
    "id": "FeZa-PHZ68aT"
   },
   "source": [
    "## infinite number"
   ]
  },
  {
   "cell_type": "code",
   "execution_count": null,
   "metadata": {
    "id": "rqpTKa4A68aT",
    "outputId": "9a537b3b-8b37-4a9f-e905-f110df0de4d8"
   },
   "outputs": [
    {
     "name": "stdout",
     "output_type": "stream",
     "text": [
      "inf\n",
      "inf inf\n"
     ]
    }
   ],
   "source": [
    "import math\n",
    "#inf = (float('inf')) #other way without math.\n",
    "print(math.inf)\n",
    "\n",
    "inf = math.inf\n",
    "print(inf, inf-1) #always infinity"
   ]
  },
  {
   "cell_type": "markdown",
   "metadata": {
    "id": "aCJKaTpJ68aT"
   },
   "source": [
    "## Infinite generator\n",
    "You could make an infinite loop with a yield or use float('inf')) as the counter for more versatility  \n",
    "(You can use a smaller number if you desire a certain number of elements)  \n",
    "Bounded generator was used in documentation - https://wiki.python.org/moin/Generators  \n",
    "This stopping point allows you to do things like get the sum."
   ]
  },
  {
   "cell_type": "code",
   "execution_count": null,
   "metadata": {
    "id": "lQhD2EkE68aT",
    "outputId": "d13651ee-e7ef-46bf-ace4-c9eb112c5a00"
   },
   "outputs": [
    {
     "name": "stdout",
     "output_type": "stream",
     "text": [
      "0 1 1 2 3 5 8 13 21 34 55 89 144 "
     ]
    }
   ],
   "source": [
    "import math\n",
    "\n",
    "def fib(count):\n",
    "    a, b = 0, 1\n",
    "    while count:\n",
    "        yield a\n",
    "        a, b, = b, b + a\n",
    "        count -= 1\n",
    "\n",
    "f = fib(math.inf)\n",
    "for i in f:\n",
    "    if i >= 200: break\n",
    "    print(i, end=\" \")\n",
    "    i += 1"
   ]
  },
  {
   "cell_type": "markdown",
   "metadata": {
    "id": "QcEfGiqR68aT"
   },
   "source": [
    "## list from generator"
   ]
  },
  {
   "cell_type": "code",
   "execution_count": null,
   "metadata": {
    "id": "0Rt8IOlv68aU",
    "outputId": "02c52345-e702-4c43-c60a-4a24a3b80e1c"
   },
   "outputs": [
    {
     "name": "stdout",
     "output_type": "stream",
     "text": [
      "[0.0, 1.0, 1.0, 1.414, 1.732, 2.236, 2.828, 3.606, 4.583, 5.831]\n"
     ]
    }
   ],
   "source": [
    "import math\n",
    "\n",
    "def fib(count):\n",
    "    a, b = 0, 1\n",
    "    while count:\n",
    "        yield a\n",
    "        a, b, = b, b + a\n",
    "        count -= 1\n",
    "        \n",
    "f = fib(10)\n",
    "data = [round(math.sqrt(i), 3) for i in f]\n",
    "print(data)"
   ]
  },
  {
   "cell_type": "markdown",
   "metadata": {
    "id": "YJquDt3O68aU"
   },
   "source": [
    "## itertools for simple infinite generator\n",
    "The generator function could be simpler without having to take a max count property  \n",
    "This can be done easily with itertools. "
   ]
  },
  {
   "cell_type": "code",
   "execution_count": null,
   "metadata": {
    "id": "0ziNG2uJ68aU",
    "outputId": "ed53a655-84ba-4507-9894-e4afafc77413"
   },
   "outputs": [
    {
     "name": "stdout",
     "output_type": "stream",
     "text": [
      "[0, 1, 1, 2, 3, 5, 8, 13, 21, 34, 55, 89, 144, 233, 377, 610, 987, 1597, 2584, 4181]\n"
     ]
    }
   ],
   "source": [
    "import itertools\n",
    "\n",
    "def fib():\n",
    "    a, b = 0, 1\n",
    "    while True:\n",
    "        yield a\n",
    "        a, b, = b, b + a\n",
    "        \n",
    "print(list(itertools.islice(fib(), 20)))"
   ]
  },
  {
   "cell_type": "markdown",
   "metadata": {
    "id": "v9Ihopom68aU"
   },
   "source": [
    "## Iterate through custom type with __iter__"
   ]
  },
  {
   "cell_type": "code",
   "execution_count": null,
   "metadata": {
    "id": "RI0fEOib68aU",
    "outputId": "cdb4c6c5-db3c-4c68-f272-6cdf8df70096"
   },
   "outputs": [
    {
     "name": "stdout",
     "output_type": "stream",
     "text": [
      "5\n",
      "10\n",
      "15\n",
      "20\n"
     ]
    }
   ],
   "source": [
    "class Node:\n",
    "    def __init__(self, data, next_node=None):\n",
    "        self.data = data\n",
    "        self.next = next_node\n",
    "\n",
    "class LinkedList:\n",
    "\n",
    "    def __init__(self, start):\n",
    "        self.start = start\n",
    "    \n",
    "    def __iter__(self):\n",
    "        node = self.start\n",
    "        while node:\n",
    "            yield node\n",
    "            node = node.next\n",
    "            \n",
    "ll = LinkedList(Node(5, Node(10, Node(15, Node(20)))))\n",
    "for node in ll:\n",
    "    print(node.data)"
   ]
  },
  {
   "cell_type": "markdown",
   "metadata": {
    "id": "ELHJ4Zx168aU"
   },
   "source": [
    "## Falsey for custom types (not)"
   ]
  },
  {
   "cell_type": "code",
   "execution_count": null,
   "metadata": {
    "id": "2svLYXmZ68aU",
    "outputId": "70ee1849-e7ee-4b11-dd7d-587431ffcf69"
   },
   "outputs": [
    {
     "name": "stdout",
     "output_type": "stream",
     "text": [
      "True\n",
      "True\n",
      "4\n",
      "True\n"
     ]
    }
   ],
   "source": [
    "print(not []) #true because it's empty\n",
    "print(len([]) == 0) #This is how not is evaluated\n",
    "\n",
    "def __len__(self):\n",
    "        count = 0\n",
    "        for i in self:\n",
    "            count += 1\n",
    "        return count\n",
    "    \n",
    "\n",
    "LinkedList.__len__ = __len__\n",
    "            \n",
    "    \n",
    "ll = LinkedList(Node(5, Node(10, Node(15, Node(20)))))\n",
    "print(len(ll))\n",
    "ll = LinkedList(None)\n",
    "print(not ll)"
   ]
  },
  {
   "cell_type": "markdown",
   "metadata": {
    "id": "Iz4e0KfO68aV"
   },
   "source": [
    "## Combine two lists as a list of lists. "
   ]
  },
  {
   "cell_type": "code",
   "execution_count": null,
   "metadata": {
    "id": "GYGnGNgu68aV",
    "outputId": "8f2a89a2-4f96-46fc-dae4-3868b167d5cd"
   },
   "outputs": [
    {
     "name": "stdout",
     "output_type": "stream",
     "text": [
      "[('Caleb', 100), ('Corey', 250), ('Chris', 30), ('Samantha', 600)]\n"
     ]
    }
   ],
   "source": [
    "names = ['Caleb', 'Corey', 'Chris', 'Samantha']\n",
    "points = [100, 250, 30, 600]\n",
    "\n",
    "zipped = list(zip(names, points))\n",
    "\n",
    "print(zipped)"
   ]
  },
  {
   "cell_type": "markdown",
   "metadata": {
    "id": "A8psXJ5b68aV"
   },
   "source": [
    "## Convert list of tuples to list of lists"
   ]
  },
  {
   "cell_type": "code",
   "execution_count": null,
   "metadata": {
    "id": "fKDhSRzw68aV",
    "outputId": "f77a6ee1-92a8-4114-8fcf-f8287bd55de1"
   },
   "outputs": [
    {
     "name": "stdout",
     "output_type": "stream",
     "text": [
      "[['Caleb', 100], ['Corey', 250], ['Chris', 30], ['Samantha', 600]]\n"
     ]
    }
   ],
   "source": [
    "names = ['Caleb', 'Corey', 'Chris', 'Samantha']\n",
    "points = [100, 250, 30, 600]\n",
    "\n",
    "zipped = list(zip(names, points))\n",
    "\n",
    "data = [list(item) for item in zipped]\n",
    "print(data)"
   ]
  },
  {
   "cell_type": "markdown",
   "metadata": {
    "id": "9YtMzZWy68aV"
   },
   "source": [
    "## Preserving all data when zipping with zip_longest"
   ]
  },
  {
   "cell_type": "code",
   "execution_count": null,
   "metadata": {
    "id": "jS8MzWEJ68aV",
    "outputId": "a3222b30-a57c-419e-93eb-b45c7aff4597"
   },
   "outputs": [
    {
     "name": "stdout",
     "output_type": "stream",
     "text": [
      "[('Caleb', 100), ('Corey', 250), ('Chris', 30), ('Samantha', 600)]\n",
      "[('Caleb', 100), ('Corey', 250), ('Chris', 30), ('Samantha', 600), ('Hannah', None), ('Kelly', None)]\n"
     ]
    }
   ],
   "source": [
    "names = ['Caleb', 'Corey', 'Chris', 'Samantha', \"Hannah\", \"Kelly\"]\n",
    "points = [100, 250, 30, 600]\n",
    "zipped = list(zip(names, points))\n",
    "print(zipped)\n",
    "\n",
    "from itertools import zip_longest\n",
    "names = ['Caleb', 'Corey', 'Chris', 'Samantha', \"Hannah\", \"Kelly\"]\n",
    "points = [100, 250, 30, 600]\n",
    "\n",
    "zipped = list(zip_longest(names, points))\n",
    "\n",
    "print(zipped)"
   ]
  },
  {
   "cell_type": "markdown",
   "metadata": {
    "id": "8CreQH2968aW"
   },
   "source": [
    "## Default Arguments"
   ]
  },
  {
   "cell_type": "code",
   "execution_count": null,
   "metadata": {
    "id": "X5Zz-mC068aW",
    "outputId": "9b5e0d91-94cf-4358-b1df-43c0ea4e2724"
   },
   "outputs": [
    {
     "name": "stdout",
     "output_type": "stream",
     "text": [
      "[['Caleb', 100], ['Corey', 250], ['Chris', 30], ['Samantha', 600], ['Hannah', None], ['Kelly', None]]\n"
     ]
    }
   ],
   "source": [
    "from itertools import zip_longest\n",
    "\n",
    "\n",
    "def zip_lists(list1=[], list2=[], longest=True):\n",
    "    if longest:\n",
    "        return [list(item) for item in zip_longest(list1, list2)]\n",
    "    else:\n",
    "        return [list(item) for item in zip(list1, list2)]\n",
    "    \n",
    "names = ['Caleb', 'Corey', 'Chris', 'Samantha', \"Hannah\", \"Kelly\"]\n",
    "points = [100, 250, 30, 600]\n",
    "\n",
    "print(zip_lists(names, points))"
   ]
  },
  {
   "cell_type": "markdown",
   "metadata": {
    "id": "CFPjoHFw68aW"
   },
   "source": [
    "## Keyword Arguments\n",
    "\n",
    "When you have default values, you can pass arugments by name\n",
    "positional arguments must remain on the left\n",
    "You can pass named arguments in any order and can skip them even."
   ]
  },
  {
   "cell_type": "code",
   "execution_count": null,
   "metadata": {
    "id": "DbKml-GY68aW",
    "outputId": "f8d0cfac-082a-47ea-b647-21cffa8e5db1"
   },
   "outputs": [
    {
     "name": "stdout",
     "output_type": "stream",
     "text": [
      "[[None, 'Caleb']]\n"
     ]
    }
   ],
   "source": [
    "from itertools import zip_longest\n",
    "\n",
    "\n",
    "def zip_lists(list1=[], list2=[], longest=True):\n",
    "    if longest:\n",
    "        return [list(item) for item in zip_longest(list1, list2)]\n",
    "    else:\n",
    "        return [list(item) for item in zip(list1, list2)]\n",
    "\n",
    "\n",
    "print(zip_lists(longest=True, list2=['Caleb']))"
   ]
  },
  {
   "cell_type": "markdown",
   "metadata": {
    "id": "W22011Sa68aW"
   },
   "source": [
    "## Get the Python version"
   ]
  },
  {
   "cell_type": "code",
   "execution_count": null,
   "metadata": {
    "colab": {
     "base_uri": "https://localhost:8080/"
    },
    "id": "XhwZuV1x68aW",
    "outputId": "521f567f-899f-4e8f-c1c3-9c5cb81b0430"
   },
   "outputs": [
    {
     "name": "stdout",
     "output_type": "stream",
     "text": [
      "3.8.16\n"
     ]
    }
   ],
   "source": [
    "from platform import python_version\n",
    "\n",
    "print(python_version())"
   ]
  },
  {
   "cell_type": "code",
   "execution_count": null,
   "metadata": {
    "colab": {
     "base_uri": "https://localhost:8080/",
     "height": 36
    },
    "id": "w6etm7vh7Dow",
    "outputId": "6608308b-6a9e-4221-c153-ba0c6c052c17"
   },
   "outputs": [
    {
     "data": {
      "application/vnd.google.colaboratory.intrinsic+json": {
       "type": "string"
      },
      "text/plain": [
       "'3.8.16 (default, Dec  7 2022, 01:12:13) \\n[GCC 7.5.0]'"
      ]
     },
     "execution_count": 1,
     "metadata": {},
     "output_type": "execute_result"
    }
   ],
   "source": [
    "import sys\n",
    "sys.version"
   ]
  },
  {
   "cell_type": "markdown",
   "metadata": {
    "id": "ylbI_zgL2jLF"
   },
   "source": [
    "#Usage of '_' underscore"
   ]
  },
  {
   "cell_type": "code",
   "execution_count": null,
   "metadata": {
    "colab": {
     "base_uri": "https://localhost:8080/"
    },
    "id": "D262na6i7J3C",
    "outputId": "b8188865-0afe-45af-cda6-67b5e0813ff5"
   },
   "outputs": [
    {
     "name": "stdout",
     "output_type": "stream",
     "text": [
      "1\n",
      "2\n",
      "10\n"
     ]
    }
   ],
   "source": [
    "a, b = (1, 2) \n",
    "print(a)\n",
    "print(b)\n",
    "a, _ = (10, 20) # underscore helps in ignoring unused values to get stored in a variable\n",
    "print(a)"
   ]
  },
  {
   "cell_type": "code",
   "execution_count": null,
   "metadata": {
    "colab": {
     "base_uri": "https://localhost:8080/"
    },
    "id": "4AuELxLY2xQi",
    "outputId": "82fa95c3-738a-48a5-c71e-ec6a34514996"
   },
   "outputs": [
    {
     "name": "stdout",
     "output_type": "stream",
     "text": [
      "1 2 [3, 4, 5]\n",
      "1 2\n",
      "1 2 [3, 4, 5, 6] 7\n",
      "1 2 [3, 4, 5] 6 7\n"
     ]
    }
   ],
   "source": [
    "a, b, *c = (1, 2, 3, 4, 5)\n",
    "print(a, b, c)\n",
    "\n",
    "# a, b, c = (1, 2, 3, 4, 5) is an error\n",
    "a, b, *_ = (1, 2, 3, 4, 5) # to ignore the remaining\n",
    "print(a, b)\n",
    "a, b, *c, d = (1, 2, 3, 4, 5, 6, 7) \n",
    "# here d stores only the last value, a stores 1st value, \n",
    "# b stores 2nd value, the rest are stored in c as it packs the value\n",
    "# into a list\n",
    "print(a, b, c, d)\n",
    "a, b, *c, d, e = (1, 2, 3, 4, 5, 6, 7) # here 'e' stores last value, 'd' stores last but one value \n",
    "print(a, b, c, d, e)"
   ]
  },
  {
   "cell_type": "markdown",
   "metadata": {
    "id": "vH_bN1nn4FCx"
   },
   "source": [
    "#usage of *setattr()* function"
   ]
  },
  {
   "cell_type": "code",
   "execution_count": null,
   "metadata": {
    "colab": {
     "base_uri": "https://localhost:8080/"
    },
    "id": "3zRmxIVG3DBh",
    "outputId": "8ae12d97-d8c5-4878-f857-f984bf56fcd5"
   },
   "outputs": [
    {
     "name": "stdout",
     "output_type": "stream",
     "text": [
      "corey\n"
     ]
    }
   ],
   "source": [
    "class Person(object):\n",
    "  pass\n",
    "person = Person()\n",
    "first_key = 'first'\n",
    "first_value = 'corey'\n",
    "\n",
    "setattr(person, first_key, first_value) # setattr(object, attribute, value)\n",
    "print(person.first)"
   ]
  },
  {
   "cell_type": "markdown",
   "metadata": {
    "id": "nJc25YiN4sbQ"
   },
   "source": [
    "#usage of getattr() function"
   ]
  },
  {
   "cell_type": "code",
   "execution_count": null,
   "metadata": {
    "colab": {
     "base_uri": "https://localhost:8080/"
    },
    "id": "_6xdELHd4qhR",
    "outputId": "17818266-5363-4648-a76f-ab041da88bc4"
   },
   "outputs": [
    {
     "name": "stdout",
     "output_type": "stream",
     "text": [
      "corey\n"
     ]
    }
   ],
   "source": [
    "first = getattr(person, first_key) # getattr(object, attribute)\n",
    "print(first)"
   ]
  },
  {
   "cell_type": "code",
   "execution_count": null,
   "metadata": {
    "colab": {
     "base_uri": "https://localhost:8080/"
    },
    "id": "viCPNobG5AT5",
    "outputId": "5a14e33f-df7b-4bdf-e4e7-8a60134ee4fd"
   },
   "outputs": [
    {
     "name": "stdout",
     "output_type": "stream",
     "text": [
      "Corey\n",
      "schafer\n"
     ]
    }
   ],
   "source": [
    "class Person(object):\n",
    "  pass\n",
    "person = Person()\n",
    "person_info = {\n",
    "    'first' : 'Corey',\n",
    "    'last' : 'schafer'\n",
    "}\n",
    "for key, value in person_info.items():\n",
    "  setattr(person, key, value)\n",
    "# print(person.first)\n",
    "# print(person.last) \n",
    "# or\n",
    "for key in person_info:\n",
    "  print(getattr(person, key))\n"
   ]
  },
  {
   "cell_type": "markdown",
   "metadata": {
    "id": "4ntgldLf9jqF"
   },
   "source": [
    "#password"
   ]
  },
  {
   "cell_type": "code",
   "execution_count": null,
   "metadata": {
    "colab": {
     "base_uri": "https://localhost:8080/"
    },
    "id": "ICx15dbd80pR",
    "outputId": "d26b606e-f0e5-4451-fd73-dbb8c18f0356"
   },
   "outputs": [
    {
     "name": "stdout",
     "output_type": "stream",
     "text": [
      "Username : BALAJI GANESH\n",
      "Password : ··········\n",
      "Logging in .......\n"
     ]
    }
   ],
   "source": [
    "from getpass import getpass\n",
    "username = input(\"Username : \")\n",
    "password = getpass(\"Password : \")\n",
    "print(\"Logging in .......\")"
   ]
  },
  {
   "cell_type": "markdown",
   "metadata": {
    "id": "BntdtGGM_FEe"
   },
   "source": [
    "#find the most frequent item in a list"
   ]
  },
  {
   "cell_type": "code",
   "execution_count": null,
   "metadata": {
    "colab": {
     "base_uri": "https://localhost:8080/"
    },
    "id": "c-OeERKS-p6q",
    "outputId": "f035a539-a8d7-4398-b94a-31a45ce3c13e"
   },
   "outputs": [
    {
     "name": "stdout",
     "output_type": "stream",
     "text": [
      "5\n"
     ]
    }
   ],
   "source": [
    "l = [1, 2, 3, 4, 5, 5, 6, 7, 8]\n",
    "print(max(set(l), key=l.count))"
   ]
  },
  {
   "cell_type": "markdown",
   "metadata": {
    "id": "hP3QY05A_R-R"
   },
   "source": [
    "# Counter function"
   ]
  },
  {
   "cell_type": "code",
   "execution_count": null,
   "metadata": {
    "colab": {
     "base_uri": "https://localhost:8080/"
    },
    "id": "1jn9d7Xa_Qen",
    "outputId": "3a33436b-e6e7-4993-c02e-7324283da6c3"
   },
   "outputs": [
    {
     "name": "stdout",
     "output_type": "stream",
     "text": [
      "Counter({9: 3, 10: 2, 5: 1, 2: 1})\n"
     ]
    }
   ],
   "source": [
    "from collections import Counter\n",
    "my_list = [10, 10, 5, 2, 9, 9, 9]\n",
    "counter = Counter(my_list)\n",
    "print(counter)"
   ]
  },
  {
   "cell_type": "markdown",
   "metadata": {
    "id": "f9Jxz1Ki_mp3"
   },
   "source": [
    "# for documentation"
   ]
  },
  {
   "cell_type": "code",
   "execution_count": null,
   "metadata": {
    "id": "xVED2a2x_iV2"
   },
   "outputs": [],
   "source": [
    "help(str)"
   ]
  },
  {
   "cell_type": "markdown",
   "metadata": {
    "id": "9kM2fohv_rt9"
   },
   "source": [
    "#for implemented methods and functions"
   ]
  },
  {
   "cell_type": "code",
   "execution_count": null,
   "metadata": {
    "id": "gy7mQOZ4_qNG"
   },
   "outputs": [],
   "source": [
    "dir(str)"
   ]
  },
  {
   "cell_type": "markdown",
   "metadata": {},
   "source": [
    "## module string"
   ]
  },
  {
   "cell_type": "code",
   "execution_count": 1,
   "metadata": {},
   "outputs": [],
   "source": [
    "import string"
   ]
  },
  {
   "cell_type": "code",
   "execution_count": 3,
   "metadata": {},
   "outputs": [
    {
     "data": {
      "text/plain": [
       "'ABCDEFGHIJKLMNOPQRSTUVWXYZ'"
      ]
     },
     "execution_count": 3,
     "metadata": {},
     "output_type": "execute_result"
    }
   ],
   "source": [
    "string.ascii_uppercase # returns all the alphabets in uppercase"
   ]
  },
  {
   "cell_type": "code",
   "execution_count": 4,
   "metadata": {},
   "outputs": [
    {
     "data": {
      "text/plain": [
       "'abcdefghijklmnopqrstuvwxyz'"
      ]
     },
     "execution_count": 4,
     "metadata": {},
     "output_type": "execute_result"
    }
   ],
   "source": [
    "string.ascii_lowercase # returns all the alphabets in lowercase"
   ]
  },
  {
   "cell_type": "code",
   "execution_count": 6,
   "metadata": {},
   "outputs": [
    {
     "data": {
      "text/plain": [
       "'0123456789'"
      ]
     },
     "execution_count": 6,
     "metadata": {},
     "output_type": "execute_result"
    }
   ],
   "source": [
    "string.digits # returns all the digits in a string"
   ]
  },
  {
   "cell_type": "code",
   "execution_count": 8,
   "metadata": {},
   "outputs": [
    {
     "data": {
      "text/plain": [
       "'!\"#$%&\\'()*+,-./:;<=>?@[\\\\]^_`{|}~'"
      ]
     },
     "execution_count": 8,
     "metadata": {},
     "output_type": "execute_result"
    }
   ],
   "source": [
    "string.punctuation # returns all the punctuations in a string"
   ]
  },
  {
   "cell_type": "code",
   "execution_count": 9,
   "metadata": {},
   "outputs": [
    {
     "data": {
      "text/plain": [
       "'abcdefghijklmnopqrstuvwxyzABCDEFGHIJKLMNOPQRSTUVWXYZ'"
      ]
     },
     "execution_count": 9,
     "metadata": {},
     "output_type": "execute_result"
    }
   ],
   "source": [
    "string.ascii_letters # returns all the alphabets"
   ]
  },
  {
   "cell_type": "code",
   "execution_count": 10,
   "metadata": {},
   "outputs": [
    {
     "data": {
      "text/plain": [
       "'0123456789abcdefghijklmnopqrstuvwxyzABCDEFGHIJKLMNOPQRSTUVWXYZ!\"#$%&\\'()*+,-./:;<=>?@[\\\\]^_`{|}~ \\t\\n\\r\\x0b\\x0c'"
      ]
     },
     "execution_count": 10,
     "metadata": {},
     "output_type": "execute_result"
    }
   ],
   "source": [
    "string.printable"
   ]
  },
  {
   "cell_type": "code",
   "execution_count": 11,
   "metadata": {},
   "outputs": [
    {
     "data": {
      "text/plain": [
       "'0123456789abcdefABCDEF'"
      ]
     },
     "execution_count": 11,
     "metadata": {},
     "output_type": "execute_result"
    }
   ],
   "source": [
    "string.hexdigits"
   ]
  },
  {
   "cell_type": "code",
   "execution_count": 12,
   "metadata": {},
   "outputs": [
    {
     "data": {
      "text/plain": [
       "'01234567'"
      ]
     },
     "execution_count": 12,
     "metadata": {},
     "output_type": "execute_result"
    }
   ],
   "source": [
    "string.octdigits"
   ]
  }
 ],
 "metadata": {
  "colab": {
   "provenance": []
  },
  "kernelspec": {
   "display_name": "Python 3 (ipykernel)",
   "language": "python",
   "name": "python3"
  },
  "language_info": {
   "codemirror_mode": {
    "name": "ipython",
    "version": 3
   },
   "file_extension": ".py",
   "mimetype": "text/x-python",
   "name": "python",
   "nbconvert_exporter": "python",
   "pygments_lexer": "ipython3",
   "version": "3.9.13"
  }
 },
 "nbformat": 4,
 "nbformat_minor": 1
}
