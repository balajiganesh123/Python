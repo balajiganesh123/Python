{
 "cells": [
  {
   "cell_type": "markdown",
   "id": "7358232a",
   "metadata": {
    "id": "7358232a"
   },
   "source": [
    "# Inheritance((Is-A Relation))"
   ]
  },
  {
   "cell_type": "markdown",
   "id": "uHMYKPBNFZYf",
   "metadata": {
    "id": "uHMYKPBNFZYf"
   },
   "source": [
    "__This python notebook include a full closure on inheritance__"
   ]
  },
  {
   "cell_type": "markdown",
   "id": "3f4c90b3",
   "metadata": {
    "id": "3f4c90b3"
   },
   "source": [
    "It is a concept of Object-Oriented Programming. Inheritance is a mechanism that allows us to inherit all the properties from another class. The class from which the properties and functionalities are utilized is called the parent class (also called as Base Class). The class which uses the properties from another class is called as Child Class (also known as Derived class). Inheritance is also called an Is-A Relation. "
   ]
  },
  {
   "cell_type": "markdown",
   "id": "bf6e4bb7",
   "metadata": {
    "id": "bf6e4bb7"
   },
   "source": [
    "In the figure above, classes are represented as boxes. The inheritance relationship is represented by an arrow pointing from Derived Class(Child Class) to Base Class(Parent Class). The extends keyword denotes that the Child Class is inherited or derived from Parent Class. "
   ]
  },
  {
   "cell_type": "markdown",
   "id": "aa123d72",
   "metadata": {
    "id": "aa123d72"
   },
   "source": [
    "for more info - https://www.geeksforgeeks.org/inheritance-and-composition-in-python/"
   ]
  },
  {
   "cell_type": "markdown",
   "id": "d74821c5",
   "metadata": {
    "id": "d74821c5"
   },
   "source": [
    "Syntax :   \n",
    "\n",
    "### Parent class\n",
    "class Parent :        \n",
    "           # Constructor\n",
    "           # Variables of Parent class\n",
    "\n",
    "           # Methods\n",
    "           ...\n",
    "\n",
    "           ...\n",
    "\n",
    "\n",
    "### Child class inheriting Parent class \n",
    "class Child(Parent) :  \n",
    "           # constructor of child class\n",
    "           # variables of child class\n",
    "           # methods of child class\n",
    "\n",
    "           ...\n",
    "\n",
    "           ... "
   ]
  },
  {
   "cell_type": "code",
   "execution_count": null,
   "id": "85bc1988",
   "metadata": {
    "id": "85bc1988",
    "outputId": "13d18efd-3b6a-488d-95f4-e0159a8c68dc"
   },
   "outputs": [
    {
     "name": "stdout",
     "output_type": "stream",
     "text": [
      "Child Class object created...\n",
      "Parent Class Method called...\n",
      "Child Class Method called...\n"
     ]
    }
   ],
   "source": [
    "# parent class\n",
    "class Parent:\n",
    "\n",
    "\t# parent class method\n",
    "\tdef m1(self):\n",
    "\t\tprint('Parent Class Method called...')\n",
    "\n",
    "# child class inheriting parent class\n",
    "class Child(Parent):\n",
    "\n",
    "\t# child class constructor\n",
    "\tdef __init__(self):\n",
    "\t\tprint('Child Class object created...')\n",
    "\n",
    "\t# child class method\n",
    "\tdef m2(self):\n",
    "\t\tprint('Child Class Method called...')\n",
    "\n",
    "\n",
    "# creating object of child class\n",
    "obj = Child()\n",
    "\n",
    "# calling parent class m1() method\n",
    "obj.m1()\n",
    "\n",
    "# calling child class m2() method\n",
    "obj.m2()"
   ]
  },
  {
   "cell_type": "markdown",
   "id": "7fd412af",
   "metadata": {
    "id": "7fd412af"
   },
   "source": [
    "## Terminolgies\n",
    "\n",
    "1. super class - sub class\n",
    "2. existing class - derived class\n",
    "3. parent class - child class"
   ]
  },
  {
   "cell_type": "markdown",
   "id": "252946d5",
   "metadata": {
    "id": "252946d5"
   },
   "source": [
    "## Types of Inheritance in Python\n",
    "\n",
    "Types of Inheritance depend upon the number of child and parent classes involved. There are four types of inheritance in Python:"
   ]
  },
  {
   "cell_type": "markdown",
   "id": "e437d417",
   "metadata": {
    "id": "e437d417"
   },
   "source": [
    "__1. Single Inheritance:__ "
   ]
  },
  {
   "cell_type": "markdown",
   "id": "f526fc25",
   "metadata": {
    "id": "f526fc25"
   },
   "source": [
    "Single inheritance enables a derived class to inherit properties from a single parent class, thus enabling code reusability and the addition of new features to existing code."
   ]
  },
  {
   "cell_type": "markdown",
   "id": "7fa172b1",
   "metadata": {
    "id": "7fa172b1"
   },
   "source": [
    "![inheritance11.png](attachment:inheritance11.png)"
   ]
  },
  {
   "cell_type": "code",
   "execution_count": null,
   "id": "b1cd903d",
   "metadata": {
    "id": "b1cd903d"
   },
   "outputs": [],
   "source": [
    "# Python program to demonstrate\n",
    "# single inheritance\n",
    "\n",
    "# Base class\n",
    "class Parent:\n",
    "\tdef func1(self):\n",
    "\t\tprint(\"This function is in parent class.\")\n",
    "\n",
    "# Derived class\n",
    "\n",
    "\n",
    "class Child(Parent):\n",
    "\tdef func2(self):\n",
    "\t\tprint(\"This function is in child class.\")\n",
    "\n",
    "\n",
    "# Driver's code\n",
    "object = Child()\n",
    "object.func1()\n",
    "object.func2()"
   ]
  },
  {
   "cell_type": "markdown",
   "id": "4d41a461",
   "metadata": {
    "id": "4d41a461"
   },
   "source": [
    "__2. Multiple Inheritance:__\n",
    "\n",
    "When a class can be derived from more than one base class this type of inheritance is called multiple inheritances. In multiple inheritances, all the features of the base classes are inherited into the derived class. "
   ]
  },
  {
   "cell_type": "markdown",
   "id": "a5686ec6",
   "metadata": {
    "id": "a5686ec6"
   },
   "source": [
    "![inheritance11.png](attachment:inheritance11.png)"
   ]
  },
  {
   "cell_type": "code",
   "execution_count": null,
   "id": "e30fb997",
   "metadata": {
    "id": "e30fb997"
   },
   "outputs": [],
   "source": [
    "# Python program to demonstrate\n",
    "# multiple inheritance\n",
    "\n",
    "# Base class1\n",
    "class Mother:\n",
    "\tmothername = \"\"\n",
    "\n",
    "\tdef mother(self):\n",
    "\t\tprint(self.mothername)\n",
    "\n",
    "# Base class2\n",
    "\n",
    "\n",
    "class Father:\n",
    "\tfathername = \"\"\n",
    "\n",
    "\tdef father(self):\n",
    "\t\tprint(self.fathername)\n",
    "\n",
    "# Derived class\n",
    "\n",
    "\n",
    "class Son(Mother, Father):\n",
    "\tdef parents(self):\n",
    "\t\tprint(\"Father :\", self.fathername)\n",
    "\t\tprint(\"Mother :\", self.mothername)\n",
    "\n",
    "\n",
    "# Driver's code\n",
    "s1 = Son()\n",
    "s1.fathername = \"RAM\"\n",
    "s1.mothername = \"SITA\"\n",
    "s1.parents()"
   ]
  },
  {
   "cell_type": "markdown",
   "id": "6638cf34",
   "metadata": {
    "id": "6638cf34"
   },
   "source": [
    "__3. Multilevel Inheritance :__\n",
    "\n",
    "In multilevel inheritance, features of the base class and the derived class are further inherited into the new derived class. This is similar to a relationship representing a child and a grandfather. "
   ]
  },
  {
   "cell_type": "markdown",
   "id": "5fe3dda6",
   "metadata": {
    "id": "5fe3dda6"
   },
   "source": [
    "![inheritance11.png](attachment:inheritance11.png)"
   ]
  },
  {
   "cell_type": "code",
   "execution_count": null,
   "id": "c3e8bf15",
   "metadata": {
    "id": "c3e8bf15",
    "outputId": "7543de8d-5ba7-493e-d6e2-7129accdd16a"
   },
   "outputs": [
    {
     "name": "stdout",
     "output_type": "stream",
     "text": [
      "Lal mani\n",
      "Grandfather name : Lal mani\n",
      "Father name : Rampal\n",
      "Son name : Prince\n"
     ]
    }
   ],
   "source": [
    "# Python program to demonstrate\n",
    "# multilevel inheritance\n",
    "\n",
    "# Base class\n",
    "\n",
    "\n",
    "class Grandfather:\n",
    "\n",
    "\tdef __init__(self, grandfathername):\n",
    "\t\tself.grandfathername = grandfathername\n",
    "\n",
    "# Intermediate class\n",
    "\n",
    "\n",
    "class Father(Grandfather):\n",
    "\tdef __init__(self, fathername, grandfathername):\n",
    "\t\tself.fathername = fathername\n",
    "\n",
    "\t\t# invoking constructor of Grandfather class\n",
    "\t\tGrandfather.__init__(self, grandfathername)\n",
    "\n",
    "# Derived class\n",
    "\n",
    "\n",
    "class Son(Father):\n",
    "\tdef __init__(self, sonname, fathername, grandfathername):\n",
    "\t\tself.sonname = sonname\n",
    "\n",
    "\t\t# invoking constructor of Father class\n",
    "\t\tFather.__init__(self, fathername, grandfathername)\n",
    "\n",
    "\tdef print_name(self):\n",
    "\t\tprint('Grandfather name :', self.grandfathername)\n",
    "\t\tprint(\"Father name :\", self.fathername)\n",
    "\t\tprint(\"Son name :\", self.sonname)\n",
    "\n",
    "\n",
    "# Driver code\n",
    "s1 = Son('Prince', 'Rampal', 'Lal mani')\n",
    "print(s1.grandfathername)\n",
    "s1.print_name()"
   ]
  },
  {
   "cell_type": "markdown",
   "id": "68932275",
   "metadata": {
    "id": "68932275"
   },
   "source": [
    "__4. Hierarchical Inheritance:__ \n",
    "\n",
    "__5. Hybrid Inheritance:__"
   ]
  },
  {
   "cell_type": "markdown",
   "id": "3df5b448",
   "metadata": {
    "id": "3df5b448"
   },
   "source": [
    "# Constructor in inheritance"
   ]
  },
  {
   "cell_type": "code",
   "execution_count": null,
   "id": "4cc92783",
   "metadata": {
    "id": "4cc92783",
    "outputId": "25ebb72c-2ea3-4037-9caf-accc5363a84e"
   },
   "outputs": [
    {
     "name": "stdout",
     "output_type": "stream",
     "text": [
      "Inside A init method\n",
      "Inside A init method\n"
     ]
    }
   ],
   "source": [
    "class A(object):\n",
    "\n",
    "    def __init__(self):\n",
    "        print(\"Inside A init method\")\n",
    "\n",
    "    def feature1(self):\n",
    "        print(\"Feature 1 is working\")\n",
    "\n",
    "class B(A):\n",
    "\n",
    "    def feature2(self):\n",
    "        print(\"Feature 2 is working\")\n",
    "        \n",
    "\n",
    "a1 = A()\n",
    "b1 = B()"
   ]
  },
  {
   "cell_type": "markdown",
   "id": "3632fd84",
   "metadata": {
    "id": "3632fd84"
   },
   "source": [
    "- Above code shows the behaviour of constructor in inheritance.\n",
    "- (16th line) Since child class doesn't have its own constructor, it tends to call parent class ___init___ method \n",
    "- (15th line) is quite obvious it calls parent class init method "
   ]
  },
  {
   "cell_type": "code",
   "execution_count": null,
   "id": "4631e6d2",
   "metadata": {
    "id": "4631e6d2"
   },
   "outputs": [],
   "source": [
    "class A(object):\n",
    "\n",
    "    def __init__(self):\n",
    "        print(\"Inside A init method\")\n",
    "\n",
    "    def feature1(self):\n",
    "        print(\"Feature 1 is working\")\n",
    "\n",
    "class B(A):\n",
    "\n",
    "    def __init__(self):\n",
    "        print(\"Inside B init method\")\n",
    "        \n",
    "    def feature2(self):\n",
    "        print(\"Feature 2 is working\")\n",
    "        \n",
    "\n",
    "b1 = B()"
   ]
  },
  {
   "cell_type": "markdown",
   "id": "71557999",
   "metadata": {
    "id": "71557999"
   },
   "source": [
    "- Above code shows the behaviour of constructor in inheritance.\n",
    "- When both classes is contained with its own constructos, child class object creation calls only child class ____init____ method"
   ]
  },
  {
   "cell_type": "markdown",
   "id": "cccf1e05",
   "metadata": {
    "id": "cccf1e05"
   },
   "source": [
    "### How can you call parent class init method with constructors in both the classes? "
   ]
  },
  {
   "cell_type": "markdown",
   "id": "e4ce7a38",
   "metadata": {
    "id": "e4ce7a38"
   },
   "source": [
    "## __super()__ function\n",
    "\n",
    "for more info - https://www.geeksforgeeks.org/python-super/"
   ]
  },
  {
   "cell_type": "markdown",
   "id": "65c4e359",
   "metadata": {
    "id": "65c4e359"
   },
   "source": [
    "This is used to access all the stuff of super class from its sub class\n",
    "\n",
    "The Python super() function returns objects represented in the parent’s class and is very useful in  multiple and multilevel inheritances to find which class the child class is extending first."
   ]
  },
  {
   "cell_type": "code",
   "execution_count": null,
   "id": "3fa74376",
   "metadata": {
    "id": "3fa74376",
    "outputId": "68ab19a8-2ef0-4963-f2e4-2397fd247663"
   },
   "outputs": [
    {
     "name": "stdout",
     "output_type": "stream",
     "text": [
      "Inside A init method\n",
      "Inside B init method\n"
     ]
    }
   ],
   "source": [
    "class A(object):\n",
    "\n",
    "    def __init__(self):\n",
    "        print(\"Inside A init method\")\n",
    "\n",
    "    def feature1(self):\n",
    "        print(\"Feature 1 is working\")\n",
    "\n",
    "class B(A):\n",
    "\n",
    "    def __init__(self):\n",
    "        super().__init__()\n",
    "        print(\"Inside B init method\")\n",
    "        \n",
    "    def feature2(self):\n",
    "        print(\"Feature 2 is working\")\n",
    "        \n",
    "\n",
    "b1 = B()"
   ]
  },
  {
   "cell_type": "code",
   "execution_count": null,
   "id": "3e97645d",
   "metadata": {
    "id": "3e97645d"
   },
   "outputs": [],
   "source": [
    "class Emp():\n",
    "\tdef __init__(self, id, name, Add):\n",
    "\t\tself.id = id\n",
    "\t\tself.name = name\n",
    "\t\tself.Add = Add\n",
    "\n",
    "# Class freelancer inherits EMP\n",
    "class Freelance(Emp):\n",
    "\tdef __init__(self, id, name, Add, Emails):\n",
    "\t\tsuper().__init__(id, name, Add)\n",
    "\t\tself.Emails = Emails\n",
    "\n",
    "Emp_1 = Freelance(103, \"Suraj kr gupta\", \"Noida\" , \"KKK@gmails\")\n",
    "print('The ID is:', Emp_1.id)\n",
    "print('The Name is:', Emp_1.name)\n",
    "print('The Address is:', Emp_1.Add)\n",
    "print('The Emails is:', Emp_1.Emails)"
   ]
  },
  {
   "cell_type": "markdown",
   "id": "3a5b735e",
   "metadata": {
    "id": "3a5b735e"
   },
   "source": [
    "### Understanding Python super() with __init__() methods\n",
    "Python has a reserved method called “__init__.” In Object-Oriented Programming, it is referred to as a constructor. When this method is called it allows the class to initialize the attributes of the class. In an inherited subclass, a parent class can be referred with the use of the super() function. The super function returns a temporary object of the superclass that allows access to all of its methods to its child class."
   ]
  },
  {
   "cell_type": "markdown",
   "id": "1bb54ccf",
   "metadata": {
    "id": "1bb54ccf"
   },
   "source": [
    "### The benefits of using a super() function are:\n",
    "\n",
    "Need not remember or specify the parent class name to access its methods. This function can be used both in single and multiple inheritances.\n",
    "This implements modularity (isolating changes) and code reusability as there is no need to rewrite the entire function.\n",
    "Super function in Python is called dynamically because Python is a dynamic language, unlike other languages."
   ]
  },
  {
   "cell_type": "markdown",
   "id": "64cfb335",
   "metadata": {
    "id": "64cfb335"
   },
   "source": [
    "### Super function in single inheritance \n",
    "Let’s take the example of animals. Dogs, cats, and cows are part of animals. They also share common characteristics like –  \n",
    "\n",
    "They are mammals.\n",
    "They have a tail and four legs.\n",
    "They are domestic animals.\n",
    "So, the classes dogs, cats, and horses are a subclass of animal class. This is an example of single inheritance because many subclasses is inherited from a single parent class."
   ]
  },
  {
   "cell_type": "code",
   "execution_count": null,
   "id": "7da5de74",
   "metadata": {
    "id": "7da5de74"
   },
   "outputs": [],
   "source": [
    "# Python program to demonstrate\n",
    "# super function\n",
    "\n",
    "class Animals:\n",
    "\t# Initializing constructor\n",
    "\tdef __init__(self):\n",
    "\t\tself.legs = 4\n",
    "\t\tself.domestic = True\n",
    "\t\tself.tail = True\n",
    "\t\tself.mammals = True\n",
    "\n",
    "\tdef isMammal(self):\n",
    "\t\tif self.mammals:\n",
    "\t\t\tprint(\"It is a mammal.\")\n",
    "\n",
    "\tdef isDomestic(self):\n",
    "\t\tif self.domestic:\n",
    "\t\t\tprint(\"It is a domestic animal.\")\n",
    "\n",
    "class Dogs(Animals):\n",
    "\tdef __init__(self):\n",
    "\t\tsuper().__init__()\n",
    "\n",
    "\tdef isMammal(self):\n",
    "\t\tsuper().isMammal()\n",
    "\n",
    "class Horses(Animals):\n",
    "\tdef __init__(self):\n",
    "\t\tsuper().__init__()\n",
    "\n",
    "\tdef hasTailandLegs(self):\n",
    "\t\tif self.tail and self.legs == 4:\n",
    "\t\t\tprint(\"Has legs and tail\")\n",
    "\n",
    "# Driver code\n",
    "Tom = Dogs()\n",
    "Tom.isMammal()\n",
    "Bruno = Horses()\n",
    "Bruno.hasTailandLegs()"
   ]
  },
  {
   "cell_type": "markdown",
   "id": "c6377b6c",
   "metadata": {
    "id": "c6377b6c"
   },
   "source": [
    "### Super function in multiple inheritances\n",
    "Let’s take another example of a super function, Suppose a class canfly and canswim inherit from a mammal class and these classes are inherited by the animal class. So the animal class inherits from the multiple base classes. Let’s see the use of Python super with arguments in this case"
   ]
  },
  {
   "cell_type": "code",
   "execution_count": null,
   "id": "4bccb6b9",
   "metadata": {
    "id": "4bccb6b9"
   },
   "outputs": [],
   "source": [
    "class Mammal():\n",
    "\n",
    "\tdef __init__(self, name):\n",
    "\t\tprint(name, \"Is a mammal\")\n",
    "\n",
    "class canFly(Mammal):\n",
    "\n",
    "\tdef __init__(self, canFly_name):\n",
    "\t\tprint(canFly_name, \"cannot fly\")\n",
    "\n",
    "\t\t# Calling Parent class\n",
    "\t\t# Constructor\n",
    "\t\tsuper().__init__(canFly_name)\n",
    "\n",
    "class canSwim(Mammal):\n",
    "\n",
    "\tdef __init__(self, canSwim_name):\n",
    "\n",
    "\t\tprint(canSwim_name, \"cannot swim\")\n",
    "\n",
    "\t\tsuper().__init__(canSwim_name)\n",
    "\n",
    "class Animal(canFly, canSwim):\n",
    "\n",
    "\tdef __init__(self, name):\n",
    "\t\tsuper().__init__(name)\n",
    "\n",
    "# Driver Code\n",
    "Carol = Animal(\"Dog\")"
   ]
  },
  {
   "cell_type": "markdown",
   "id": "73132de3",
   "metadata": {
    "id": "73132de3"
   },
   "source": [
    "The class Animal inherits from two-parent classes – canFly and canSwim. So, the subclass instance Carol can access both of the parent class constructors. "
   ]
  },
  {
   "cell_type": "markdown",
   "id": "bf96dbcd",
   "metadata": {
    "id": "bf96dbcd"
   },
   "source": [
    "# Method Resolution Order (MRO)"
   ]
  },
  {
   "cell_type": "markdown",
   "id": "51a1f737",
   "metadata": {
    "id": "51a1f737"
   },
   "source": [
    "Method Resolution Order(MRO) it denotes the way a programming language resolves a method or attribute. Python supports classes inheriting from other classes. The class being inherited is called the Parent or Superclass, while the class that inherits is called the Child or Subclass. In python, method resolution order defines the order in which the base classes are searched when executing a method. First, the method or attribute is searched within a class and then it follows the order we specified while inheriting. This order is also called Linearization of a class and set of rules are called MRO(Method Resolution Order). While inheriting from another class, the interpreter needs a way to resolve the methods that are being called via an instance. Thus we need the method resolution order. "
   ]
  },
  {
   "cell_type": "code",
   "execution_count": null,
   "id": "8c4c1a1b",
   "metadata": {
    "id": "8c4c1a1b",
    "outputId": "282bbbc0-a839-4506-b49d-23f7c2d06b01"
   },
   "outputs": [
    {
     "name": "stdout",
     "output_type": "stream",
     "text": [
      "Inside C init method\n"
     ]
    }
   ],
   "source": [
    "class A(object):\n",
    "\n",
    "    def __init__(self):\n",
    "        print(\"Inside A init method\")\n",
    "\n",
    "\n",
    "class B:\n",
    "\n",
    "    def __init__(self):\n",
    "        print(\"Inside B init method\")\n",
    "\n",
    "\n",
    "class C(A, B):\n",
    "\n",
    "    def __init__(self):\n",
    "        print(\"Inside C init method\")\n",
    "\n",
    "c1 = C()"
   ]
  },
  {
   "cell_type": "markdown",
   "id": "061a253f",
   "metadata": {
    "id": "061a253f"
   },
   "source": [
    "Above code shows the behaviour of __Multiple inheritance__"
   ]
  },
  {
   "cell_type": "markdown",
   "id": "772a9cbb",
   "metadata": {
    "id": "772a9cbb"
   },
   "source": [
    "__What if C class doesn't have a constructor ?__\n",
    "What class constructor gets called?\n",
    "lets see"
   ]
  },
  {
   "cell_type": "code",
   "execution_count": null,
   "id": "c068de34",
   "metadata": {
    "id": "c068de34",
    "outputId": "c613691c-a9b4-4d8d-c009-1c0d08780146"
   },
   "outputs": [
    {
     "name": "stdout",
     "output_type": "stream",
     "text": [
      "Inside A init method\n"
     ]
    }
   ],
   "source": [
    "class A(object):\n",
    "\n",
    "    def __init__(self):\n",
    "        print(\"Inside A init method\")\n",
    "\n",
    "\n",
    "class B:\n",
    "\n",
    "    def __init__(self):\n",
    "        print(\"Inside B init method\")\n",
    "\n",
    "\n",
    "class C(A, B):\n",
    "    pass\n",
    "#     def __init__(self):\n",
    "#         print(\"Inside C init method\")\n",
    "\n",
    "c1 = C()"
   ]
  },
  {
   "cell_type": "markdown",
   "id": "441941b9",
   "metadata": {
    "id": "441941b9"
   },
   "source": [
    "A class init method is called"
   ]
  },
  {
   "cell_type": "markdown",
   "id": "0fc58754",
   "metadata": {
    "id": "0fc58754"
   },
   "source": [
    "What is happening here is that whenever we have multiple inheritance, the priority of calling \n",
    "a constructor is from __left to right__ (A,B) here is the left most class so its init method gets called\n",
    "\n",
    "This is only right when sub class doesn't have nothing to do with its init method or constructor\n",
    "\n",
    "If sub class got a constructor priority doesn't matter, sub classes constructor gets called"
   ]
  },
  {
   "cell_type": "code",
   "execution_count": null,
   "id": "499ea01f",
   "metadata": {
    "id": "499ea01f",
    "outputId": "9431621d-ab36-49dd-c161-198aaee3af5c"
   },
   "outputs": [
    {
     "name": "stdout",
     "output_type": "stream",
     "text": [
      "Inside B init method\n"
     ]
    }
   ],
   "source": [
    "class A(object):\n",
    "    pass\n",
    "#     def __init__(self):\n",
    "#         print(\"Inside A init method\")\n",
    "\n",
    "\n",
    "class B:\n",
    "\n",
    "    def __init__(self):\n",
    "        print(\"Inside B init method\")\n",
    "\n",
    "\n",
    "class C(A, B):\n",
    "    pass\n",
    "#     def __init__(self):\n",
    "#         print(\"Inside C init method\")\n",
    "\n",
    "c1 = C()"
   ]
  },
  {
   "cell_type": "markdown",
   "id": "1e8ca28b",
   "metadata": {
    "id": "1e8ca28b"
   },
   "source": [
    "In the above code C class doesn't have a constructor. \n",
    "So the priority is checked from left to right\n",
    "1st it comes to A class, unfortunetly A class doesn't have a constructor, checking is further moved to B class.\n",
    "Does that have a construtor, Yes it does have.\n",
    "So it gets called"
   ]
  },
  {
   "cell_type": "markdown",
   "id": "ebf5ce3a",
   "metadata": {
    "id": "ebf5ce3a"
   },
   "source": [
    "Its same with methods too.\n",
    "If 3 classes have a common function, sub class function gets called.\n",
    "if only parent classes have a common function, it uses the left to right priority to call the function\n",
    "- case 1: when both have it, A class function gets executed\n",
    "- case 2: when only B class have it, B class function gets executed"
   ]
  },
  {
   "cell_type": "markdown",
   "id": "b336aacb",
   "metadata": {
    "id": "b336aacb"
   },
   "source": [
    "### This is called MRO(Method Resolution Order)"
   ]
  },
  {
   "cell_type": "code",
   "execution_count": null,
   "id": "d708d7fe",
   "metadata": {
    "id": "d708d7fe"
   },
   "outputs": [],
   "source": [
    "# Python program showing\n",
    "# how MRO works\n",
    "\n",
    "class A:\n",
    "\tdef rk(self):\n",
    "\t\tprint(\" In class A\")\n",
    "class B(A):\n",
    "\tdef rk(self):\n",
    "\t\tprint(\" In class B\")\n",
    "\n",
    "r = B()\n",
    "r.rk()"
   ]
  },
  {
   "cell_type": "markdown",
   "id": "9303357d",
   "metadata": {
    "id": "9303357d"
   },
   "source": [
    "In the above example the methods that are invoked is from class B but not from class A, and this is due to Method Resolution Order(MRO). \n",
    "The order that follows in the above code is- class B – > class A \n",
    "In multiple inheritances, the methods are executed based on the order specified while inheriting the classes. For the languages that support single inheritance, method resolution order is not interesting, but the languages that support multiple inheritance method resolution order plays a very crucial role. Let’s look over another example to deeply understand the method resolution order: "
   ]
  },
  {
   "cell_type": "code",
   "execution_count": null,
   "id": "bbd2c8fe",
   "metadata": {
    "id": "bbd2c8fe",
    "outputId": "22c1c71f-f24b-4f87-da14-6798a789d08f"
   },
   "outputs": [
    {
     "name": "stdout",
     "output_type": "stream",
     "text": [
      " In class B\n"
     ]
    }
   ],
   "source": [
    "# Python program showing\n",
    "# how MRO works\n",
    "\n",
    "class A:\n",
    "\tdef rk(self):\n",
    "\t\tprint(\" In class A\")\n",
    "class B(A):\n",
    "\tdef rk(self):\n",
    "\t\tprint(\" In class B\")\n",
    "class C(A):\n",
    "\tdef rk(self):\n",
    "\t\tprint(\"In class C\")\n",
    "\n",
    "# classes ordering\n",
    "class D(B, C):\n",
    "\tpass\n",
    "\t\n",
    "r = D()\n",
    "r.rk()"
   ]
  },
  {
   "cell_type": "markdown",
   "id": "a3b480d3",
   "metadata": {
    "id": "a3b480d3"
   },
   "source": [
    "In the above example we use multiple inheritances and it is also called Diamond inheritance and it looks as follows: "
   ]
  },
  {
   "cell_type": "markdown",
   "id": "1883a3ea",
   "metadata": {
    "id": "1883a3ea"
   },
   "source": [
    "![inheritance11.png](attachment:inheritance11.png)"
   ]
  },
  {
   "cell_type": "markdown",
   "id": "79f10130",
   "metadata": {
    "id": "79f10130"
   },
   "source": [
    "Python follows a depth-first lookup order and hence ends up calling the method from class A. By following the method resolution order, the lookup order as follows. \n",
    "Class D -> Class B -> Class C -> Class A \n",
    "Python follows depth-first order to resolve the methods and attributes. So in the above example, it executes the method in class B. "
   ]
  }
 ],
 "metadata": {
  "colab": {
   "provenance": []
  },
  "kernelspec": {
   "display_name": "Python 3 (ipykernel)",
   "language": "python",
   "name": "python3"
  },
  "language_info": {
   "codemirror_mode": {
    "name": "ipython",
    "version": 3
   },
   "file_extension": ".py",
   "mimetype": "text/x-python",
   "name": "python",
   "nbconvert_exporter": "python",
   "pygments_lexer": "ipython3",
   "version": "3.9.13"
  }
 },
 "nbformat": 4,
 "nbformat_minor": 5
}
