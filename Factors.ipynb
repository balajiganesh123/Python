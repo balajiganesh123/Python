{
  "nbformat": 4,
  "nbformat_minor": 0,
  "metadata": {
    "colab": {
      "provenance": []
    },
    "kernelspec": {
      "name": "python3",
      "display_name": "Python 3"
    },
    "language_info": {
      "name": "python"
    }
  },
  "cells": [
    {
      "cell_type": "markdown",
      "source": [
        "#Whether it is a prime"
      ],
      "metadata": {
        "id": "RhgAcDfuB9Nn"
      }
    },
    {
      "cell_type": "code",
      "source": [
        "def is_prime(n):\n",
        "  if n == 0 or n == 1:\n",
        "    return False\n",
        "  i = 2\n",
        "  while i * i <= n:\n",
        "    if n % i == 0:\n",
        "      return False\n",
        "    i += 1\n",
        "  return True"
      ],
      "metadata": {
        "id": "PYn9jySWCBnC"
      },
      "execution_count": null,
      "outputs": []
    },
    {
      "cell_type": "markdown",
      "source": [
        "#Factors of a number"
      ],
      "metadata": {
        "id": "o6Gk1DeBAMHV"
      }
    },
    {
      "cell_type": "code",
      "execution_count": null,
      "metadata": {
        "id": "OUAH5umJ7ARY"
      },
      "outputs": [],
      "source": [
        "def factors(n):\n",
        "  print(\"Factors are\", end=\" \")\n",
        "  for i in range(1, n + 1):\n",
        "    if n % i == 0:\n",
        "      print(i, end=\" \")"
      ]
    },
    {
      "cell_type": "code",
      "source": [
        "factors(100)"
      ],
      "metadata": {
        "colab": {
          "base_uri": "https://localhost:8080/"
        },
        "id": "IU1avsuP7a_5",
        "outputId": "6aaedd70-e797-4228-87f3-c0f598ad76d0"
      },
      "execution_count": null,
      "outputs": [
        {
          "output_type": "stream",
          "name": "stdout",
          "text": [
            "Factors are 1 2 4 5 10 20 25 50 100 "
          ]
        }
      ]
    },
    {
      "cell_type": "markdown",
      "source": [
        "#Even, Odd, Prime factors\n"
      ],
      "metadata": {
        "id": "mJNWixJZBTxv"
      }
    },
    {
      "cell_type": "code",
      "source": [
        "def even_odd_prime_factors(n):\n",
        "  even = list()\n",
        "  odd = list()\n",
        "  primes = list()\n",
        "  for i in range(1, n + 1):\n",
        "    if n % i == 0:\n",
        "      if i % 2 == 0:\n",
        "        even.append(i)\n",
        "      else:\n",
        "        if is_prime(i):\n",
        "          primes.append(i)\n",
        "        odd.append(i)\n",
        "  print(\"Even factors are\", even)\n",
        "  print(\"Odd factors are \", odd)\n",
        "  print(\"Prime factors are\", primes)"
      ],
      "metadata": {
        "id": "NWMCQ88wBXEc"
      },
      "execution_count": null,
      "outputs": []
    },
    {
      "cell_type": "code",
      "source": [
        "even_odd_prime_factors(100)"
      ],
      "metadata": {
        "colab": {
          "base_uri": "https://localhost:8080/"
        },
        "id": "ioUVCH9DBwcX",
        "outputId": "ee457aab-8921-4e39-cdbd-c105b2d67569"
      },
      "execution_count": null,
      "outputs": [
        {
          "output_type": "stream",
          "name": "stdout",
          "text": [
            "Even factors are [2, 4, 10, 20, 50, 100]\n",
            "Odd factors are  [1, 5, 25]\n",
            "Prime factors are [5]\n"
          ]
        }
      ]
    },
    {
      "cell_type": "markdown",
      "source": [
        "#**No of Factors**"
      ],
      "metadata": {
        "id": "wPufb2CmAc9w"
      }
    },
    {
      "cell_type": "code",
      "source": [
        "def no_of_factors(n):\n",
        "  i = 1\n",
        "  count = 0\n",
        "  while i * i < n:\n",
        "    if n % i == 0:\n",
        "      count += 2\n",
        "    i += 1\n",
        "  if i * i == n:\n",
        "    count += 1\n",
        "  print(\"Total no of factors are\", count)"
      ],
      "metadata": {
        "id": "l-b_0MYd7cWO"
      },
      "execution_count": null,
      "outputs": []
    },
    {
      "cell_type": "code",
      "source": [
        "no_of_factors(100)"
      ],
      "metadata": {
        "colab": {
          "base_uri": "https://localhost:8080/"
        },
        "id": "JT5GLUKm7-4N",
        "outputId": "16f42954-22d4-439b-928c-ae1cf10e7273"
      },
      "execution_count": null,
      "outputs": [
        {
          "output_type": "stream",
          "name": "stdout",
          "text": [
            "Total no of factors are 9\n"
          ]
        }
      ]
    },
    {
      "cell_type": "markdown",
      "source": [
        "#Sum of Factors, Odd factors, Even Factors"
      ],
      "metadata": {
        "id": "_Wrk9rjoAhGc"
      }
    },
    {
      "cell_type": "code",
      "source": [
        "def sum_of_even_odd_factors(n):\n",
        "  total = 0\n",
        "  even_total = 0\n",
        "  odd_total = 0\n",
        "  for i in range(1, n + 1):\n",
        "    if n % i == 0:\n",
        "      total += i\n",
        "      if i % 2 == 0:\n",
        "        even_total += i\n",
        "      else:\n",
        "        odd_total += i\n",
        "  print(\"Sum of Factors\", total)\n",
        "  print(\"Even sum of factors\", even_total)\n",
        "  print(\"Odd sum of factors\", odd_total)"
      ],
      "metadata": {
        "id": "PvSlhsc38A_d"
      },
      "execution_count": null,
      "outputs": []
    },
    {
      "cell_type": "code",
      "source": [
        "sum_of_even_odd_factors(100)"
      ],
      "metadata": {
        "colab": {
          "base_uri": "https://localhost:8080/"
        },
        "id": "LsW9NM6eAQDe",
        "outputId": "fc5a30a0-eb2e-4a2c-c712-378f9944abd0"
      },
      "execution_count": null,
      "outputs": [
        {
          "output_type": "stream",
          "name": "stdout",
          "text": [
            "Sum of Factors 217\n",
            "Even sum of factors 186\n",
            "Odd sum of factors 31\n"
          ]
        }
      ]
    },
    {
      "cell_type": "markdown",
      "source": [
        "#No of factors using primes"
      ],
      "metadata": {
        "id": "CLIIDd8wqLNK"
      }
    },
    {
      "cell_type": "code",
      "source": [
        "def no_of_factors_using_primes(n):\n",
        "  nfs = 1\n",
        "  i = 2\n",
        "  while i * i <= n:\n",
        "    if n % i == 0:\n",
        "      p = 0\n",
        "      while n % i == 0:\n",
        "        n = n // i\n",
        "        p += 1\n",
        "      nfs = nfs * (p + 1)\n",
        "    i += 1\n",
        "  if n > 1:\n",
        "    nfs *= 2\n",
        "  return nfs"
      ],
      "metadata": {
        "id": "Aew1xnSVqJPH"
      },
      "execution_count": null,
      "outputs": []
    },
    {
      "cell_type": "code",
      "source": [
        "def seive(start, end):\n",
        "  primes = [True] * (end + 1)\n",
        "  primes[0] = primes[1] = False\n",
        "  p = 2\n",
        "  while p * p <= end + 1:\n",
        "    if primes[p]:\n",
        "      for i in range(p * p, end + 1, p):\n",
        "        primes[i] = False\n",
        "    p += 1\n",
        "  \n",
        "  for j in range(start, end + 1):\n",
        "    if primes[j]:\n",
        "      print(j, end=\" \")"
      ],
      "metadata": {
        "id": "mxjxB-hKqTJV"
      },
      "execution_count": null,
      "outputs": []
    },
    {
      "cell_type": "code",
      "source": [
        "seive(10, 20)"
      ],
      "metadata": {
        "colab": {
          "base_uri": "https://localhost:8080/"
        },
        "id": "Odl9QYh_sRYk",
        "outputId": "c67b7d99-8e08-463b-a933-76be599cf5c9"
      },
      "execution_count": null,
      "outputs": [
        {
          "output_type": "stream",
          "name": "stdout",
          "text": [
            "11 13 17 19 "
          ]
        }
      ]
    },
    {
      "cell_type": "code",
      "source": [
        "def is_prime(n):\n",
        "  i = 2\n",
        "  while i * i <= n :\n",
        "    if n % i == 0:\n",
        "      return False\n",
        "    i += 1\n",
        "  return True"
      ],
      "metadata": {
        "id": "9P1UYvTXsSz0"
      },
      "execution_count": null,
      "outputs": []
    },
    {
      "cell_type": "code",
      "source": [
        "is_prime(101)"
      ],
      "metadata": {
        "colab": {
          "base_uri": "https://localhost:8080/"
        },
        "id": "Q7wVew1vuFmT",
        "outputId": "80a535cb-56ab-44de-88c3-f4a70c37f37c"
      },
      "execution_count": null,
      "outputs": [
        {
          "output_type": "execute_result",
          "data": {
            "text/plain": [
              "True"
            ]
          },
          "metadata": {},
          "execution_count": 13
        }
      ]
    },
    {
      "cell_type": "code",
      "source": [],
      "metadata": {
        "id": "hRSD803zuGtD"
      },
      "execution_count": null,
      "outputs": []
    }
  ]
}